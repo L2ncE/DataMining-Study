{
 "cells": [
  {
   "cell_type": "code",
   "execution_count": 1,
   "metadata": {
    "pycharm": {
     "name": "#%%\n"
    }
   },
   "outputs": [],
   "source": [
    "import numpy as np"
   ]
  },
  {
   "cell_type": "code",
   "execution_count": 2,
   "metadata": {
    "pycharm": {
     "name": "#%%\n"
    }
   },
   "outputs": [],
   "source": [
    "score = np.array([[80, 89, 86, 67, 79],\n",
    "                  [78, 97, 89, 67, 81],\n",
    "                  [90, 94, 78, 67, 74],\n",
    "                  [91, 91, 90, 67, 69],\n",
    "                  [76, 87, 75, 67, 86],\n",
    "                  [70, 79, 84, 67, 84],\n",
    "                  [94, 92, 93, 67, 64],\n",
    "                  [86, 85, 83, 67, 80]])"
   ]
  },
  {
   "cell_type": "code",
   "execution_count": 3,
   "metadata": {
    "pycharm": {
     "name": "#%%\n"
    }
   },
   "outputs": [
    {
     "data": {
      "text/plain": "array([[80, 89, 86, 67, 79],\n       [78, 97, 89, 67, 81],\n       [90, 94, 78, 67, 74],\n       [91, 91, 90, 67, 69],\n       [76, 87, 75, 67, 86],\n       [70, 79, 84, 67, 84],\n       [94, 92, 93, 67, 64],\n       [86, 85, 83, 67, 80]])"
     },
     "execution_count": 3,
     "metadata": {},
     "output_type": "execute_result"
    }
   ],
   "source": [
    "score"
   ]
  },
  {
   "cell_type": "code",
   "execution_count": 4,
   "metadata": {
    "pycharm": {
     "name": "#%%\n"
    }
   },
   "outputs": [
    {
     "data": {
      "text/plain": "numpy.ndarray"
     },
     "execution_count": 4,
     "metadata": {},
     "output_type": "execute_result"
    }
   ],
   "source": [
    "type(score)"
   ]
  },
  {
   "cell_type": "markdown",
   "metadata": {
    "pycharm": {
     "name": "#%% md\n"
    }
   },
   "source": [
    "### ndarray与Python原生list运算效率对比"
   ]
  },
  {
   "cell_type": "code",
   "execution_count": 5,
   "metadata": {
    "pycharm": {
     "name": "#%%\n"
    }
   },
   "outputs": [],
   "source": [
    "import random\n",
    "import time"
   ]
  },
  {
   "cell_type": "code",
   "execution_count": 6,
   "metadata": {
    "pycharm": {
     "name": "#%%\n"
    }
   },
   "outputs": [],
   "source": [
    "# 生成一个大数组\n",
    "python_list = []\n",
    "\n",
    "for i in range(100000000):\n",
    "    python_list.append(random.random())"
   ]
  },
  {
   "cell_type": "code",
   "execution_count": 7,
   "metadata": {
    "pycharm": {
     "name": "#%%\n"
    }
   },
   "outputs": [],
   "source": [
    "ndarray_list = np.array(python_list)"
   ]
  },
  {
   "cell_type": "code",
   "execution_count": 8,
   "metadata": {
    "pycharm": {
     "name": "#%%\n"
    }
   },
   "outputs": [
    {
     "data": {
      "text/plain": "100000000"
     },
     "execution_count": 8,
     "metadata": {},
     "output_type": "execute_result"
    }
   ],
   "source": [
    "len(ndarray_list)"
   ]
  },
  {
   "cell_type": "code",
   "execution_count": 9,
   "metadata": {
    "pycharm": {
     "name": "#%%\n"
    }
   },
   "outputs": [],
   "source": [
    "# 原生pythonlist求和\n",
    "t1 = time.time()\n",
    "a = sum(python_list)\n",
    "t2 = time.time()\n",
    "d1 = t2 - t1\n",
    "\n",
    "# ndarray求和\n",
    "t3 = time.time()\n",
    "b = np.sum(ndarray_list)\n",
    "t4 = time.time()\n",
    "d2 = t4 - t3"
   ]
  },
  {
   "cell_type": "code",
   "execution_count": 10,
   "metadata": {
    "pycharm": {
     "name": "#%%\n"
    }
   },
   "outputs": [
    {
     "data": {
      "text/plain": "0.3007500171661377"
     },
     "execution_count": 10,
     "metadata": {},
     "output_type": "execute_result"
    }
   ],
   "source": [
    "d1"
   ]
  },
  {
   "cell_type": "code",
   "execution_count": 11,
   "metadata": {
    "pycharm": {
     "name": "#%%\n"
    }
   },
   "outputs": [
    {
     "data": {
      "text/plain": "0.07008004188537598"
     },
     "execution_count": 11,
     "metadata": {},
     "output_type": "execute_result"
    }
   ],
   "source": [
    "d2"
   ]
  },
  {
   "cell_type": "markdown",
   "metadata": {
    "pycharm": {
     "name": "#%% md\n"
    }
   },
   "source": [
    "### ndarray的属性"
   ]
  },
  {
   "cell_type": "code",
   "execution_count": 12,
   "metadata": {
    "pycharm": {
     "name": "#%%\n"
    }
   },
   "outputs": [
    {
     "data": {
      "text/plain": "array([[80, 89, 86, 67, 79],\n       [78, 97, 89, 67, 81],\n       [90, 94, 78, 67, 74],\n       [91, 91, 90, 67, 69],\n       [76, 87, 75, 67, 86],\n       [70, 79, 84, 67, 84],\n       [94, 92, 93, 67, 64],\n       [86, 85, 83, 67, 80]])"
     },
     "execution_count": 12,
     "metadata": {},
     "output_type": "execute_result"
    }
   ],
   "source": [
    "score"
   ]
  },
  {
   "cell_type": "code",
   "execution_count": 13,
   "metadata": {
    "pycharm": {
     "name": "#%%\n"
    }
   },
   "outputs": [
    {
     "data": {
      "text/plain": "(8, 5)"
     },
     "execution_count": 13,
     "metadata": {},
     "output_type": "execute_result"
    }
   ],
   "source": [
    "score.shape  # (8, 5)"
   ]
  },
  {
   "cell_type": "code",
   "execution_count": 14,
   "metadata": {
    "pycharm": {
     "name": "#%%\n"
    }
   },
   "outputs": [
    {
     "data": {
      "text/plain": "2"
     },
     "execution_count": 14,
     "metadata": {},
     "output_type": "execute_result"
    }
   ],
   "source": [
    "score.ndim"
   ]
  },
  {
   "cell_type": "code",
   "execution_count": 15,
   "metadata": {
    "pycharm": {
     "name": "#%%\n"
    }
   },
   "outputs": [
    {
     "data": {
      "text/plain": "40"
     },
     "execution_count": 15,
     "metadata": {},
     "output_type": "execute_result"
    }
   ],
   "source": [
    "score.size"
   ]
  },
  {
   "cell_type": "code",
   "execution_count": 16,
   "metadata": {
    "pycharm": {
     "name": "#%%\n"
    }
   },
   "outputs": [
    {
     "data": {
      "text/plain": "dtype('int64')"
     },
     "execution_count": 16,
     "metadata": {},
     "output_type": "execute_result"
    }
   ],
   "source": [
    "score.dtype"
   ]
  },
  {
   "cell_type": "code",
   "execution_count": 17,
   "metadata": {
    "pycharm": {
     "name": "#%%\n"
    }
   },
   "outputs": [
    {
     "data": {
      "text/plain": "8"
     },
     "execution_count": 17,
     "metadata": {},
     "output_type": "execute_result"
    }
   ],
   "source": [
    "score.itemsize"
   ]
  },
  {
   "cell_type": "markdown",
   "metadata": {
    "pycharm": {
     "name": "#%% md\n"
    }
   },
   "source": [
    "### ndarray的形状"
   ]
  },
  {
   "cell_type": "code",
   "execution_count": 18,
   "metadata": {
    "pycharm": {
     "name": "#%%\n"
    }
   },
   "outputs": [],
   "source": [
    "a = np.array([[1, 2, 3], [4, 5, 6]])\n",
    "b = np.array([1, 2, 3, 4])\n",
    "c = np.array([[[1, 2, 3], [4, 5, 6]], [[1, 2, 3], [4, 5, 6]]])"
   ]
  },
  {
   "cell_type": "code",
   "execution_count": 19,
   "metadata": {
    "pycharm": {
     "name": "#%%\n"
    }
   },
   "outputs": [
    {
     "data": {
      "text/plain": "array([[1, 2, 3],\n       [4, 5, 6]])"
     },
     "execution_count": 19,
     "metadata": {},
     "output_type": "execute_result"
    }
   ],
   "source": [
    "a  # (2, 3)"
   ]
  },
  {
   "cell_type": "code",
   "execution_count": 20,
   "metadata": {
    "pycharm": {
     "name": "#%%\n"
    }
   },
   "outputs": [
    {
     "data": {
      "text/plain": "array([1, 2, 3, 4])"
     },
     "execution_count": 20,
     "metadata": {},
     "output_type": "execute_result"
    }
   ],
   "source": [
    "b  # (4,)"
   ]
  },
  {
   "cell_type": "code",
   "execution_count": 21,
   "metadata": {
    "pycharm": {
     "name": "#%%\n"
    }
   },
   "outputs": [
    {
     "data": {
      "text/plain": "array([[[1, 2, 3],\n        [4, 5, 6]],\n\n       [[1, 2, 3],\n        [4, 5, 6]]])"
     },
     "execution_count": 21,
     "metadata": {},
     "output_type": "execute_result"
    }
   ],
   "source": [
    "c  # (2, 2, 3)"
   ]
  },
  {
   "cell_type": "code",
   "execution_count": 22,
   "metadata": {
    "pycharm": {
     "name": "#%%\n"
    }
   },
   "outputs": [
    {
     "data": {
      "text/plain": "(2, 3)"
     },
     "execution_count": 22,
     "metadata": {},
     "output_type": "execute_result"
    }
   ],
   "source": [
    "a.shape"
   ]
  },
  {
   "cell_type": "code",
   "execution_count": 23,
   "metadata": {
    "pycharm": {
     "name": "#%%\n"
    }
   },
   "outputs": [
    {
     "data": {
      "text/plain": "(4,)"
     },
     "execution_count": 23,
     "metadata": {},
     "output_type": "execute_result"
    }
   ],
   "source": [
    "b.shape"
   ]
  },
  {
   "cell_type": "code",
   "execution_count": 24,
   "metadata": {
    "pycharm": {
     "name": "#%%\n"
    }
   },
   "outputs": [
    {
     "data": {
      "text/plain": "(2, 2, 3)"
     },
     "execution_count": 24,
     "metadata": {},
     "output_type": "execute_result"
    }
   ],
   "source": [
    "c.shape"
   ]
  },
  {
   "cell_type": "markdown",
   "metadata": {
    "pycharm": {
     "name": "#%% md\n"
    }
   },
   "source": [
    "### ndarray的类型"
   ]
  },
  {
   "cell_type": "code",
   "execution_count": 25,
   "metadata": {
    "pycharm": {
     "name": "#%%\n"
    }
   },
   "outputs": [],
   "source": [
    "data = np.array([1.1, 2.2, 3.3])"
   ]
  },
  {
   "cell_type": "code",
   "execution_count": 26,
   "metadata": {
    "pycharm": {
     "name": "#%%\n"
    }
   },
   "outputs": [
    {
     "data": {
      "text/plain": "array([1.1, 2.2, 3.3])"
     },
     "execution_count": 26,
     "metadata": {},
     "output_type": "execute_result"
    }
   ],
   "source": [
    "data"
   ]
  },
  {
   "cell_type": "code",
   "execution_count": 27,
   "metadata": {
    "pycharm": {
     "name": "#%%\n"
    }
   },
   "outputs": [
    {
     "data": {
      "text/plain": "dtype('float64')"
     },
     "execution_count": 27,
     "metadata": {},
     "output_type": "execute_result"
    }
   ],
   "source": [
    "data.dtype"
   ]
  },
  {
   "cell_type": "code",
   "execution_count": 28,
   "metadata": {
    "pycharm": {
     "name": "#%%\n"
    }
   },
   "outputs": [
    {
     "data": {
      "text/plain": "array([1.1, 2.2, 3.3], dtype=float32)"
     },
     "execution_count": 28,
     "metadata": {},
     "output_type": "execute_result"
    }
   ],
   "source": [
    "# 创建数组的时候指定类型\n",
    "np.array([1.1, 2.2, 3.3], dtype=\"float32\")"
   ]
  },
  {
   "cell_type": "code",
   "execution_count": 29,
   "metadata": {
    "pycharm": {
     "name": "#%%\n"
    }
   },
   "outputs": [
    {
     "data": {
      "text/plain": "array([1.1, 2.2, 3.3], dtype=float32)"
     },
     "execution_count": 29,
     "metadata": {},
     "output_type": "execute_result"
    }
   ],
   "source": [
    "np.array([1.1, 2.2, 3.3], dtype=np.float32)"
   ]
  },
  {
   "cell_type": "markdown",
   "metadata": {
    "pycharm": {
     "name": "#%% md\n"
    }
   },
   "source": [
    "### 生成数组的方法\n",
    "\n",
    "# 1 生成0和1的数组"
   ]
  },
  {
   "cell_type": "code",
   "execution_count": 30,
   "metadata": {
    "pycharm": {
     "name": "#%%\n"
    }
   },
   "outputs": [
    {
     "data": {
      "text/plain": "array([[0., 0., 0., 0.],\n       [0., 0., 0., 0.],\n       [0., 0., 0., 0.]], dtype=float32)"
     },
     "execution_count": 30,
     "metadata": {},
     "output_type": "execute_result"
    }
   ],
   "source": [
    "np.zeros(shape=(3, 4), dtype=\"float32\")"
   ]
  },
  {
   "cell_type": "code",
   "execution_count": 31,
   "metadata": {
    "pycharm": {
     "name": "#%%\n"
    }
   },
   "outputs": [
    {
     "data": {
      "text/plain": "array([[1, 1, 1],\n       [1, 1, 1]], dtype=int32)"
     },
     "execution_count": 31,
     "metadata": {},
     "output_type": "execute_result"
    }
   ],
   "source": [
    "np.ones(shape=[2, 3], dtype=np.int32)"
   ]
  },
  {
   "cell_type": "markdown",
   "source": [
    "### 2 从现有数组生成\n"
   ],
   "metadata": {
    "collapsed": false,
    "pycharm": {
     "name": "#%% md\n"
    }
   }
  },
  {
   "cell_type": "code",
   "execution_count": 32,
   "metadata": {
    "pycharm": {
     "name": "#%%\n"
    }
   },
   "outputs": [
    {
     "data": {
      "text/plain": "array([[80, 89, 86, 67, 79],\n       [78, 97, 89, 67, 81],\n       [90, 94, 78, 67, 74],\n       [91, 91, 90, 67, 69],\n       [76, 87, 75, 67, 86],\n       [70, 79, 84, 67, 84],\n       [94, 92, 93, 67, 64],\n       [86, 85, 83, 67, 80]])"
     },
     "execution_count": 32,
     "metadata": {},
     "output_type": "execute_result"
    }
   ],
   "source": [
    "score"
   ]
  },
  {
   "cell_type": "code",
   "execution_count": 33,
   "metadata": {
    "pycharm": {
     "name": "#%%\n"
    }
   },
   "outputs": [],
   "source": [
    "# np.array()\n",
    "data1 = np.array(score)"
   ]
  },
  {
   "cell_type": "code",
   "execution_count": 34,
   "metadata": {
    "pycharm": {
     "name": "#%%\n"
    }
   },
   "outputs": [
    {
     "data": {
      "text/plain": "array([[80, 89, 86, 67, 79],\n       [78, 97, 89, 67, 81],\n       [90, 94, 78, 67, 74],\n       [91, 91, 90, 67, 69],\n       [76, 87, 75, 67, 86],\n       [70, 79, 84, 67, 84],\n       [94, 92, 93, 67, 64],\n       [86, 85, 83, 67, 80]])"
     },
     "execution_count": 34,
     "metadata": {},
     "output_type": "execute_result"
    }
   ],
   "source": [
    "data1"
   ]
  },
  {
   "cell_type": "code",
   "execution_count": 35,
   "metadata": {
    "pycharm": {
     "name": "#%%\n"
    }
   },
   "outputs": [],
   "source": [
    "# np.asarray()\n",
    "data2 = np.asarray(score)"
   ]
  },
  {
   "cell_type": "code",
   "execution_count": 36,
   "metadata": {
    "pycharm": {
     "name": "#%%\n"
    }
   },
   "outputs": [
    {
     "data": {
      "text/plain": "array([[80, 89, 86, 67, 79],\n       [78, 97, 89, 67, 81],\n       [90, 94, 78, 67, 74],\n       [91, 91, 90, 67, 69],\n       [76, 87, 75, 67, 86],\n       [70, 79, 84, 67, 84],\n       [94, 92, 93, 67, 64],\n       [86, 85, 83, 67, 80]])"
     },
     "execution_count": 36,
     "metadata": {},
     "output_type": "execute_result"
    }
   ],
   "source": [
    "data2"
   ]
  },
  {
   "cell_type": "code",
   "execution_count": 37,
   "metadata": {
    "pycharm": {
     "name": "#%%\n"
    }
   },
   "outputs": [],
   "source": [
    "# np.copy()\n",
    "data3 = np.copy(score)"
   ]
  },
  {
   "cell_type": "code",
   "execution_count": 38,
   "metadata": {
    "pycharm": {
     "name": "#%%\n"
    }
   },
   "outputs": [
    {
     "data": {
      "text/plain": "array([[80, 89, 86, 67, 79],\n       [78, 97, 89, 67, 81],\n       [90, 94, 78, 67, 74],\n       [91, 91, 90, 67, 69],\n       [76, 87, 75, 67, 86],\n       [70, 79, 84, 67, 84],\n       [94, 92, 93, 67, 64],\n       [86, 85, 83, 67, 80]])"
     },
     "execution_count": 38,
     "metadata": {},
     "output_type": "execute_result"
    }
   ],
   "source": [
    "data3"
   ]
  },
  {
   "cell_type": "code",
   "execution_count": 39,
   "metadata": {
    "pycharm": {
     "name": "#%%\n"
    }
   },
   "outputs": [
    {
     "data": {
      "text/plain": "array([[80, 89, 86, 67, 79],\n       [78, 97, 89, 67, 81],\n       [90, 94, 78, 67, 74],\n       [91, 91, 90, 67, 69],\n       [76, 87, 75, 67, 86],\n       [70, 79, 84, 67, 84],\n       [94, 92, 93, 67, 64],\n       [86, 85, 83, 67, 80]])"
     },
     "execution_count": 39,
     "metadata": {},
     "output_type": "execute_result"
    }
   ],
   "source": [
    "score"
   ]
  },
  {
   "cell_type": "code",
   "execution_count": 40,
   "metadata": {
    "pycharm": {
     "name": "#%%\n"
    }
   },
   "outputs": [],
   "source": [
    "score[3, 1] = 10000"
   ]
  },
  {
   "cell_type": "code",
   "execution_count": 41,
   "metadata": {
    "pycharm": {
     "name": "#%%\n"
    }
   },
   "outputs": [
    {
     "data": {
      "text/plain": "array([[   80,    89,    86,    67,    79],\n       [   78,    97,    89,    67,    81],\n       [   90,    94,    78,    67,    74],\n       [   91, 10000,    90,    67,    69],\n       [   76,    87,    75,    67,    86],\n       [   70,    79,    84,    67,    84],\n       [   94,    92,    93,    67,    64],\n       [   86,    85,    83,    67,    80]])"
     },
     "execution_count": 41,
     "metadata": {},
     "output_type": "execute_result"
    }
   ],
   "source": [
    "score"
   ]
  },
  {
   "cell_type": "code",
   "execution_count": 42,
   "metadata": {
    "pycharm": {
     "name": "#%%\n"
    }
   },
   "outputs": [
    {
     "data": {
      "text/plain": "array([[80, 89, 86, 67, 79],\n       [78, 97, 89, 67, 81],\n       [90, 94, 78, 67, 74],\n       [91, 91, 90, 67, 69],\n       [76, 87, 75, 67, 86],\n       [70, 79, 84, 67, 84],\n       [94, 92, 93, 67, 64],\n       [86, 85, 83, 67, 80]])"
     },
     "execution_count": 42,
     "metadata": {},
     "output_type": "execute_result"
    }
   ],
   "source": [
    "data1"
   ]
  },
  {
   "cell_type": "code",
   "execution_count": 43,
   "metadata": {
    "pycharm": {
     "name": "#%%\n"
    }
   },
   "outputs": [
    {
     "data": {
      "text/plain": "array([[   80,    89,    86,    67,    79],\n       [   78,    97,    89,    67,    81],\n       [   90,    94,    78,    67,    74],\n       [   91, 10000,    90,    67,    69],\n       [   76,    87,    75,    67,    86],\n       [   70,    79,    84,    67,    84],\n       [   94,    92,    93,    67,    64],\n       [   86,    85,    83,    67,    80]])"
     },
     "execution_count": 43,
     "metadata": {},
     "output_type": "execute_result"
    }
   ],
   "source": [
    "data2"
   ]
  },
  {
   "cell_type": "code",
   "execution_count": 44,
   "metadata": {
    "pycharm": {
     "name": "#%%\n"
    }
   },
   "outputs": [
    {
     "data": {
      "text/plain": "array([[80, 89, 86, 67, 79],\n       [78, 97, 89, 67, 81],\n       [90, 94, 78, 67, 74],\n       [91, 91, 90, 67, 69],\n       [76, 87, 75, 67, 86],\n       [70, 79, 84, 67, 84],\n       [94, 92, 93, 67, 64],\n       [86, 85, 83, 67, 80]])"
     },
     "execution_count": 44,
     "metadata": {},
     "output_type": "execute_result"
    }
   ],
   "source": [
    "data3"
   ]
  },
  {
   "cell_type": "markdown",
   "metadata": {
    "pycharm": {
     "name": "#%% md\n"
    }
   },
   "source": [
    "### 3 生成固定范围的数组"
   ]
  },
  {
   "cell_type": "code",
   "execution_count": 45,
   "metadata": {
    "pycharm": {
     "name": "#%%\n"
    }
   },
   "outputs": [
    {
     "data": {
      "text/plain": "array([ 0. ,  2.5,  5. ,  7.5, 10. ])"
     },
     "execution_count": 45,
     "metadata": {},
     "output_type": "execute_result"
    }
   ],
   "source": [
    "np.linspace(0, 10, 5)"
   ]
  },
  {
   "cell_type": "code",
   "execution_count": 46,
   "metadata": {
    "pycharm": {
     "name": "#%%\n"
    }
   },
   "outputs": [
    {
     "data": {
      "text/plain": "array([ 0,  5, 10, 15, 20])"
     },
     "execution_count": 46,
     "metadata": {},
     "output_type": "execute_result"
    }
   ],
   "source": [
    "np.arange(0, 21, 5)"
   ]
  },
  {
   "cell_type": "markdown",
   "metadata": {
    "pycharm": {
     "name": "#%% md\n"
    }
   },
   "source": [
    "### 4 生成随机数组"
   ]
  },
  {
   "cell_type": "code",
   "execution_count": 47,
   "metadata": {
    "pycharm": {
     "name": "#%%\n"
    }
   },
   "outputs": [],
   "source": [
    "data1 = np.random.uniform(low=-1, high=1, size=1000000)"
   ]
  },
  {
   "cell_type": "code",
   "execution_count": 48,
   "metadata": {
    "pycharm": {
     "name": "#%%\n"
    }
   },
   "outputs": [
    {
     "data": {
      "text/plain": "array([-0.71158366, -0.74950877,  0.15876375, ...,  0.76520229,\n        0.64071715,  0.59968039])"
     },
     "execution_count": 48,
     "metadata": {},
     "output_type": "execute_result"
    }
   ],
   "source": [
    "data1"
   ]
  },
  {
   "cell_type": "code",
   "execution_count": 49,
   "metadata": {
    "pycharm": {
     "name": "#%%\n"
    }
   },
   "outputs": [],
   "source": [
    "import matplotlib.pyplot as plt"
   ]
  },
  {
   "cell_type": "code",
   "execution_count": 50,
   "metadata": {
    "pycharm": {
     "name": "#%%\n"
    }
   },
   "outputs": [
    {
     "data": {
      "text/plain": "<Figure size 1600x640 with 1 Axes>",
      "image/png": "[encoded data removed]"
     },
     "metadata": {},
     "output_type": "display_data"
    }
   ],
   "source": [
    "# 1、创建画布\n",
    "plt.figure(figsize=(20, 8), dpi=80)\n",
    "\n",
    "# 2、绘制直方图\n",
    "plt.hist(data1, 1000)\n",
    "\n",
    "# 3、显示图像\n",
    "plt.show()"
   ]
  },
  {
   "cell_type": "code",
   "execution_count": 51,
   "metadata": {
    "pycharm": {
     "name": "#%%\n"
    }
   },
   "outputs": [],
   "source": [
    "# 正态分布\n",
    "data2 = np.random.normal(loc=1.75, scale=0.1, size=1000000)"
   ]
  },
  {
   "cell_type": "code",
   "execution_count": 52,
   "metadata": {
    "pycharm": {
     "name": "#%%\n"
    }
   },
   "outputs": [
    {
     "data": {
      "text/plain": "array([1.6897404 , 1.89409312, 1.70409509, ..., 1.6670605 , 1.74237197,\n       1.67248103])"
     },
     "execution_count": 52,
     "metadata": {},
     "output_type": "execute_result"
    }
   ],
   "source": [
    "data2"
   ]
  },
  {
   "cell_type": "code",
   "execution_count": 53,
   "metadata": {
    "pycharm": {
     "name": "#%%\n"
    }
   },
   "outputs": [
    {
     "data": {
      "text/plain": "<Figure size 1600x640 with 1 Axes>",
      "image/png": "[encoded data removed]"
     },
     "metadata": {},
     "output_type": "display_data"
    }
   ],
   "source": [
    "# 1、创建画布\n",
    "plt.figure(figsize=(20, 8), dpi=80)\n",
    "\n",
    "# 2、绘制直方图\n",
    "plt.hist(data2, 1000)\n",
    "\n",
    "# 3、显示图像\n",
    "plt.show()"
   ]
  },
  {
   "cell_type": "markdown",
   "metadata": {
    "pycharm": {
     "name": "#%% md\n"
    }
   },
   "source": [
    "### 案例：随机生成8只股票2周的交易日涨幅数据"
   ]
  },
  {
   "cell_type": "code",
   "execution_count": 54,
   "metadata": {
    "pycharm": {
     "name": "#%%\n"
    }
   },
   "outputs": [],
   "source": [
    "stock_change = np.random.normal(loc=0, scale=1, size=(8, 10))"
   ]
  },
  {
   "cell_type": "code",
   "execution_count": 55,
   "metadata": {
    "pycharm": {
     "name": "#%%\n"
    }
   },
   "outputs": [
    {
     "data": {
      "text/plain": "array([[ 3.77660611e-01,  1.65335406e+00,  6.42596165e-01,\n         9.26163064e-01, -1.98760679e-01, -6.05954905e-01,\n         2.54811745e-01,  1.12880137e+00,  5.02333701e-01,\n        -1.29176898e+00],\n       [ 1.03589150e+00,  1.15534816e+00, -3.06345634e-03,\n         2.31954829e-01, -3.64820747e-01, -1.26298890e+00,\n         1.57408139e+00,  2.76309816e-02, -1.58984437e+00,\n        -7.72603374e-01],\n       [ 6.98539418e-01, -1.55510159e+00,  1.07482608e-01,\n        -8.87959145e-02, -2.71669891e-01, -7.10370108e-01,\n         7.14881792e-01,  9.43836518e-02, -4.11625728e-01,\n        -2.02560528e+00],\n       [ 3.38104696e-01,  2.76806006e+00, -9.74195890e-01,\n         5.31788307e-01,  2.95404066e-01,  2.56464902e+00,\n         4.07013603e-01,  1.46982313e+00, -1.38690595e+00,\n         1.37674029e+00],\n       [ 1.10013620e-01, -4.78505370e-01,  1.47115132e-03,\n        -2.47003493e-01,  8.02372138e-01, -1.48387446e+00,\n         1.90818584e+00,  1.57789017e+00,  1.33555262e+00,\n         1.71547477e+00],\n       [ 3.11126226e-01, -4.75033993e-01,  1.68495140e+00,\n         1.02140169e-01,  3.65793170e-01, -6.61589878e-01,\n         3.41577378e-01, -1.33155800e+00, -6.25083672e-01,\n         2.99086856e-01],\n       [-5.84156102e-01,  5.50028640e-01,  1.22092653e-01,\n         5.97446424e-01, -2.22725642e+00,  3.64882614e-01,\n         1.03021207e+00, -2.46435159e+00, -4.44819755e-01,\n         4.43390340e-01],\n       [-1.29584461e+00,  1.35333285e+00, -5.07912838e-02,\n        -2.51005291e-01, -4.21882036e-01, -8.54347264e-01,\n        -6.72275901e-01,  1.04589628e+00, -2.43472476e+00,\n        -9.93565730e-01]])"
     },
     "execution_count": 55,
     "metadata": {},
     "output_type": "execute_result"
    }
   ],
   "source": [
    "stock_change"
   ]
  },
  {
   "cell_type": "code",
   "execution_count": 56,
   "metadata": {
    "pycharm": {
     "name": "#%%\n"
    }
   },
   "outputs": [
    {
     "data": {
      "text/plain": "array([ 1.0358915 ,  1.15534816, -0.00306346])"
     },
     "execution_count": 56,
     "metadata": {},
     "output_type": "execute_result"
    }
   ],
   "source": [
    "# 获取第一个股票的前3个交易日的涨跌幅数据\n",
    "stock_change[1, :3]"
   ]
  },
  {
   "cell_type": "code",
   "execution_count": 57,
   "metadata": {
    "pycharm": {
     "name": "#%%\n"
    }
   },
   "outputs": [],
   "source": [
    "a1 = np.array([[[1, 2, 3], [4, 5, 6]], [[12, 3, 34], [5, 6, 7]]])"
   ]
  },
  {
   "cell_type": "code",
   "execution_count": 58,
   "metadata": {
    "pycharm": {
     "name": "#%%\n"
    }
   },
   "outputs": [
    {
     "data": {
      "text/plain": "array([[[ 1,  2,  3],\n        [ 4,  5,  6]],\n\n       [[12,  3, 34],\n        [ 5,  6,  7]]])"
     },
     "execution_count": 58,
     "metadata": {},
     "output_type": "execute_result"
    }
   ],
   "source": [
    "a1  # (2, 2, 3)"
   ]
  },
  {
   "cell_type": "code",
   "execution_count": 59,
   "metadata": {
    "pycharm": {
     "name": "#%%\n"
    }
   },
   "outputs": [
    {
     "data": {
      "text/plain": "(2, 2, 3)"
     },
     "execution_count": 59,
     "metadata": {},
     "output_type": "execute_result"
    }
   ],
   "source": [
    "a1.shape"
   ]
  },
  {
   "cell_type": "code",
   "execution_count": 60,
   "metadata": {
    "pycharm": {
     "name": "#%%\n"
    }
   },
   "outputs": [],
   "source": [
    "a1[1, 0, 2] = 100000"
   ]
  },
  {
   "cell_type": "code",
   "execution_count": 61,
   "metadata": {
    "pycharm": {
     "name": "#%%\n"
    }
   },
   "outputs": [
    {
     "data": {
      "text/plain": "array([[[     1,      2,      3],\n        [     4,      5,      6]],\n\n       [[    12,      3, 100000],\n        [     5,      6,      7]]])"
     },
     "execution_count": 61,
     "metadata": {},
     "output_type": "execute_result"
    }
   ],
   "source": [
    "a1"
   ]
  },
  {
   "cell_type": "markdown",
   "metadata": {
    "pycharm": {
     "name": "#%% md\n"
    }
   },
   "source": [
    "### 形状修改"
   ]
  },
  {
   "cell_type": "code",
   "execution_count": 62,
   "metadata": {
    "pycharm": {
     "name": "#%%\n"
    }
   },
   "outputs": [
    {
     "data": {
      "text/plain": "array([[ 3.77660611e-01,  1.65335406e+00,  6.42596165e-01,\n         9.26163064e-01, -1.98760679e-01, -6.05954905e-01,\n         2.54811745e-01,  1.12880137e+00,  5.02333701e-01,\n        -1.29176898e+00],\n       [ 1.03589150e+00,  1.15534816e+00, -3.06345634e-03,\n         2.31954829e-01, -3.64820747e-01, -1.26298890e+00,\n         1.57408139e+00,  2.76309816e-02, -1.58984437e+00,\n        -7.72603374e-01],\n       [ 6.98539418e-01, -1.55510159e+00,  1.07482608e-01,\n        -8.87959145e-02, -2.71669891e-01, -7.10370108e-01,\n         7.14881792e-01,  9.43836518e-02, -4.11625728e-01,\n        -2.02560528e+00],\n       [ 3.38104696e-01,  2.76806006e+00, -9.74195890e-01,\n         5.31788307e-01,  2.95404066e-01,  2.56464902e+00,\n         4.07013603e-01,  1.46982313e+00, -1.38690595e+00,\n         1.37674029e+00],\n       [ 1.10013620e-01, -4.78505370e-01,  1.47115132e-03,\n        -2.47003493e-01,  8.02372138e-01, -1.48387446e+00,\n         1.90818584e+00,  1.57789017e+00,  1.33555262e+00,\n         1.71547477e+00],\n       [ 3.11126226e-01, -4.75033993e-01,  1.68495140e+00,\n         1.02140169e-01,  3.65793170e-01, -6.61589878e-01,\n         3.41577378e-01, -1.33155800e+00, -6.25083672e-01,\n         2.99086856e-01],\n       [-5.84156102e-01,  5.50028640e-01,  1.22092653e-01,\n         5.97446424e-01, -2.22725642e+00,  3.64882614e-01,\n         1.03021207e+00, -2.46435159e+00, -4.44819755e-01,\n         4.43390340e-01],\n       [-1.29584461e+00,  1.35333285e+00, -5.07912838e-02,\n        -2.51005291e-01, -4.21882036e-01, -8.54347264e-01,\n        -6.72275901e-01,  1.04589628e+00, -2.43472476e+00,\n        -9.93565730e-01]])"
     },
     "execution_count": 62,
     "metadata": {},
     "output_type": "execute_result"
    }
   ],
   "source": [
    "# 需求：让刚才的股票行、日期列反过来，变成日期行，股票列\n",
    "stock_change"
   ]
  },
  {
   "cell_type": "code",
   "execution_count": 63,
   "metadata": {
    "pycharm": {
     "name": "#%%\n"
    }
   },
   "outputs": [
    {
     "data": {
      "text/plain": "array([[ 3.77660611e-01,  1.65335406e+00,  6.42596165e-01,\n         9.26163064e-01, -1.98760679e-01, -6.05954905e-01,\n         2.54811745e-01,  1.12880137e+00],\n       [ 5.02333701e-01, -1.29176898e+00,  1.03589150e+00,\n         1.15534816e+00, -3.06345634e-03,  2.31954829e-01,\n        -3.64820747e-01, -1.26298890e+00],\n       [ 1.57408139e+00,  2.76309816e-02, -1.58984437e+00,\n        -7.72603374e-01,  6.98539418e-01, -1.55510159e+00,\n         1.07482608e-01, -8.87959145e-02],\n       [-2.71669891e-01, -7.10370108e-01,  7.14881792e-01,\n         9.43836518e-02, -4.11625728e-01, -2.02560528e+00,\n         3.38104696e-01,  2.76806006e+00],\n       [-9.74195890e-01,  5.31788307e-01,  2.95404066e-01,\n         2.56464902e+00,  4.07013603e-01,  1.46982313e+00,\n        -1.38690595e+00,  1.37674029e+00],\n       [ 1.10013620e-01, -4.78505370e-01,  1.47115132e-03,\n        -2.47003493e-01,  8.02372138e-01, -1.48387446e+00,\n         1.90818584e+00,  1.57789017e+00],\n       [ 1.33555262e+00,  1.71547477e+00,  3.11126226e-01,\n        -4.75033993e-01,  1.68495140e+00,  1.02140169e-01,\n         3.65793170e-01, -6.61589878e-01],\n       [ 3.41577378e-01, -1.33155800e+00, -6.25083672e-01,\n         2.99086856e-01, -5.84156102e-01,  5.50028640e-01,\n         1.22092653e-01,  5.97446424e-01],\n       [-2.22725642e+00,  3.64882614e-01,  1.03021207e+00,\n        -2.46435159e+00, -4.44819755e-01,  4.43390340e-01,\n        -1.29584461e+00,  1.35333285e+00],\n       [-5.07912838e-02, -2.51005291e-01, -4.21882036e-01,\n        -8.54347264e-01, -6.72275901e-01,  1.04589628e+00,\n        -2.43472476e+00, -9.93565730e-01]])"
     },
     "execution_count": 63,
     "metadata": {},
     "output_type": "execute_result"
    }
   ],
   "source": [
    "stock_change.reshape((10, 8))  # 仅输出不报存"
   ]
  },
  {
   "cell_type": "code",
   "execution_count": 64,
   "metadata": {
    "pycharm": {
     "name": "#%%\n"
    }
   },
   "outputs": [],
   "source": [
    "stock_change.resize((10, 8))  # 仅保存不输出"
   ]
  },
  {
   "cell_type": "code",
   "execution_count": 65,
   "metadata": {
    "pycharm": {
     "name": "#%%\n"
    }
   },
   "outputs": [
    {
     "data": {
      "text/plain": "(10, 8)"
     },
     "execution_count": 65,
     "metadata": {},
     "output_type": "execute_result"
    }
   ],
   "source": [
    "stock_change.shape"
   ]
  },
  {
   "cell_type": "code",
   "execution_count": 66,
   "metadata": {
    "pycharm": {
     "name": "#%%\n"
    }
   },
   "outputs": [],
   "source": [
    "stock_change.resize((8, 10))  # 改回来"
   ]
  },
  {
   "cell_type": "code",
   "execution_count": 67,
   "metadata": {
    "pycharm": {
     "name": "#%%\n"
    }
   },
   "outputs": [
    {
     "data": {
      "text/plain": "array([[ 3.77660611e-01,  1.03589150e+00,  6.98539418e-01,\n         3.38104696e-01,  1.10013620e-01,  3.11126226e-01,\n        -5.84156102e-01, -1.29584461e+00],\n       [ 1.65335406e+00,  1.15534816e+00, -1.55510159e+00,\n         2.76806006e+00, -4.78505370e-01, -4.75033993e-01,\n         5.50028640e-01,  1.35333285e+00],\n       [ 6.42596165e-01, -3.06345634e-03,  1.07482608e-01,\n        -9.74195890e-01,  1.47115132e-03,  1.68495140e+00,\n         1.22092653e-01, -5.07912838e-02],\n       [ 9.26163064e-01,  2.31954829e-01, -8.87959145e-02,\n         5.31788307e-01, -2.47003493e-01,  1.02140169e-01,\n         5.97446424e-01, -2.51005291e-01],\n       [-1.98760679e-01, -3.64820747e-01, -2.71669891e-01,\n         2.95404066e-01,  8.02372138e-01,  3.65793170e-01,\n        -2.22725642e+00, -4.21882036e-01],\n       [-6.05954905e-01, -1.26298890e+00, -7.10370108e-01,\n         2.56464902e+00, -1.48387446e+00, -6.61589878e-01,\n         3.64882614e-01, -8.54347264e-01],\n       [ 2.54811745e-01,  1.57408139e+00,  7.14881792e-01,\n         4.07013603e-01,  1.90818584e+00,  3.41577378e-01,\n         1.03021207e+00, -6.72275901e-01],\n       [ 1.12880137e+00,  2.76309816e-02,  9.43836518e-02,\n         1.46982313e+00,  1.57789017e+00, -1.33155800e+00,\n        -2.46435159e+00,  1.04589628e+00],\n       [ 5.02333701e-01, -1.58984437e+00, -4.11625728e-01,\n        -1.38690595e+00,  1.33555262e+00, -6.25083672e-01,\n        -4.44819755e-01, -2.43472476e+00],\n       [-1.29176898e+00, -7.72603374e-01, -2.02560528e+00,\n         1.37674029e+00,  1.71547477e+00,  2.99086856e-01,\n         4.43390340e-01, -9.93565730e-01]])"
     },
     "execution_count": 67,
     "metadata": {},
     "output_type": "execute_result"
    }
   ],
   "source": [
    "stock_change.T  # 转置"
   ]
  },
  {
   "cell_type": "markdown",
   "metadata": {
    "pycharm": {
     "name": "#%% md\n"
    }
   },
   "source": [
    "### 类型修改"
   ]
  },
  {
   "cell_type": "code",
   "execution_count": 68,
   "metadata": {
    "pycharm": {
     "name": "#%%\n"
    }
   },
   "outputs": [
    {
     "data": {
      "text/plain": "array([[ 0,  1,  0,  0,  0,  0,  0,  1,  0, -1],\n       [ 1,  1,  0,  0,  0, -1,  1,  0, -1,  0],\n       [ 0, -1,  0,  0,  0,  0,  0,  0,  0, -2],\n       [ 0,  2,  0,  0,  0,  2,  0,  1, -1,  1],\n       [ 0,  0,  0,  0,  0, -1,  1,  1,  1,  1],\n       [ 0,  0,  1,  0,  0,  0,  0, -1,  0,  0],\n       [ 0,  0,  0,  0, -2,  0,  1, -2,  0,  0],\n       [-1,  1,  0,  0,  0,  0,  0,  1, -2,  0]], dtype=int32)"
     },
     "execution_count": 68,
     "metadata": {},
     "output_type": "execute_result"
    }
   ],
   "source": [
    "stock_change.astype(\"int32\")"
   ]
  },
  {
   "cell_type": "markdown",
   "source": [],
   "metadata": {
    "collapsed": false,
    "pycharm": {
     "name": "#%% md\n"
    }
   }
  },
  {
   "cell_type": "code",
   "execution_count": 69,
   "metadata": {
    "pycharm": {
     "name": "#%%\n"
    }
   },
   "outputs": [
    {
     "data": {
      "text/plain": "b'qT\\x97i\\x97+\\xd8?/\\xa2\\xbda#t\\xfa?\\x00\\xdd5\\xd5%\\x90\\xe4?Y\\xb3\\xf8\\xb8 \\xa3\\xed?6\\t\\x86k\\xfdp\\xc9\\xbfk\\xbek\\x8a\\xfbc\\xe3\\xbf\\xe0\\xdd\\xa5\\xeb\\xd5N\\xd0??\\xdc\\xd2\\x07\\x92\\x0f\\xf2?FA\\x02 \\x1e\\x13\\xe0?\\xf8\\xadq\\xf2\\x15\\xab\\xf4\\xbf\\x02\\xfd/\\xf6\\x02\\x93\\xf0?\\r\\xd5\\\\YN|\\xf2?\\xc2\\x9c\\xd2\\x99\\x88\\x18i\\xbf\\x14\\x9e)#\\xb2\\xb0\\xcd?\\xccb\\xd7\\x1d9Y\\xd7\\xbf\\xda%\\xa8\\xd935\\xf4\\xbf\\x0en`\\xf6o/\\xf9?\\xd8\\xec\\xbc\\xc8KK\\x9c?$\\xf8\\x86\\xa6\\x00p\\xf9\\xbfZ\\xd1\\x0c\\xb6*\\xb9\\xe8\\xbf\"FRVoZ\\xe6?\\x80\\x0cS3\\xb2\\xe1\\xf8\\xbf\\xd1\\x15f\\xef\\xfa\\x83\\xbb?\\xb5\\xe0\\xdf<T\\xbb\\xb6\\xbfA\\xb0\\x04\\x1c\\nc\\xd1\\xbf\\x08\\\\\\xcb\\x17Z\\xbb\\xe6\\xbf8Jk\\xc7O\\xe0\\xe6?\\xd0\\xb7\\xcf\\xe9\\x86)\\xb8?\\xf2\\xf7\\xd1o\\x13X\\xda\\xbfzY\\xe4\\x8ap4\\x00\\xc0\\x04)\\xb0\\xe0\\x81\\xa3\\xd5?\\xe0\\x8a\\x1f\\xac\\xfc$\\x06@\\xb8\\x03\\xe5\\xdb\\x9c,\\xef\\xbfR8\\x9b\\xe9h\\x04\\xe1?\\x18\\xef3t\\xe6\\xe7\\xd2?\\xdf\\xf1\\xed\\xb4f\\x84\\x04@\\xe5\\x82\\xa7\\xc8\\x82\\x0c\\xda?G\\xd7kCe\\x84\\xf7?\\xc2+\\x1dJ\\xc40\\xf6\\xbfb\\xda\\x8b\\xd4 \\x07\\xf6?\\xc4\\xecfD\\xda)\\xbc?\\xeb\\xb3,\\xfd\\xd4\\x9f\\xde\\xbf\\x11k\\x99\\xb4t\\x1aX?m\\xd3\\x02z\\xcf\\x9d\\xcf\\xbf`\\xe3\\x90U\\x08\\xad\\xe9?\\xa9w\\xdf%\\xf3\\xbd\\xf7\\xbf\\xfb\\x11\\x16\\xe0\\xed\\x87\\xfe?&\\x04\\x03\\xc3\\t?\\xf9?Q\\x9c\\xe0ll^\\xf5?t\\xd4\\xbb\\xac\\x95r\\xfb?7e|\\xf9}\\xe9\\xd3?\\xc7\\xa8X\\xfa\\xf4f\\xde\\xbf\\xde\\x87\\x0e\\x99\\x8f\\xf5\\xfa?\\xa6o\\xff\\xac\\xdb%\\xba?\\xcbj\\xc4\\xc1\\'i\\xd7?\\xf6r^\\x89\\xbe+\\xe5\\xbfT$\\xf1\\\\g\\xdc\\xd5?3<\\x9b\\xc3\\x0fN\\xf5\\xbf\\x94\\x0b\\xf2x\\xaf\\x00\\xe4\\xbf\\x83\\x81\\x062=$\\xd3?\\x81\\xceW#h\\xb1\\xe2\\xbf\\xbd\\xd2\\x96\\xa9\\xd5\\x99\\xe1?\\x02\\xef\\x0f\\xd0vA\\xbf?\\xc2\\xc7\\x82\\xf6G\\x1e\\xe3?\\xd1A\\xa0\\xd0k\\xd1\\x01\\xc0\\xa9B*\\x9b<Z\\xd7?,\\x1f\\xd1\\xa6\\xbf{\\xf0??a\\xd5\\xf7\\xfd\\xb6\\x03\\xc0v\\xce\\x0fG\\xedw\\xdc\\xbf\\xa7\\xf5\\x93\\xe0\\x81`\\xdc?\\x9b\\xe64\\x8f\\xc7\\xbb\\xf4\\xbf\\x9d\\x99\\xe8Y@\\xa7\\xf5?\\xfe\\xf3\\x7f\\xadP\\x01\\xaa\\xbf\\xb3\\xf5\\xb0~x\\x10\\xd0\\xbf_\\xec_\\x83\\x1d\\x00\\xdb\\xbf\\x93[\\xec\\x12\\xd0V\\xeb\\xbf\\xb6t\\x15\\xc0H\\x83\\xe5\\xbf\\xcb|\\xdf\\xbb\\xfd\\xbb\\xf0?\\xd5\\xdb\\x1b\\xfaPz\\x03\\xc0gV\\x80[J\\xcb\\xef\\xbf'"
     },
     "execution_count": 69,
     "metadata": {},
     "output_type": "execute_result"
    }
   ],
   "source": [
    "stock_change.tobytes()"
   ]
  },
  {
   "cell_type": "markdown",
   "metadata": {
    "pycharm": {
     "name": "#%% md\n"
    }
   },
   "source": [
    "### 数组的去重"
   ]
  },
  {
   "cell_type": "code",
   "execution_count": 70,
   "metadata": {
    "pycharm": {
     "name": "#%%\n"
    }
   },
   "outputs": [],
   "source": [
    "temp = np.array([[1, 2, 3, 4], [3, 4, 5, 6]])"
   ]
  },
  {
   "cell_type": "code",
   "execution_count": 71,
   "metadata": {
    "pycharm": {
     "name": "#%%\n"
    }
   },
   "outputs": [
    {
     "data": {
      "text/plain": "array([[1, 2, 3, 4],\n       [3, 4, 5, 6]])"
     },
     "execution_count": 71,
     "metadata": {},
     "output_type": "execute_result"
    }
   ],
   "source": [
    "temp"
   ]
  },
  {
   "cell_type": "code",
   "execution_count": 72,
   "metadata": {
    "pycharm": {
     "name": "#%%\n"
    }
   },
   "outputs": [
    {
     "data": {
      "text/plain": "array([1, 2, 3, 4, 5, 6])"
     },
     "execution_count": 72,
     "metadata": {},
     "output_type": "execute_result"
    }
   ],
   "source": [
    "np.unique(temp)"
   ]
  },
  {
   "cell_type": "code",
   "execution_count": 73,
   "metadata": {
    "pycharm": {
     "name": "#%%\n"
    }
   },
   "outputs": [
    {
     "data": {
      "text/plain": "{1, 2, 3, 4, 5, 6}"
     },
     "execution_count": 73,
     "metadata": {},
     "output_type": "execute_result"
    }
   ],
   "source": [
    "set(temp.flatten())  # 先变成一维的才能用set"
   ]
  },
  {
   "cell_type": "markdown",
   "metadata": {
    "pycharm": {
     "name": "#%% md\n"
    }
   },
   "source": [
    "### 逻辑运算"
   ]
  },
  {
   "cell_type": "code",
   "execution_count": 74,
   "metadata": {
    "pycharm": {
     "name": "#%%\n"
    }
   },
   "outputs": [],
   "source": [
    "stock_change = np.random.normal(loc=0, scale=1, size=(8, 10))"
   ]
  },
  {
   "cell_type": "code",
   "execution_count": 75,
   "metadata": {
    "pycharm": {
     "name": "#%%\n"
    }
   },
   "outputs": [
    {
     "data": {
      "text/plain": "array([[ 0.89645874,  1.45037927, -0.01620999,  2.09949884,  1.85993243,\n        -0.37292596,  1.71902613, -0.52602534, -0.83549712, -1.26605677],\n       [-0.72969931,  0.01288957,  0.88282703,  0.87208188,  0.50612155,\n         1.58175501,  0.04236072,  0.26521438,  0.3042681 , -0.34315946],\n       [-0.23597763,  0.89052316,  0.71693436,  0.96146532, -1.2500618 ,\n        -0.45546587, -1.4015062 , -0.32708862,  0.16733823, -1.35628827],\n       [-0.54845383,  0.29204192, -0.48656491,  1.80355475, -1.37148035,\n        -0.36061307, -0.97104768,  0.04412891, -1.41602417, -1.04087923],\n       [ 0.30773055, -0.41619138,  2.18740321, -0.52734335, -0.78613636,\n         0.64381646,  1.66345618, -0.47272867,  0.03438599, -0.34474344],\n       [ 1.28033718,  0.98570696,  0.90548589,  0.08737387,  0.76172384,\n         2.26676882, -1.05478047,  0.8607113 , -1.50994433, -0.97010282],\n       [ 1.08197209, -0.93683095,  1.45637994,  0.95161678, -0.52549897,\n        -0.11531663,  0.54464256,  0.88813627,  0.93374751, -0.24459157],\n       [ 0.15776581, -0.57931045,  0.96262219, -0.487419  ,  0.47749288,\n        -1.19925145, -0.90684539,  2.32473607, -0.85620056, -0.01211961]])"
     },
     "execution_count": 75,
     "metadata": {},
     "output_type": "execute_result"
    }
   ],
   "source": [
    "stock_change"
   ]
  },
  {
   "cell_type": "code",
   "execution_count": 76,
   "metadata": {
    "pycharm": {
     "name": "#%%\n"
    }
   },
   "outputs": [
    {
     "data": {
      "text/plain": "array([[ True,  True, False,  True,  True, False,  True, False, False,\n        False],\n       [False, False,  True,  True,  True,  True, False, False, False,\n        False],\n       [False,  True,  True,  True, False, False, False, False, False,\n        False],\n       [False, False, False,  True, False, False, False, False, False,\n        False],\n       [False, False,  True, False, False,  True,  True, False, False,\n        False],\n       [ True,  True,  True, False,  True,  True, False,  True, False,\n        False],\n       [ True, False,  True,  True, False, False,  True,  True,  True,\n        False],\n       [False, False,  True, False, False, False, False,  True, False,\n        False]])"
     },
     "execution_count": 76,
     "metadata": {},
     "output_type": "execute_result"
    }
   ],
   "source": [
    "# 逻辑判断, 如果涨跌幅大于0.5就标记为True 否则为False\n",
    "stock_change > 0.5"
   ]
  },
  {
   "cell_type": "code",
   "execution_count": 77,
   "metadata": {
    "pycharm": {
     "name": "#%%\n"
    }
   },
   "outputs": [],
   "source": [
    "stock_change[stock_change > 0.5] = 1.1"
   ]
  },
  {
   "cell_type": "code",
   "execution_count": 78,
   "metadata": {
    "pycharm": {
     "name": "#%%\n"
    }
   },
   "outputs": [
    {
     "data": {
      "text/plain": "array([[ 1.1       ,  1.1       , -0.01620999,  1.1       ,  1.1       ,\n        -0.37292596,  1.1       , -0.52602534, -0.83549712, -1.26605677],\n       [-0.72969931,  0.01288957,  1.1       ,  1.1       ,  1.1       ,\n         1.1       ,  0.04236072,  0.26521438,  0.3042681 , -0.34315946],\n       [-0.23597763,  1.1       ,  1.1       ,  1.1       , -1.2500618 ,\n        -0.45546587, -1.4015062 , -0.32708862,  0.16733823, -1.35628827],\n       [-0.54845383,  0.29204192, -0.48656491,  1.1       , -1.37148035,\n        -0.36061307, -0.97104768,  0.04412891, -1.41602417, -1.04087923],\n       [ 0.30773055, -0.41619138,  1.1       , -0.52734335, -0.78613636,\n         1.1       ,  1.1       , -0.47272867,  0.03438599, -0.34474344],\n       [ 1.1       ,  1.1       ,  1.1       ,  0.08737387,  1.1       ,\n         1.1       , -1.05478047,  1.1       , -1.50994433, -0.97010282],\n       [ 1.1       , -0.93683095,  1.1       ,  1.1       , -0.52549897,\n        -0.11531663,  1.1       ,  1.1       ,  1.1       , -0.24459157],\n       [ 0.15776581, -0.57931045,  1.1       , -0.487419  ,  0.47749288,\n        -1.19925145, -0.90684539,  1.1       , -0.85620056, -0.01211961]])"
     },
     "execution_count": 78,
     "metadata": {},
     "output_type": "execute_result"
    }
   ],
   "source": [
    "stock_change"
   ]
  },
  {
   "cell_type": "code",
   "execution_count": 79,
   "metadata": {
    "pycharm": {
     "name": "#%%\n"
    }
   },
   "outputs": [
    {
     "data": {
      "text/plain": "array([[ True,  True, False,  True,  True],\n       [False,  True,  True,  True,  True]])"
     },
     "execution_count": 79,
     "metadata": {},
     "output_type": "execute_result"
    }
   ],
   "source": [
    "# 判断stock_change[0:2, 0:5]是否全是上涨的\n",
    "stock_change[0:2, 0:5] > 0"
   ]
  },
  {
   "cell_type": "code",
   "execution_count": 80,
   "metadata": {
    "pycharm": {
     "name": "#%%\n"
    }
   },
   "outputs": [
    {
     "data": {
      "text/plain": "False"
     },
     "execution_count": 80,
     "metadata": {},
     "output_type": "execute_result"
    }
   ],
   "source": [
    "np.all(stock_change[0:2, 0:5] > 0)"
   ]
  },
  {
   "cell_type": "code",
   "execution_count": 81,
   "metadata": {
    "pycharm": {
     "name": "#%%\n"
    }
   },
   "outputs": [
    {
     "data": {
      "text/plain": "True"
     },
     "execution_count": 81,
     "metadata": {},
     "output_type": "execute_result"
    }
   ],
   "source": [
    "# 判断前5只股票这段期间是否有上涨的\n",
    "np.any(stock_change[:5, :] > 0)"
   ]
  },
  {
   "cell_type": "markdown",
   "metadata": {
    "pycharm": {
     "name": "#%% md\n"
    }
   },
   "source": [
    "### np.where（三元运算符）"
   ]
  },
  {
   "cell_type": "code",
   "execution_count": 82,
   "metadata": {
    "pycharm": {
     "name": "#%%\n"
    }
   },
   "outputs": [],
   "source": [
    "# 判断前四个股票前四天的涨跌幅 大于0的置为1，否则为0\n",
    "temp = stock_change[:4, :4]"
   ]
  },
  {
   "cell_type": "code",
   "execution_count": 83,
   "metadata": {
    "pycharm": {
     "name": "#%%\n"
    }
   },
   "outputs": [
    {
     "data": {
      "text/plain": "array([[ 1.1       ,  1.1       , -0.01620999,  1.1       ],\n       [-0.72969931,  0.01288957,  1.1       ,  1.1       ],\n       [-0.23597763,  1.1       ,  1.1       ,  1.1       ],\n       [-0.54845383,  0.29204192, -0.48656491,  1.1       ]])"
     },
     "execution_count": 83,
     "metadata": {},
     "output_type": "execute_result"
    }
   ],
   "source": [
    "temp"
   ]
  },
  {
   "cell_type": "code",
   "execution_count": 84,
   "metadata": {
    "pycharm": {
     "name": "#%%\n"
    }
   },
   "outputs": [
    {
     "data": {
      "text/plain": "array([[1, 1, 0, 1],\n       [0, 1, 1, 1],\n       [0, 1, 1, 1],\n       [0, 1, 0, 1]])"
     },
     "execution_count": 84,
     "metadata": {},
     "output_type": "execute_result"
    }
   ],
   "source": [
    "np.where(temp > 0, 1, 0)"
   ]
  },
  {
   "cell_type": "code",
   "execution_count": 85,
   "metadata": {
    "pycharm": {
     "name": "#%%\n"
    }
   },
   "outputs": [
    {
     "data": {
      "text/plain": "array([[ True,  True, False,  True],\n       [False,  True,  True,  True],\n       [False,  True,  True,  True],\n       [False,  True, False,  True]])"
     },
     "execution_count": 85,
     "metadata": {},
     "output_type": "execute_result"
    }
   ],
   "source": [
    "temp > 0"
   ]
  },
  {
   "cell_type": "code",
   "execution_count": 86,
   "metadata": {
    "pycharm": {
     "name": "#%%\n"
    }
   },
   "outputs": [
    {
     "data": {
      "text/plain": "array([[1, 0, 1, 1],\n       [1, 1, 1, 1],\n       [0, 0, 1, 0],\n       [1, 0, 1, 0]])"
     },
     "execution_count": 86,
     "metadata": {},
     "output_type": "execute_result"
    }
   ],
   "source": [
    "np.where([[True, False, True, True],\n",
    "          [True, True, True, True],\n",
    "          [False, False, True, False],\n",
    "          [True, False, True, False]], 1, 0)"
   ]
  },
  {
   "cell_type": "code",
   "execution_count": 87,
   "metadata": {
    "pycharm": {
     "name": "#%%\n"
    }
   },
   "outputs": [
    {
     "data": {
      "text/plain": "array([[ True,  True, False,  True],\n       [False, False,  True,  True],\n       [False,  True,  True,  True],\n       [False, False, False,  True]])"
     },
     "execution_count": 87,
     "metadata": {},
     "output_type": "execute_result"
    }
   ],
   "source": [
    "# 判断前四个股票前四天的涨跌幅 大于0.5并且小于1.5的，换为1，否则为0\n",
    "# 判断前四个股票前四天的涨跌幅 大于0.5或者小于-0.5的，换为1，否则为0\n",
    "# (temp > 0.5) and (temp < 1)\n",
    "np.logical_and(temp > 0.5, temp < 1.5)"
   ]
  },
  {
   "cell_type": "code",
   "execution_count": 88,
   "metadata": {
    "pycharm": {
     "name": "#%%\n"
    }
   },
   "outputs": [
    {
     "data": {
      "text/plain": "array([[1, 1, 0, 1],\n       [0, 0, 1, 1],\n       [0, 1, 1, 1],\n       [0, 0, 0, 1]])"
     },
     "execution_count": 88,
     "metadata": {},
     "output_type": "execute_result"
    }
   ],
   "source": [
    "np.where(np.logical_and(temp > 0.5, temp < 1.5), 1, 0)"
   ]
  },
  {
   "cell_type": "code",
   "execution_count": 89,
   "metadata": {
    "pycharm": {
     "name": "#%%\n"
    }
   },
   "outputs": [
    {
     "data": {
      "text/plain": "array([[ True,  True, False,  True],\n       [ True, False,  True,  True],\n       [False,  True,  True,  True],\n       [ True, False, False,  True]])"
     },
     "execution_count": 89,
     "metadata": {},
     "output_type": "execute_result"
    }
   ],
   "source": [
    "np.logical_or(temp > 0.5, temp < -0.5)"
   ]
  },
  {
   "cell_type": "code",
   "execution_count": 90,
   "metadata": {
    "pycharm": {
     "name": "#%%\n"
    }
   },
   "outputs": [
    {
     "data": {
      "text/plain": "array([[11, 11,  3, 11],\n       [11,  3, 11, 11],\n       [ 3, 11, 11, 11],\n       [11,  3,  3, 11]])"
     },
     "execution_count": 90,
     "metadata": {},
     "output_type": "execute_result"
    }
   ],
   "source": [
    "np.where(np.logical_or(temp > 0.5, temp < -0.5), 11, 3)"
   ]
  },
  {
   "cell_type": "markdown",
   "metadata": {
    "pycharm": {
     "name": "#%% md\n"
    }
   },
   "source": [
    "### 2 股票涨跌幅统计运算"
   ]
  },
  {
   "cell_type": "code",
   "execution_count": 91,
   "metadata": {
    "pycharm": {
     "name": "#%%\n"
    }
   },
   "outputs": [
    {
     "data": {
      "text/plain": "array([[ 1.1       ,  1.1       , -0.01620999,  1.1       ],\n       [-0.72969931,  0.01288957,  1.1       ,  1.1       ],\n       [-0.23597763,  1.1       ,  1.1       ,  1.1       ],\n       [-0.54845383,  0.29204192, -0.48656491,  1.1       ]])"
     },
     "execution_count": 91,
     "metadata": {},
     "output_type": "execute_result"
    }
   ],
   "source": [
    "# 前四只股票前四天的最大涨幅\n",
    "temp  # shape: (4, 4) 0  1"
   ]
  },
  {
   "cell_type": "code",
   "execution_count": 92,
   "metadata": {
    "pycharm": {
     "name": "#%%\n"
    }
   },
   "outputs": [
    {
     "data": {
      "text/plain": "array([1.1, 1.1, 1.1, 1.1])"
     },
     "execution_count": 92,
     "metadata": {},
     "output_type": "execute_result"
    }
   ],
   "source": [
    "temp.max(axis=0)"
   ]
  },
  {
   "cell_type": "code",
   "execution_count": 93,
   "metadata": {
    "pycharm": {
     "name": "#%%\n"
    }
   },
   "outputs": [
    {
     "data": {
      "text/plain": "array([1.1, 1.1, 1.1, 1.1])"
     },
     "execution_count": 93,
     "metadata": {},
     "output_type": "execute_result"
    }
   ],
   "source": [
    "np.max(temp, axis=-1)"
   ]
  },
  {
   "cell_type": "code",
   "execution_count": 94,
   "metadata": {
    "pycharm": {
     "name": "#%%\n"
    }
   },
   "outputs": [
    {
     "data": {
      "text/plain": "array([0, 2, 1, 3])"
     },
     "execution_count": 94,
     "metadata": {},
     "output_type": "execute_result"
    }
   ],
   "source": [
    "np.argmax(temp, axis=-1)"
   ]
  },
  {
   "cell_type": "markdown",
   "metadata": {
    "pycharm": {
     "name": "#%% md\n"
    }
   },
   "source": [
    "### 数组与数的运算"
   ]
  },
  {
   "cell_type": "code",
   "execution_count": 95,
   "metadata": {
    "pycharm": {
     "name": "#%%\n"
    }
   },
   "outputs": [],
   "source": [
    "arr = np.array([[1, 2, 3, 2, 1, 4], [5, 6, 1, 2, 3, 1]])"
   ]
  },
  {
   "cell_type": "code",
   "execution_count": 96,
   "metadata": {
    "pycharm": {
     "name": "#%%\n"
    }
   },
   "outputs": [
    {
     "data": {
      "text/plain": "array([[0.1, 0.2, 0.3, 0.2, 0.1, 0.4],\n       [0.5, 0.6, 0.1, 0.2, 0.3, 0.1]])"
     },
     "execution_count": 96,
     "metadata": {},
     "output_type": "execute_result"
    }
   ],
   "source": [
    "arr / 10"
   ]
  },
  {
   "cell_type": "code",
   "execution_count": 97,
   "metadata": {
    "pycharm": {
     "name": "#%%\n"
    }
   },
   "outputs": [],
   "source": [
    "a = [1, 2, 3, 4, 5]"
   ]
  },
  {
   "cell_type": "code",
   "execution_count": 98,
   "metadata": {
    "pycharm": {
     "name": "#%%\n"
    }
   },
   "outputs": [],
   "source": [
    "# a * 10"
   ]
  },
  {
   "cell_type": "markdown",
   "metadata": {
    "pycharm": {
     "name": "#%% md\n"
    }
   },
   "source": [
    "### 数组与数组的运算"
   ]
  },
  {
   "cell_type": "code",
   "execution_count": 99,
   "metadata": {
    "pycharm": {
     "name": "#%%\n"
    }
   },
   "outputs": [],
   "source": [
    "arr1 = np.array([[1, 2, 3, 2, 1, 4], [5, 6, 1, 2, 3, 1]])\n",
    "arr2 = np.array([[1, 2, 3, 4], [3, 4, 5, 6]])\n"
   ]
  },
  {
   "cell_type": "code",
   "execution_count": 100,
   "metadata": {
    "pycharm": {
     "name": "#%%\n"
    }
   },
   "outputs": [
    {
     "data": {
      "text/plain": "array([[1, 2, 3, 2, 1, 4],\n       [5, 6, 1, 2, 3, 1]])"
     },
     "execution_count": 100,
     "metadata": {},
     "output_type": "execute_result"
    }
   ],
   "source": [
    "arr1  # (2, 6)"
   ]
  },
  {
   "cell_type": "code",
   "execution_count": 101,
   "metadata": {
    "pycharm": {
     "name": "#%%\n"
    }
   },
   "outputs": [
    {
     "data": {
      "text/plain": "array([[1, 2, 3, 4],\n       [3, 4, 5, 6]])"
     },
     "execution_count": 101,
     "metadata": {},
     "output_type": "execute_result"
    }
   ],
   "source": [
    "arr2  # (2, 4)"
   ]
  },
  {
   "cell_type": "code",
   "execution_count": 102,
   "metadata": {
    "pycharm": {
     "name": "#%%\n"
    }
   },
   "outputs": [],
   "source": [
    "# arr1 + arr2"
   ]
  },
  {
   "cell_type": "code",
   "execution_count": 103,
   "metadata": {
    "pycharm": {
     "name": "#%%\n"
    }
   },
   "outputs": [],
   "source": [
    "arr1 = np.array([[1, 2, 3, 2, 1, 4], [5, 6, 1, 2, 3, 1]])\n",
    "arr2 = np.array([[1], [3]])"
   ]
  },
  {
   "cell_type": "code",
   "execution_count": 104,
   "metadata": {
    "pycharm": {
     "name": "#%%\n"
    }
   },
   "outputs": [
    {
     "data": {
      "text/plain": "array([[1, 2, 3, 2, 1, 4],\n       [5, 6, 1, 2, 3, 1]])"
     },
     "execution_count": 104,
     "metadata": {},
     "output_type": "execute_result"
    }
   ],
   "source": [
    "arr1  # (2, 6)"
   ]
  },
  {
   "cell_type": "code",
   "execution_count": 105,
   "metadata": {
    "pycharm": {
     "name": "#%%\n"
    }
   },
   "outputs": [
    {
     "data": {
      "text/plain": "array([[1],\n       [3]])"
     },
     "execution_count": 105,
     "metadata": {},
     "output_type": "execute_result"
    }
   ],
   "source": [
    "arr2  # (2, 1)"
   ]
  },
  {
   "cell_type": "code",
   "execution_count": 106,
   "metadata": {
    "pycharm": {
     "name": "#%%\n"
    }
   },
   "outputs": [
    {
     "data": {
      "text/plain": "array([[2, 3, 4, 3, 2, 5],\n       [8, 9, 4, 5, 6, 4]])"
     },
     "execution_count": 106,
     "metadata": {},
     "output_type": "execute_result"
    }
   ],
   "source": [
    "arr1 + arr2"
   ]
  },
  {
   "cell_type": "code",
   "execution_count": 107,
   "metadata": {
    "pycharm": {
     "name": "#%%\n"
    }
   },
   "outputs": [
    {
     "data": {
      "text/plain": "array([[ 1,  2,  3,  2,  1,  4],\n       [15, 18,  3,  6,  9,  3]])"
     },
     "execution_count": 107,
     "metadata": {},
     "output_type": "execute_result"
    }
   ],
   "source": [
    "arr1 * arr2"
   ]
  },
  {
   "cell_type": "code",
   "execution_count": 108,
   "metadata": {
    "pycharm": {
     "name": "#%%\n"
    }
   },
   "outputs": [
    {
     "data": {
      "text/plain": "array([[1.        , 2.        , 3.        , 2.        , 1.        ,\n        4.        ],\n       [1.66666667, 2.        , 0.33333333, 0.66666667, 1.        ,\n        0.33333333]])"
     },
     "execution_count": 108,
     "metadata": {},
     "output_type": "execute_result"
    }
   ],
   "source": [
    "arr1 / arr2"
   ]
  },
  {
   "cell_type": "markdown",
   "metadata": {
    "pycharm": {
     "name": "#%% md\n"
    }
   },
   "source": [
    "### 矩阵运算"
   ]
  },
  {
   "cell_type": "code",
   "execution_count": 109,
   "metadata": {
    "pycharm": {
     "name": "#%%\n"
    }
   },
   "outputs": [],
   "source": [
    "# ndarray存储矩阵\n",
    "data = np.array([[80, 86],\n",
    "                 [82, 80],\n",
    "                 [85, 78],\n",
    "                 [90, 90],\n",
    "                 [86, 82],\n",
    "                 [82, 90],\n",
    "                 [78, 80],\n",
    "                 [92, 94]])"
   ]
  },
  {
   "cell_type": "code",
   "execution_count": 110,
   "metadata": {
    "pycharm": {
     "name": "#%%\n"
    }
   },
   "outputs": [
    {
     "data": {
      "text/plain": "array([[80, 86],\n       [82, 80],\n       [85, 78],\n       [90, 90],\n       [86, 82],\n       [82, 90],\n       [78, 80],\n       [92, 94]])"
     },
     "execution_count": 110,
     "metadata": {},
     "output_type": "execute_result"
    }
   ],
   "source": [
    "data"
   ]
  },
  {
   "cell_type": "code",
   "execution_count": 111,
   "metadata": {
    "pycharm": {
     "name": "#%%\n"
    }
   },
   "outputs": [],
   "source": [
    "# matrix存储矩阵\n",
    "data_mat = np.mat([[80, 86],\n",
    "                   [82, 80],\n",
    "                   [85, 78],\n",
    "                   [90, 90],\n",
    "                   [86, 82],\n",
    "                   [82, 90],\n",
    "                   [78, 80],\n",
    "                   [92, 94]])"
   ]
  },
  {
   "cell_type": "code",
   "execution_count": 112,
   "metadata": {
    "pycharm": {
     "name": "#%%\n"
    }
   },
   "outputs": [
    {
     "data": {
      "text/plain": "numpy.matrix"
     },
     "execution_count": 112,
     "metadata": {},
     "output_type": "execute_result"
    }
   ],
   "source": [
    "type(data_mat)"
   ]
  },
  {
   "cell_type": "code",
   "execution_count": 113,
   "metadata": {
    "pycharm": {
     "name": "#%%\n"
    }
   },
   "outputs": [
    {
     "data": {
      "text/plain": "array([[80, 86],\n       [82, 80],\n       [85, 78],\n       [90, 90],\n       [86, 82],\n       [82, 90],\n       [78, 80],\n       [92, 94]])"
     },
     "execution_count": 113,
     "metadata": {},
     "output_type": "execute_result"
    }
   ],
   "source": [
    "data  # (8, 2) * (2, 1) = (8, 1)"
   ]
  },
  {
   "cell_type": "code",
   "execution_count": 114,
   "metadata": {
    "pycharm": {
     "name": "#%%\n"
    }
   },
   "outputs": [],
   "source": [
    "weights = np.array([[0.3], [0.7]])"
   ]
  },
  {
   "cell_type": "code",
   "execution_count": 115,
   "metadata": {
    "pycharm": {
     "name": "#%%\n"
    }
   },
   "outputs": [
    {
     "data": {
      "text/plain": "array([[0.3],\n       [0.7]])"
     },
     "execution_count": 115,
     "metadata": {},
     "output_type": "execute_result"
    }
   ],
   "source": [
    "weights"
   ]
  },
  {
   "cell_type": "code",
   "execution_count": 116,
   "metadata": {
    "pycharm": {
     "name": "#%%\n"
    }
   },
   "outputs": [],
   "source": [
    "weights_mat = np.mat([[0.3], [0.7]])"
   ]
  },
  {
   "cell_type": "code",
   "execution_count": 117,
   "metadata": {
    "pycharm": {
     "name": "#%%\n"
    }
   },
   "outputs": [
    {
     "data": {
      "text/plain": "matrix([[0.3],\n        [0.7]])"
     },
     "execution_count": 117,
     "metadata": {},
     "output_type": "execute_result"
    }
   ],
   "source": [
    "weights_mat"
   ]
  },
  {
   "cell_type": "code",
   "execution_count": 118,
   "metadata": {
    "pycharm": {
     "name": "#%%\n"
    }
   },
   "outputs": [
    {
     "data": {
      "text/plain": "array([[80, 86],\n       [82, 80],\n       [85, 78],\n       [90, 90],\n       [86, 82],\n       [82, 90],\n       [78, 80],\n       [92, 94]])"
     },
     "execution_count": 118,
     "metadata": {},
     "output_type": "execute_result"
    }
   ],
   "source": [
    "# 矩阵运算\n",
    "data"
   ]
  },
  {
   "cell_type": "code",
   "execution_count": 119,
   "metadata": {
    "pycharm": {
     "name": "#%%\n"
    }
   },
   "outputs": [
    {
     "data": {
      "text/plain": "array([[0.3],\n       [0.7]])"
     },
     "execution_count": 119,
     "metadata": {},
     "output_type": "execute_result"
    }
   ],
   "source": [
    "weights"
   ]
  },
  {
   "cell_type": "code",
   "execution_count": 120,
   "metadata": {
    "pycharm": {
     "name": "#%%\n"
    }
   },
   "outputs": [
    {
     "data": {
      "text/plain": "array([[84.2],\n       [80.6],\n       [80.1],\n       [90. ],\n       [83.2],\n       [87.6],\n       [79.4],\n       [93.4]])"
     },
     "execution_count": 120,
     "metadata": {},
     "output_type": "execute_result"
    }
   ],
   "source": [
    "np.matmul(data, weights)"
   ]
  },
  {
   "cell_type": "code",
   "execution_count": 121,
   "metadata": {
    "pycharm": {
     "name": "#%%\n"
    }
   },
   "outputs": [
    {
     "data": {
      "text/plain": "array([[84.2],\n       [80.6],\n       [80.1],\n       [90. ],\n       [83.2],\n       [87.6],\n       [79.4],\n       [93.4]])"
     },
     "execution_count": 121,
     "metadata": {},
     "output_type": "execute_result"
    }
   ],
   "source": [
    "np.dot(data, weights)"
   ]
  },
  {
   "cell_type": "code",
   "execution_count": 122,
   "metadata": {
    "pycharm": {
     "name": "#%%\n"
    }
   },
   "outputs": [
    {
     "data": {
      "text/plain": "matrix([[84.2],\n        [80.6],\n        [80.1],\n        [90. ],\n        [83.2],\n        [87.6],\n        [79.4],\n        [93.4]])"
     },
     "execution_count": 122,
     "metadata": {},
     "output_type": "execute_result"
    }
   ],
   "source": [
    "data_mat * weights_mat"
   ]
  },
  {
   "cell_type": "code",
   "execution_count": 123,
   "metadata": {
    "pycharm": {
     "name": "#%%\n"
    }
   },
   "outputs": [
    {
     "data": {
      "text/plain": "array([[84.2],\n       [80.6],\n       [80.1],\n       [90. ],\n       [83.2],\n       [87.6],\n       [79.4],\n       [93.4]])"
     },
     "execution_count": 123,
     "metadata": {},
     "output_type": "execute_result"
    }
   ],
   "source": [
    "data @ weights"
   ]
  },
  {
   "cell_type": "code",
   "execution_count": 124,
   "metadata": {
    "pycharm": {
     "name": "#%%\n"
    }
   },
   "outputs": [
    {
     "data": {
      "text/plain": "array([[80, 86],\n       [82, 80],\n       [85, 78],\n       [90, 90],\n       [86, 82],\n       [82, 90],\n       [78, 80],\n       [92, 94]])"
     },
     "execution_count": 124,
     "metadata": {},
     "output_type": "execute_result"
    }
   ],
   "source": [
    "data  # (8, 2)"
   ]
  },
  {
   "cell_type": "code",
   "execution_count": 125,
   "metadata": {
    "pycharm": {
     "name": "#%%\n"
    }
   },
   "outputs": [],
   "source": [
    "# weights(2, 1)"
   ]
  },
  {
   "cell_type": "code",
   "execution_count": 126,
   "metadata": {
    "pycharm": {
     "name": "#%%\n"
    }
   },
   "outputs": [],
   "source": [
    "# data * weights 不满足广播机制，不能进行运算"
   ]
  },
  {
   "cell_type": "markdown",
   "metadata": {
    "pycharm": {
     "name": "#%% md\n"
    }
   },
   "source": [
    "### 合并"
   ]
  },
  {
   "cell_type": "code",
   "execution_count": 127,
   "metadata": {
    "pycharm": {
     "name": "#%%\n"
    }
   },
   "outputs": [],
   "source": [
    "a = stock_change[:2, 0:4]\n",
    "b = stock_change[4:6, 0:4]"
   ]
  },
  {
   "cell_type": "code",
   "execution_count": 128,
   "metadata": {
    "pycharm": {
     "name": "#%%\n"
    }
   },
   "outputs": [
    {
     "data": {
      "text/plain": "array([[ 1.1       ,  1.1       , -0.01620999,  1.1       ],\n       [-0.72969931,  0.01288957,  1.1       ,  1.1       ]])"
     },
     "execution_count": 128,
     "metadata": {},
     "output_type": "execute_result"
    }
   ],
   "source": [
    "a"
   ]
  },
  {
   "cell_type": "code",
   "execution_count": 129,
   "metadata": {
    "pycharm": {
     "name": "#%%\n"
    }
   },
   "outputs": [
    {
     "data": {
      "text/plain": "(2, 4)"
     },
     "execution_count": 129,
     "metadata": {},
     "output_type": "execute_result"
    }
   ],
   "source": [
    "a.shape"
   ]
  },
  {
   "cell_type": "code",
   "execution_count": 130,
   "metadata": {
    "pycharm": {
     "name": "#%%\n"
    }
   },
   "outputs": [
    {
     "data": {
      "text/plain": "array([[ 1.1       ,  1.1       ],\n       [-0.01620999,  1.1       ],\n       [-0.72969931,  0.01288957],\n       [ 1.1       ,  1.1       ]])"
     },
     "execution_count": 130,
     "metadata": {},
     "output_type": "execute_result"
    }
   ],
   "source": [
    "a.reshape((-1, 2))"
   ]
  },
  {
   "cell_type": "code",
   "execution_count": 131,
   "metadata": {
    "pycharm": {
     "name": "#%%\n"
    }
   },
   "outputs": [
    {
     "data": {
      "text/plain": "array([[ 0.30773055, -0.41619138,  1.1       , -0.52734335],\n       [ 1.1       ,  1.1       ,  1.1       ,  0.08737387]])"
     },
     "execution_count": 131,
     "metadata": {},
     "output_type": "execute_result"
    }
   ],
   "source": [
    "b"
   ]
  },
  {
   "cell_type": "code",
   "execution_count": 132,
   "metadata": {
    "pycharm": {
     "name": "#%%\n"
    }
   },
   "outputs": [
    {
     "data": {
      "text/plain": "array([[ 1.1       ,  1.1       , -0.01620999,  1.1       ,  0.30773055,\n        -0.41619138,  1.1       , -0.52734335],\n       [-0.72969931,  0.01288957,  1.1       ,  1.1       ,  1.1       ,\n         1.1       ,  1.1       ,  0.08737387]])"
     },
     "execution_count": 132,
     "metadata": {},
     "output_type": "execute_result"
    }
   ],
   "source": [
    "np.hstack((a, b))"
   ]
  },
  {
   "cell_type": "code",
   "execution_count": 133,
   "metadata": {
    "pycharm": {
     "name": "#%%\n"
    }
   },
   "outputs": [
    {
     "data": {
      "text/plain": "array([[ 1.1       ,  1.1       , -0.01620999,  1.1       ,  0.30773055,\n        -0.41619138,  1.1       , -0.52734335],\n       [-0.72969931,  0.01288957,  1.1       ,  1.1       ,  1.1       ,\n         1.1       ,  1.1       ,  0.08737387]])"
     },
     "execution_count": 133,
     "metadata": {},
     "output_type": "execute_result"
    }
   ],
   "source": [
    "np.concatenate((a, b), axis=1)"
   ]
  },
  {
   "cell_type": "code",
   "execution_count": 134,
   "metadata": {
    "pycharm": {
     "name": "#%%\n"
    }
   },
   "outputs": [
    {
     "data": {
      "text/plain": "array([[ 1.1       ,  1.1       , -0.01620999,  1.1       ],\n       [-0.72969931,  0.01288957,  1.1       ,  1.1       ],\n       [ 0.30773055, -0.41619138,  1.1       , -0.52734335],\n       [ 1.1       ,  1.1       ,  1.1       ,  0.08737387]])"
     },
     "execution_count": 134,
     "metadata": {},
     "output_type": "execute_result"
    }
   ],
   "source": [
    "np.vstack((a, b))"
   ]
  },
  {
   "cell_type": "code",
   "execution_count": 135,
   "metadata": {
    "pycharm": {
     "name": "#%%\n"
    }
   },
   "outputs": [
    {
     "data": {
      "text/plain": "array([[ 1.1       ,  1.1       , -0.01620999,  1.1       ],\n       [-0.72969931,  0.01288957,  1.1       ,  1.1       ],\n       [ 0.30773055, -0.41619138,  1.1       , -0.52734335],\n       [ 1.1       ,  1.1       ,  1.1       ,  0.08737387]])"
     },
     "execution_count": 135,
     "metadata": {},
     "output_type": "execute_result"
    }
   ],
   "source": [
    "np.concatenate((a, b), axis=0)"
   ]
  },
  {
   "cell_type": "markdown",
   "metadata": {
    "pycharm": {
     "name": "#%% md\n"
    }
   },
   "source": [
    "### Numpy读取"
   ]
  },
  {
   "cell_type": "code",
   "execution_count": 136,
   "metadata": {
    "pycharm": {
     "name": "#%%\n"
    }
   },
   "outputs": [],
   "source": [
    "data = np.genfromtxt(\"numpy_test.csv\", delimiter=\",\")"
   ]
  },
  {
   "cell_type": "code",
   "execution_count": 137,
   "metadata": {
    "pycharm": {
     "name": "#%%\n"
    }
   },
   "outputs": [
    {
     "data": {
      "text/plain": "array([[  nan,   nan,   nan,   nan],\n       [  1. , 123. ,   1.4,  23. ],\n       [  2. , 110. ,   nan,  18. ],\n       [  3. ,   nan,   2.1,  19. ]])"
     },
     "execution_count": 137,
     "metadata": {},
     "output_type": "execute_result"
    }
   ],
   "source": [
    "data"
   ]
  },
  {
   "cell_type": "code",
   "execution_count": 138,
   "metadata": {
    "pycharm": {
     "name": "#%%\n"
    }
   },
   "outputs": [
    {
     "data": {
      "text/plain": "numpy.float64"
     },
     "execution_count": 138,
     "metadata": {},
     "output_type": "execute_result"
    }
   ],
   "source": [
    "type(data[2, 2])"
   ]
  },
  {
   "cell_type": "code",
   "execution_count": 139,
   "metadata": {
    "pycharm": {
     "name": "#%%\n"
    }
   },
   "outputs": [],
   "source": [
    "def fill_nan_by_column_mean(t):\n",
    "    for i in range(t.shape[1]):\n",
    "        # 计算nan的个数\n",
    "        nan_num = np.count_nonzero(t[:, i][t[:, i] != t[:, i]])\n",
    "        if nan_num > 0:\n",
    "            now_col = t[:, i]\n",
    "            # 求和\n",
    "            now_col_not_nan = now_col[np.isnan(now_col) == False].sum()\n",
    "            # 和/个数\n",
    "            now_col_mean = now_col_not_nan / (t.shape[0] - nan_num)\n",
    "            # 赋值给now_col\n",
    "            now_col[np.isnan(now_col)] = now_col_mean\n",
    "            # 赋值给t，即更新t的当前列\n",
    "            t[:, i] = now_col\n",
    "    return t"
   ]
  },
  {
   "cell_type": "code",
   "execution_count": 140,
   "metadata": {
    "pycharm": {
     "name": "#%%\n"
    }
   },
   "outputs": [
    {
     "data": {
      "text/plain": "array([[  nan,   nan,   nan,   nan],\n       [  1. , 123. ,   1.4,  23. ],\n       [  2. , 110. ,   nan,  18. ],\n       [  3. ,   nan,   2.1,  19. ]])"
     },
     "execution_count": 140,
     "metadata": {},
     "output_type": "execute_result"
    }
   ],
   "source": [
    "data"
   ]
  },
  {
   "cell_type": "code",
   "execution_count": 141,
   "metadata": {
    "pycharm": {
     "name": "#%%\n"
    }
   },
   "outputs": [
    {
     "data": {
      "text/plain": "array([[  2.  , 116.5 ,   1.75,  20.  ],\n       [  1.  , 123.  ,   1.4 ,  23.  ],\n       [  2.  , 110.  ,   1.75,  18.  ],\n       [  3.  , 116.5 ,   2.1 ,  19.  ]])"
     },
     "execution_count": 141,
     "metadata": {},
     "output_type": "execute_result"
    }
   ],
   "source": [
    "fill_nan_by_column_mean(data)"
   ]
  },
  {
   "cell_type": "code",
   "execution_count": 141,
   "metadata": {
    "pycharm": {
     "name": "#%%\n"
    }
   },
   "outputs": [],
   "source": []
  }
 ],
 "metadata": {
  "kernelspec": {
   "display_name": "Python 3",
   "language": "python",
   "name": "python3"
  },
  "language_info": {
   "codemirror_mode": {
    "name": "ipython",
    "version": 3
   },
   "file_extension": ".py",
   "mimetype": "text/x-python",
   "name": "python",
   "nbconvert_exporter": "python",
   "pygments_lexer": "ipython3",
   "version": "3.6.3"
  }
 },
 "nbformat": 4,
 "nbformat_minor": 2
}