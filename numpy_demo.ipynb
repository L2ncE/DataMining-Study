{
 "cells": [
  {
   "cell_type": "code",
   "execution_count": 1,
   "metadata": {
    "pycharm": {
     "name": "#%%\n"
    }
   },
   "outputs": [],
   "source": [
    "import numpy as np"
   ]
  },
  {
   "cell_type": "code",
   "execution_count": 2,
   "metadata": {
    "pycharm": {
     "name": "#%%\n"
    }
   },
   "outputs": [],
   "source": [
    "score = np.array([[80, 89, 86, 67, 79],\n",
    "                  [78, 97, 89, 67, 81],\n",
    "                  [90, 94, 78, 67, 74],\n",
    "                  [91, 91, 90, 67, 69],\n",
    "                  [76, 87, 75, 67, 86],\n",
    "                  [70, 79, 84, 67, 84],\n",
    "                  [94, 92, 93, 67, 64],\n",
    "                  [86, 85, 83, 67, 80]])"
   ]
  },
  {
   "cell_type": "code",
   "execution_count": 3,
   "metadata": {
    "pycharm": {
     "name": "#%%\n"
    }
   },
   "outputs": [
    {
     "data": {
      "text/plain": "array([[80, 89, 86, 67, 79],\n       [78, 97, 89, 67, 81],\n       [90, 94, 78, 67, 74],\n       [91, 91, 90, 67, 69],\n       [76, 87, 75, 67, 86],\n       [70, 79, 84, 67, 84],\n       [94, 92, 93, 67, 64],\n       [86, 85, 83, 67, 80]])"
     },
     "execution_count": 3,
     "metadata": {},
     "output_type": "execute_result"
    }
   ],
   "source": [
    "score"
   ]
  },
  {
   "cell_type": "code",
   "execution_count": 4,
   "metadata": {
    "pycharm": {
     "name": "#%%\n"
    }
   },
   "outputs": [
    {
     "data": {
      "text/plain": "numpy.ndarray"
     },
     "execution_count": 4,
     "metadata": {},
     "output_type": "execute_result"
    }
   ],
   "source": [
    "type(score)"
   ]
  },
  {
   "cell_type": "markdown",
   "metadata": {
    "pycharm": {
     "name": "#%% md\n"
    }
   },
   "source": [
    "### ndarray与Python原生list运算效率对比"
   ]
  },
  {
   "cell_type": "code",
   "execution_count": 5,
   "metadata": {
    "pycharm": {
     "name": "#%%\n"
    }
   },
   "outputs": [],
   "source": [
    "import random\n",
    "import time"
   ]
  },
  {
   "cell_type": "code",
   "execution_count": 6,
   "metadata": {
    "pycharm": {
     "name": "#%%\n"
    }
   },
   "outputs": [],
   "source": [
    "# 生成一个大数组\n",
    "python_list = []\n",
    "\n",
    "for i in range(100000000):\n",
    "    python_list.append(random.random())"
   ]
  },
  {
   "cell_type": "code",
   "execution_count": 7,
   "metadata": {
    "pycharm": {
     "name": "#%%\n"
    }
   },
   "outputs": [],
   "source": [
    "ndarray_list = np.array(python_list)"
   ]
  },
  {
   "cell_type": "code",
   "execution_count": 8,
   "metadata": {
    "pycharm": {
     "name": "#%%\n"
    }
   },
   "outputs": [
    {
     "data": {
      "text/plain": "100000000"
     },
     "execution_count": 8,
     "metadata": {},
     "output_type": "execute_result"
    }
   ],
   "source": [
    "len(ndarray_list)"
   ]
  },
  {
   "cell_type": "code",
   "execution_count": 9,
   "metadata": {
    "pycharm": {
     "name": "#%%\n"
    }
   },
   "outputs": [],
   "source": [
    "# 原生pythonlist求和\n",
    "t1 = time.time()\n",
    "a = sum(python_list)\n",
    "t2 = time.time()\n",
    "d1 = t2 - t1\n",
    "\n",
    "# ndarray求和\n",
    "t3 = time.time()\n",
    "b = np.sum(ndarray_list)\n",
    "t4 = time.time()\n",
    "d2 = t4 - t3"
   ]
  },
  {
   "cell_type": "code",
   "execution_count": 10,
   "metadata": {
    "pycharm": {
     "name": "#%%\n"
    }
   },
   "outputs": [
    {
     "data": {
      "text/plain": "0.9923009872436523"
     },
     "execution_count": 10,
     "metadata": {},
     "output_type": "execute_result"
    }
   ],
   "source": [
    "d1"
   ]
  },
  {
   "cell_type": "code",
   "execution_count": 11,
   "metadata": {
    "pycharm": {
     "name": "#%%\n"
    }
   },
   "outputs": [
    {
     "data": {
      "text/plain": "0.18135690689086914"
     },
     "execution_count": 11,
     "metadata": {},
     "output_type": "execute_result"
    }
   ],
   "source": [
    "d2"
   ]
  },
  {
   "cell_type": "markdown",
   "metadata": {
    "pycharm": {
     "name": "#%% md\n"
    }
   },
   "source": [
    "### ndarray的属性"
   ]
  },
  {
   "cell_type": "code",
   "execution_count": 12,
   "metadata": {
    "pycharm": {
     "name": "#%%\n"
    }
   },
   "outputs": [
    {
     "data": {
      "text/plain": "array([[80, 89, 86, 67, 79],\n       [78, 97, 89, 67, 81],\n       [90, 94, 78, 67, 74],\n       [91, 91, 90, 67, 69],\n       [76, 87, 75, 67, 86],\n       [70, 79, 84, 67, 84],\n       [94, 92, 93, 67, 64],\n       [86, 85, 83, 67, 80]])"
     },
     "execution_count": 12,
     "metadata": {},
     "output_type": "execute_result"
    }
   ],
   "source": [
    "score"
   ]
  },
  {
   "cell_type": "code",
   "execution_count": 13,
   "metadata": {
    "pycharm": {
     "name": "#%%\n"
    }
   },
   "outputs": [
    {
     "data": {
      "text/plain": "(8, 5)"
     },
     "execution_count": 13,
     "metadata": {},
     "output_type": "execute_result"
    }
   ],
   "source": [
    "score.shape  # (8, 5)"
   ]
  },
  {
   "cell_type": "code",
   "execution_count": 14,
   "metadata": {
    "pycharm": {
     "name": "#%%\n"
    }
   },
   "outputs": [
    {
     "data": {
      "text/plain": "2"
     },
     "execution_count": 14,
     "metadata": {},
     "output_type": "execute_result"
    }
   ],
   "source": [
    "score.ndim"
   ]
  },
  {
   "cell_type": "code",
   "execution_count": 15,
   "metadata": {
    "pycharm": {
     "name": "#%%\n"
    }
   },
   "outputs": [
    {
     "data": {
      "text/plain": "40"
     },
     "execution_count": 15,
     "metadata": {},
     "output_type": "execute_result"
    }
   ],
   "source": [
    "score.size"
   ]
  },
  {
   "cell_type": "code",
   "execution_count": 16,
   "metadata": {
    "pycharm": {
     "name": "#%%\n"
    }
   },
   "outputs": [
    {
     "data": {
      "text/plain": "dtype('int64')"
     },
     "execution_count": 16,
     "metadata": {},
     "output_type": "execute_result"
    }
   ],
   "source": [
    "score.dtype"
   ]
  },
  {
   "cell_type": "code",
   "execution_count": 17,
   "metadata": {
    "pycharm": {
     "name": "#%%\n"
    }
   },
   "outputs": [
    {
     "data": {
      "text/plain": "8"
     },
     "execution_count": 17,
     "metadata": {},
     "output_type": "execute_result"
    }
   ],
   "source": [
    "score.itemsize"
   ]
  },
  {
   "cell_type": "markdown",
   "metadata": {
    "pycharm": {
     "name": "#%% md\n"
    }
   },
   "source": [
    "### ndarray的形状"
   ]
  },
  {
   "cell_type": "code",
   "execution_count": 18,
   "metadata": {
    "pycharm": {
     "name": "#%%\n"
    }
   },
   "outputs": [],
   "source": [
    "a = np.array([[1, 2, 3], [4, 5, 6]])\n",
    "b = np.array([1, 2, 3, 4])\n",
    "c = np.array([[[1, 2, 3], [4, 5, 6]], [[1, 2, 3], [4, 5, 6]]])"
   ]
  },
  {
   "cell_type": "code",
   "execution_count": 19,
   "metadata": {
    "pycharm": {
     "name": "#%%\n"
    }
   },
   "outputs": [
    {
     "data": {
      "text/plain": "array([[1, 2, 3],\n       [4, 5, 6]])"
     },
     "execution_count": 19,
     "metadata": {},
     "output_type": "execute_result"
    }
   ],
   "source": [
    "a  # (2, 3)"
   ]
  },
  {
   "cell_type": "code",
   "execution_count": 20,
   "metadata": {
    "pycharm": {
     "name": "#%%\n"
    }
   },
   "outputs": [
    {
     "data": {
      "text/plain": "array([1, 2, 3, 4])"
     },
     "execution_count": 20,
     "metadata": {},
     "output_type": "execute_result"
    }
   ],
   "source": [
    "b  # (4,)"
   ]
  },
  {
   "cell_type": "code",
   "execution_count": 21,
   "metadata": {
    "pycharm": {
     "name": "#%%\n"
    }
   },
   "outputs": [
    {
     "data": {
      "text/plain": "array([[[1, 2, 3],\n        [4, 5, 6]],\n\n       [[1, 2, 3],\n        [4, 5, 6]]])"
     },
     "execution_count": 21,
     "metadata": {},
     "output_type": "execute_result"
    }
   ],
   "source": [
    "c  # (2, 2, 3)"
   ]
  },
  {
   "cell_type": "code",
   "execution_count": 22,
   "metadata": {
    "pycharm": {
     "name": "#%%\n"
    }
   },
   "outputs": [
    {
     "data": {
      "text/plain": "(2, 3)"
     },
     "execution_count": 22,
     "metadata": {},
     "output_type": "execute_result"
    }
   ],
   "source": [
    "a.shape"
   ]
  },
  {
   "cell_type": "code",
   "execution_count": 23,
   "metadata": {
    "pycharm": {
     "name": "#%%\n"
    }
   },
   "outputs": [
    {
     "data": {
      "text/plain": "(4,)"
     },
     "execution_count": 23,
     "metadata": {},
     "output_type": "execute_result"
    }
   ],
   "source": [
    "b.shape"
   ]
  },
  {
   "cell_type": "code",
   "execution_count": 24,
   "metadata": {
    "pycharm": {
     "name": "#%%\n"
    }
   },
   "outputs": [
    {
     "data": {
      "text/plain": "(2, 2, 3)"
     },
     "execution_count": 24,
     "metadata": {},
     "output_type": "execute_result"
    }
   ],
   "source": [
    "c.shape"
   ]
  },
  {
   "cell_type": "markdown",
   "metadata": {
    "pycharm": {
     "name": "#%% md\n"
    }
   },
   "source": [
    "### ndarray的类型"
   ]
  },
  {
   "cell_type": "code",
   "execution_count": 25,
   "metadata": {
    "pycharm": {
     "name": "#%%\n"
    }
   },
   "outputs": [],
   "source": [
    "data = np.array([1.1, 2.2, 3.3])"
   ]
  },
  {
   "cell_type": "code",
   "execution_count": 26,
   "metadata": {
    "pycharm": {
     "name": "#%%\n"
    }
   },
   "outputs": [
    {
     "data": {
      "text/plain": "array([1.1, 2.2, 3.3])"
     },
     "execution_count": 26,
     "metadata": {},
     "output_type": "execute_result"
    }
   ],
   "source": [
    "data"
   ]
  },
  {
   "cell_type": "code",
   "execution_count": 27,
   "metadata": {
    "pycharm": {
     "name": "#%%\n"
    }
   },
   "outputs": [
    {
     "data": {
      "text/plain": "dtype('float64')"
     },
     "execution_count": 27,
     "metadata": {},
     "output_type": "execute_result"
    }
   ],
   "source": [
    "data.dtype"
   ]
  },
  {
   "cell_type": "code",
   "execution_count": 28,
   "metadata": {
    "pycharm": {
     "name": "#%%\n"
    }
   },
   "outputs": [
    {
     "data": {
      "text/plain": "array([1.1, 2.2, 3.3], dtype=float32)"
     },
     "execution_count": 28,
     "metadata": {},
     "output_type": "execute_result"
    }
   ],
   "source": [
    "# 创建数组的时候指定类型\n",
    "np.array([1.1, 2.2, 3.3], dtype=\"float32\")"
   ]
  },
  {
   "cell_type": "code",
   "execution_count": 29,
   "metadata": {
    "pycharm": {
     "name": "#%%\n"
    }
   },
   "outputs": [
    {
     "data": {
      "text/plain": "array([1.1, 2.2, 3.3], dtype=float32)"
     },
     "execution_count": 29,
     "metadata": {},
     "output_type": "execute_result"
    }
   ],
   "source": [
    "np.array([1.1, 2.2, 3.3], dtype=np.float32)"
   ]
  },
  {
   "cell_type": "markdown",
   "metadata": {
    "pycharm": {
     "name": "#%% md\n"
    }
   },
   "source": [
    "### 生成数组的方法\n",
    "\n",
    "# 1 生成0和1的数组"
   ]
  },
  {
   "cell_type": "code",
   "execution_count": 30,
   "metadata": {
    "pycharm": {
     "name": "#%%\n"
    }
   },
   "outputs": [
    {
     "data": {
      "text/plain": "array([[0., 0., 0., 0.],\n       [0., 0., 0., 0.],\n       [0., 0., 0., 0.]], dtype=float32)"
     },
     "execution_count": 30,
     "metadata": {},
     "output_type": "execute_result"
    }
   ],
   "source": [
    "np.zeros(shape=(3, 4), dtype=\"float32\")"
   ]
  },
  {
   "cell_type": "code",
   "execution_count": 31,
   "metadata": {
    "pycharm": {
     "name": "#%%\n"
    }
   },
   "outputs": [
    {
     "data": {
      "text/plain": "array([[1, 1, 1],\n       [1, 1, 1]], dtype=int32)"
     },
     "execution_count": 31,
     "metadata": {},
     "output_type": "execute_result"
    }
   ],
   "source": [
    "np.ones(shape=[2, 3], dtype=np.int32)"
   ]
  },
  {
   "cell_type": "markdown",
   "source": [
    "### 2 从现有数组生成\n"
   ],
   "metadata": {
    "collapsed": false,
    "pycharm": {
     "name": "#%% md\n"
    }
   }
  },
  {
   "cell_type": "code",
   "execution_count": 32,
   "metadata": {
    "pycharm": {
     "name": "#%%\n"
    }
   },
   "outputs": [
    {
     "data": {
      "text/plain": "array([[80, 89, 86, 67, 79],\n       [78, 97, 89, 67, 81],\n       [90, 94, 78, 67, 74],\n       [91, 91, 90, 67, 69],\n       [76, 87, 75, 67, 86],\n       [70, 79, 84, 67, 84],\n       [94, 92, 93, 67, 64],\n       [86, 85, 83, 67, 80]])"
     },
     "execution_count": 32,
     "metadata": {},
     "output_type": "execute_result"
    }
   ],
   "source": [
    "score"
   ]
  },
  {
   "cell_type": "code",
   "execution_count": 33,
   "metadata": {
    "pycharm": {
     "name": "#%%\n"
    }
   },
   "outputs": [],
   "source": [
    "# np.array()\n",
    "data1 = np.array(score)"
   ]
  },
  {
   "cell_type": "code",
   "execution_count": 34,
   "metadata": {
    "pycharm": {
     "name": "#%%\n"
    }
   },
   "outputs": [
    {
     "data": {
      "text/plain": "array([[80, 89, 86, 67, 79],\n       [78, 97, 89, 67, 81],\n       [90, 94, 78, 67, 74],\n       [91, 91, 90, 67, 69],\n       [76, 87, 75, 67, 86],\n       [70, 79, 84, 67, 84],\n       [94, 92, 93, 67, 64],\n       [86, 85, 83, 67, 80]])"
     },
     "execution_count": 34,
     "metadata": {},
     "output_type": "execute_result"
    }
   ],
   "source": [
    "data1"
   ]
  },
  {
   "cell_type": "code",
   "execution_count": 35,
   "metadata": {
    "pycharm": {
     "name": "#%%\n"
    }
   },
   "outputs": [],
   "source": [
    "# np.asarray()\n",
    "data2 = np.asarray(score)"
   ]
  },
  {
   "cell_type": "code",
   "execution_count": 36,
   "metadata": {
    "pycharm": {
     "name": "#%%\n"
    }
   },
   "outputs": [
    {
     "data": {
      "text/plain": "array([[80, 89, 86, 67, 79],\n       [78, 97, 89, 67, 81],\n       [90, 94, 78, 67, 74],\n       [91, 91, 90, 67, 69],\n       [76, 87, 75, 67, 86],\n       [70, 79, 84, 67, 84],\n       [94, 92, 93, 67, 64],\n       [86, 85, 83, 67, 80]])"
     },
     "execution_count": 36,
     "metadata": {},
     "output_type": "execute_result"
    }
   ],
   "source": [
    "data2"
   ]
  },
  {
   "cell_type": "code",
   "execution_count": 37,
   "metadata": {
    "pycharm": {
     "name": "#%%\n"
    }
   },
   "outputs": [],
   "source": [
    "# np.copy()\n",
    "data3 = np.copy(score)"
   ]
  },
  {
   "cell_type": "code",
   "execution_count": 38,
   "metadata": {
    "pycharm": {
     "name": "#%%\n"
    }
   },
   "outputs": [
    {
     "data": {
      "text/plain": "array([[80, 89, 86, 67, 79],\n       [78, 97, 89, 67, 81],\n       [90, 94, 78, 67, 74],\n       [91, 91, 90, 67, 69],\n       [76, 87, 75, 67, 86],\n       [70, 79, 84, 67, 84],\n       [94, 92, 93, 67, 64],\n       [86, 85, 83, 67, 80]])"
     },
     "execution_count": 38,
     "metadata": {},
     "output_type": "execute_result"
    }
   ],
   "source": [
    "data3"
   ]
  },
  {
   "cell_type": "code",
   "execution_count": 39,
   "metadata": {
    "pycharm": {
     "name": "#%%\n"
    }
   },
   "outputs": [
    {
     "data": {
      "text/plain": "array([[80, 89, 86, 67, 79],\n       [78, 97, 89, 67, 81],\n       [90, 94, 78, 67, 74],\n       [91, 91, 90, 67, 69],\n       [76, 87, 75, 67, 86],\n       [70, 79, 84, 67, 84],\n       [94, 92, 93, 67, 64],\n       [86, 85, 83, 67, 80]])"
     },
     "execution_count": 39,
     "metadata": {},
     "output_type": "execute_result"
    }
   ],
   "source": [
    "score"
   ]
  },
  {
   "cell_type": "code",
   "execution_count": 40,
   "metadata": {
    "pycharm": {
     "name": "#%%\n"
    }
   },
   "outputs": [],
   "source": [
    "score[3, 1] = 10000"
   ]
  },
  {
   "cell_type": "code",
   "execution_count": 41,
   "metadata": {
    "pycharm": {
     "name": "#%%\n"
    }
   },
   "outputs": [
    {
     "data": {
      "text/plain": "array([[   80,    89,    86,    67,    79],\n       [   78,    97,    89,    67,    81],\n       [   90,    94,    78,    67,    74],\n       [   91, 10000,    90,    67,    69],\n       [   76,    87,    75,    67,    86],\n       [   70,    79,    84,    67,    84],\n       [   94,    92,    93,    67,    64],\n       [   86,    85,    83,    67,    80]])"
     },
     "execution_count": 41,
     "metadata": {},
     "output_type": "execute_result"
    }
   ],
   "source": [
    "score"
   ]
  },
  {
   "cell_type": "code",
   "execution_count": 42,
   "metadata": {
    "pycharm": {
     "name": "#%%\n"
    }
   },
   "outputs": [
    {
     "data": {
      "text/plain": "array([[80, 89, 86, 67, 79],\n       [78, 97, 89, 67, 81],\n       [90, 94, 78, 67, 74],\n       [91, 91, 90, 67, 69],\n       [76, 87, 75, 67, 86],\n       [70, 79, 84, 67, 84],\n       [94, 92, 93, 67, 64],\n       [86, 85, 83, 67, 80]])"
     },
     "execution_count": 42,
     "metadata": {},
     "output_type": "execute_result"
    }
   ],
   "source": [
    "data1"
   ]
  },
  {
   "cell_type": "code",
   "execution_count": 43,
   "metadata": {
    "pycharm": {
     "name": "#%%\n"
    }
   },
   "outputs": [
    {
     "data": {
      "text/plain": "array([[   80,    89,    86,    67,    79],\n       [   78,    97,    89,    67,    81],\n       [   90,    94,    78,    67,    74],\n       [   91, 10000,    90,    67,    69],\n       [   76,    87,    75,    67,    86],\n       [   70,    79,    84,    67,    84],\n       [   94,    92,    93,    67,    64],\n       [   86,    85,    83,    67,    80]])"
     },
     "execution_count": 43,
     "metadata": {},
     "output_type": "execute_result"
    }
   ],
   "source": [
    "data2"
   ]
  },
  {
   "cell_type": "code",
   "execution_count": 44,
   "metadata": {
    "pycharm": {
     "name": "#%%\n"
    }
   },
   "outputs": [
    {
     "data": {
      "text/plain": "array([[80, 89, 86, 67, 79],\n       [78, 97, 89, 67, 81],\n       [90, 94, 78, 67, 74],\n       [91, 91, 90, 67, 69],\n       [76, 87, 75, 67, 86],\n       [70, 79, 84, 67, 84],\n       [94, 92, 93, 67, 64],\n       [86, 85, 83, 67, 80]])"
     },
     "execution_count": 44,
     "metadata": {},
     "output_type": "execute_result"
    }
   ],
   "source": [
    "data3"
   ]
  },
  {
   "cell_type": "markdown",
   "metadata": {
    "pycharm": {
     "name": "#%% md\n"
    }
   },
   "source": [
    "### 3 生成固定范围的数组"
   ]
  },
  {
   "cell_type": "code",
   "execution_count": 45,
   "metadata": {
    "pycharm": {
     "name": "#%%\n"
    }
   },
   "outputs": [
    {
     "data": {
      "text/plain": "array([ 0. ,  2.5,  5. ,  7.5, 10. ])"
     },
     "execution_count": 45,
     "metadata": {},
     "output_type": "execute_result"
    }
   ],
   "source": [
    "np.linspace(0, 10, 5)"
   ]
  },
  {
   "cell_type": "code",
   "execution_count": 46,
   "metadata": {
    "pycharm": {
     "name": "#%%\n"
    }
   },
   "outputs": [
    {
     "data": {
      "text/plain": "array([ 0,  5, 10])"
     },
     "execution_count": 46,
     "metadata": {},
     "output_type": "execute_result"
    }
   ],
   "source": [
    "np.arange(0, 11, 5)"
   ]
  },
  {
   "cell_type": "markdown",
   "metadata": {
    "pycharm": {
     "name": "#%% md\n"
    }
   },
   "source": [
    "### 4 生成随机数组"
   ]
  },
  {
   "cell_type": "code",
   "execution_count": 47,
   "metadata": {
    "pycharm": {
     "name": "#%%\n"
    }
   },
   "outputs": [],
   "source": [
    "data1 = np.random.uniform(low=-1, high=1, size=1000000)"
   ]
  },
  {
   "cell_type": "code",
   "execution_count": 48,
   "metadata": {
    "pycharm": {
     "name": "#%%\n"
    }
   },
   "outputs": [
    {
     "data": {
      "text/plain": "array([ 0.84414139,  0.42076861,  0.36119893, ...,  0.34483067,\n        0.9513395 , -0.58683136])"
     },
     "execution_count": 48,
     "metadata": {},
     "output_type": "execute_result"
    }
   ],
   "source": [
    "data1"
   ]
  },
  {
   "cell_type": "code",
   "execution_count": 49,
   "metadata": {
    "pycharm": {
     "name": "#%%\n"
    }
   },
   "outputs": [],
   "source": [
    "import matplotlib.pyplot as plt"
   ]
  },
  {
   "cell_type": "code",
   "execution_count": 50,
   "metadata": {
    "pycharm": {
     "name": "#%%\n"
    }
   },
   "outputs": [
    {
     "data": {
      "text/plain": "<Figure size 1600x640 with 1 Axes>",
      "image/png": "[encoded data removed]"
     },
     "metadata": {},
     "output_type": "display_data"
    }
   ],
   "source": [
    "# 1、创建画布\n",
    "plt.figure(figsize=(20, 8), dpi=80)\n",
    "\n",
    "# 2、绘制直方图\n",
    "plt.hist(data1, 1000)\n",
    "\n",
    "# 3、显示图像\n",
    "plt.show()"
   ]
  },
  {
   "cell_type": "code",
   "execution_count": 51,
   "metadata": {
    "pycharm": {
     "name": "#%%\n"
    }
   },
   "outputs": [],
   "source": [
    "# 正态分布\n",
    "data2 = np.random.normal(loc=1.75, scale=0.1, size=1000000)"
   ]
  },
  {
   "cell_type": "code",
   "execution_count": 52,
   "metadata": {
    "pycharm": {
     "name": "#%%\n"
    }
   },
   "outputs": [
    {
     "data": {
      "text/plain": "array([1.63290162, 1.72059235, 1.86736584, ..., 1.59146694, 1.77420742,\n       1.70994923])"
     },
     "execution_count": 52,
     "metadata": {},
     "output_type": "execute_result"
    }
   ],
   "source": [
    "data2"
   ]
  },
  {
   "cell_type": "code",
   "execution_count": 53,
   "metadata": {
    "pycharm": {
     "name": "#%%\n"
    }
   },
   "outputs": [
    {
     "data": {
      "text/plain": "<Figure size 1600x640 with 1 Axes>",
      "image/png": "[encoded data removed]"
     },
     "metadata": {},
     "output_type": "display_data"
    }
   ],
   "source": [
    "# 1、创建画布\n",
    "plt.figure(figsize=(20, 8), dpi=80)\n",
    "\n",
    "# 2、绘制直方图\n",
    "plt.hist(data2, 1000)\n",
    "\n",
    "# 3、显示图像\n",
    "plt.show()"
   ]
  },
  {
   "cell_type": "markdown",
   "metadata": {
    "pycharm": {
     "name": "#%% md\n"
    }
   },
   "source": [
    "### 案例：随机生成8只股票2周的交易日涨幅数据"
   ]
  },
  {
   "cell_type": "code",
   "execution_count": 54,
   "metadata": {
    "pycharm": {
     "name": "#%%\n"
    }
   },
   "outputs": [],
   "source": [
    "stock_change = np.random.normal(loc=0, scale=1, size=(8, 10))"
   ]
  },
  {
   "cell_type": "code",
   "execution_count": 55,
   "metadata": {
    "pycharm": {
     "name": "#%%\n"
    }
   },
   "outputs": [
    {
     "data": {
      "text/plain": "array([[ 1.70758322,  0.64433449,  0.14456145,  1.51818019,  1.23590175,\n         1.2786409 ,  0.00361867, -1.69562708, -0.05008411,  0.05370527],\n       [-0.07760885,  0.9840057 ,  0.79261327,  0.21511218,  1.30209988,\n        -0.09610003,  2.05766881,  0.52336647,  1.85931276, -0.48256238],\n       [ 1.60282199, -0.5189327 ,  0.42104716,  1.68945715,  0.7176588 ,\n        -1.51419862,  0.4339359 , -0.31454828, -1.2224049 ,  1.04745918],\n       [-1.00732453, -0.30921246,  0.69652359, -0.40407486, -1.1156626 ,\n        -1.62640586,  0.32643148, -0.74413503, -0.13640497,  0.3334114 ],\n       [-1.0226719 ,  0.18874297,  0.20345512, -1.42840528,  0.99657468,\n        -0.86221529, -0.17880484,  0.97779341,  0.07279745,  1.3537064 ],\n       [-0.44572642, -1.67542628, -0.22843884,  0.45677096, -2.06499402,\n         0.56745909, -1.4040955 , -1.37801029,  0.6575896 ,  0.76805108],\n       [ 0.61968978, -0.85770315,  0.43494062, -0.59523239,  0.88724466,\n        -0.12133107,  0.28318841,  0.28114911, -0.05835993,  1.59245406],\n       [-0.766772  , -1.33947519, -0.63701917, -0.22796829, -2.05884395,\n         0.29596608,  0.37280425,  0.60166821,  0.04541259, -0.28215589]])"
     },
     "execution_count": 55,
     "metadata": {},
     "output_type": "execute_result"
    }
   ],
   "source": [
    "stock_change"
   ]
  },
  {
   "cell_type": "code",
   "execution_count": 56,
   "metadata": {
    "pycharm": {
     "name": "#%%\n"
    }
   },
   "outputs": [
    {
     "data": {
      "text/plain": "array([1.70758322, 0.64433449, 0.14456145])"
     },
     "execution_count": 56,
     "metadata": {},
     "output_type": "execute_result"
    }
   ],
   "source": [
    "# 获取第一个股票的前3个交易日的涨跌幅数据\n",
    "stock_change[0, :3]"
   ]
  },
  {
   "cell_type": "code",
   "execution_count": 57,
   "metadata": {
    "pycharm": {
     "name": "#%%\n"
    }
   },
   "outputs": [],
   "source": [
    "a1 = np.array([[[1, 2, 3], [4, 5, 6]], [[12, 3, 34], [5, 6, 7]]])"
   ]
  },
  {
   "cell_type": "code",
   "execution_count": 58,
   "metadata": {
    "pycharm": {
     "name": "#%%\n"
    }
   },
   "outputs": [
    {
     "data": {
      "text/plain": "array([[[ 1,  2,  3],\n        [ 4,  5,  6]],\n\n       [[12,  3, 34],\n        [ 5,  6,  7]]])"
     },
     "execution_count": 58,
     "metadata": {},
     "output_type": "execute_result"
    }
   ],
   "source": [
    "a1  # (2, 2, 3)"
   ]
  },
  {
   "cell_type": "code",
   "execution_count": 59,
   "metadata": {
    "pycharm": {
     "name": "#%%\n"
    }
   },
   "outputs": [
    {
     "data": {
      "text/plain": "(2, 2, 3)"
     },
     "execution_count": 59,
     "metadata": {},
     "output_type": "execute_result"
    }
   ],
   "source": [
    "a1.shape"
   ]
  },
  {
   "cell_type": "code",
   "execution_count": 60,
   "metadata": {
    "pycharm": {
     "name": "#%%\n"
    }
   },
   "outputs": [],
   "source": [
    "a1[1, 0, 2] = 100000"
   ]
  },
  {
   "cell_type": "code",
   "execution_count": 61,
   "metadata": {
    "pycharm": {
     "name": "#%%\n"
    }
   },
   "outputs": [
    {
     "data": {
      "text/plain": "array([[[     1,      2,      3],\n        [     4,      5,      6]],\n\n       [[    12,      3, 100000],\n        [     5,      6,      7]]])"
     },
     "execution_count": 61,
     "metadata": {},
     "output_type": "execute_result"
    }
   ],
   "source": [
    "a1"
   ]
  },
  {
   "cell_type": "markdown",
   "metadata": {
    "pycharm": {
     "name": "#%% md\n"
    }
   },
   "source": [
    "### 形状修改"
   ]
  },
  {
   "cell_type": "code",
   "execution_count": 62,
   "metadata": {
    "pycharm": {
     "name": "#%%\n"
    }
   },
   "outputs": [
    {
     "data": {
      "text/plain": "array([[ 1.70758322,  0.64433449,  0.14456145,  1.51818019,  1.23590175,\n         1.2786409 ,  0.00361867, -1.69562708, -0.05008411,  0.05370527],\n       [-0.07760885,  0.9840057 ,  0.79261327,  0.21511218,  1.30209988,\n        -0.09610003,  2.05766881,  0.52336647,  1.85931276, -0.48256238],\n       [ 1.60282199, -0.5189327 ,  0.42104716,  1.68945715,  0.7176588 ,\n        -1.51419862,  0.4339359 , -0.31454828, -1.2224049 ,  1.04745918],\n       [-1.00732453, -0.30921246,  0.69652359, -0.40407486, -1.1156626 ,\n        -1.62640586,  0.32643148, -0.74413503, -0.13640497,  0.3334114 ],\n       [-1.0226719 ,  0.18874297,  0.20345512, -1.42840528,  0.99657468,\n        -0.86221529, -0.17880484,  0.97779341,  0.07279745,  1.3537064 ],\n       [-0.44572642, -1.67542628, -0.22843884,  0.45677096, -2.06499402,\n         0.56745909, -1.4040955 , -1.37801029,  0.6575896 ,  0.76805108],\n       [ 0.61968978, -0.85770315,  0.43494062, -0.59523239,  0.88724466,\n        -0.12133107,  0.28318841,  0.28114911, -0.05835993,  1.59245406],\n       [-0.766772  , -1.33947519, -0.63701917, -0.22796829, -2.05884395,\n         0.29596608,  0.37280425,  0.60166821,  0.04541259, -0.28215589]])"
     },
     "execution_count": 62,
     "metadata": {},
     "output_type": "execute_result"
    }
   ],
   "source": [
    "# 需求：让刚才的股票行、日期列反过来，变成日期行，股票列\n",
    "stock_change"
   ]
  },
  {
   "cell_type": "code",
   "execution_count": 63,
   "metadata": {
    "pycharm": {
     "name": "#%%\n"
    }
   },
   "outputs": [
    {
     "data": {
      "text/plain": "array([[ 1.70758322,  0.64433449,  0.14456145,  1.51818019,  1.23590175,\n         1.2786409 ,  0.00361867, -1.69562708],\n       [-0.05008411,  0.05370527, -0.07760885,  0.9840057 ,  0.79261327,\n         0.21511218,  1.30209988, -0.09610003],\n       [ 2.05766881,  0.52336647,  1.85931276, -0.48256238,  1.60282199,\n        -0.5189327 ,  0.42104716,  1.68945715],\n       [ 0.7176588 , -1.51419862,  0.4339359 , -0.31454828, -1.2224049 ,\n         1.04745918, -1.00732453, -0.30921246],\n       [ 0.69652359, -0.40407486, -1.1156626 , -1.62640586,  0.32643148,\n        -0.74413503, -0.13640497,  0.3334114 ],\n       [-1.0226719 ,  0.18874297,  0.20345512, -1.42840528,  0.99657468,\n        -0.86221529, -0.17880484,  0.97779341],\n       [ 0.07279745,  1.3537064 , -0.44572642, -1.67542628, -0.22843884,\n         0.45677096, -2.06499402,  0.56745909],\n       [-1.4040955 , -1.37801029,  0.6575896 ,  0.76805108,  0.61968978,\n        -0.85770315,  0.43494062, -0.59523239],\n       [ 0.88724466, -0.12133107,  0.28318841,  0.28114911, -0.05835993,\n         1.59245406, -0.766772  , -1.33947519],\n       [-0.63701917, -0.22796829, -2.05884395,  0.29596608,  0.37280425,\n         0.60166821,  0.04541259, -0.28215589]])"
     },
     "execution_count": 63,
     "metadata": {},
     "output_type": "execute_result"
    }
   ],
   "source": [
    "stock_change.reshape((10, 8))"
   ]
  },
  {
   "cell_type": "code",
   "execution_count": 64,
   "metadata": {
    "pycharm": {
     "name": "#%%\n"
    }
   },
   "outputs": [
    {
     "data": {
      "text/plain": "array([[ 1.70758322,  0.64433449,  0.14456145,  1.51818019,  1.23590175,\n         1.2786409 ,  0.00361867, -1.69562708, -0.05008411,  0.05370527],\n       [-0.07760885,  0.9840057 ,  0.79261327,  0.21511218,  1.30209988,\n        -0.09610003,  2.05766881,  0.52336647,  1.85931276, -0.48256238],\n       [ 1.60282199, -0.5189327 ,  0.42104716,  1.68945715,  0.7176588 ,\n        -1.51419862,  0.4339359 , -0.31454828, -1.2224049 ,  1.04745918],\n       [-1.00732453, -0.30921246,  0.69652359, -0.40407486, -1.1156626 ,\n        -1.62640586,  0.32643148, -0.74413503, -0.13640497,  0.3334114 ],\n       [-1.0226719 ,  0.18874297,  0.20345512, -1.42840528,  0.99657468,\n        -0.86221529, -0.17880484,  0.97779341,  0.07279745,  1.3537064 ],\n       [-0.44572642, -1.67542628, -0.22843884,  0.45677096, -2.06499402,\n         0.56745909, -1.4040955 , -1.37801029,  0.6575896 ,  0.76805108],\n       [ 0.61968978, -0.85770315,  0.43494062, -0.59523239,  0.88724466,\n        -0.12133107,  0.28318841,  0.28114911, -0.05835993,  1.59245406],\n       [-0.766772  , -1.33947519, -0.63701917, -0.22796829, -2.05884395,\n         0.29596608,  0.37280425,  0.60166821,  0.04541259, -0.28215589]])"
     },
     "execution_count": 64,
     "metadata": {},
     "output_type": "execute_result"
    }
   ],
   "source": [
    "stock_change"
   ]
  },
  {
   "cell_type": "code",
   "execution_count": 65,
   "metadata": {
    "pycharm": {
     "name": "#%%\n"
    }
   },
   "outputs": [],
   "source": [
    "stock_change.resize((10, 8))"
   ]
  },
  {
   "cell_type": "code",
   "execution_count": 66,
   "metadata": {
    "pycharm": {
     "name": "#%%\n"
    }
   },
   "outputs": [
    {
     "data": {
      "text/plain": "(10, 8)"
     },
     "execution_count": 66,
     "metadata": {},
     "output_type": "execute_result"
    }
   ],
   "source": [
    "stock_change.shape"
   ]
  },
  {
   "cell_type": "code",
   "execution_count": 67,
   "metadata": {
    "pycharm": {
     "name": "#%%\n"
    }
   },
   "outputs": [],
   "source": [
    "stock_change.resize((8, 10))"
   ]
  },
  {
   "cell_type": "code",
   "execution_count": 68,
   "metadata": {
    "pycharm": {
     "name": "#%%\n"
    }
   },
   "outputs": [
    {
     "data": {
      "text/plain": "array([[ 1.70758322,  0.64433449,  0.14456145,  1.51818019,  1.23590175,\n         1.2786409 ,  0.00361867, -1.69562708, -0.05008411,  0.05370527],\n       [-0.07760885,  0.9840057 ,  0.79261327,  0.21511218,  1.30209988,\n        -0.09610003,  2.05766881,  0.52336647,  1.85931276, -0.48256238],\n       [ 1.60282199, -0.5189327 ,  0.42104716,  1.68945715,  0.7176588 ,\n        -1.51419862,  0.4339359 , -0.31454828, -1.2224049 ,  1.04745918],\n       [-1.00732453, -0.30921246,  0.69652359, -0.40407486, -1.1156626 ,\n        -1.62640586,  0.32643148, -0.74413503, -0.13640497,  0.3334114 ],\n       [-1.0226719 ,  0.18874297,  0.20345512, -1.42840528,  0.99657468,\n        -0.86221529, -0.17880484,  0.97779341,  0.07279745,  1.3537064 ],\n       [-0.44572642, -1.67542628, -0.22843884,  0.45677096, -2.06499402,\n         0.56745909, -1.4040955 , -1.37801029,  0.6575896 ,  0.76805108],\n       [ 0.61968978, -0.85770315,  0.43494062, -0.59523239,  0.88724466,\n        -0.12133107,  0.28318841,  0.28114911, -0.05835993,  1.59245406],\n       [-0.766772  , -1.33947519, -0.63701917, -0.22796829, -2.05884395,\n         0.29596608,  0.37280425,  0.60166821,  0.04541259, -0.28215589]])"
     },
     "execution_count": 68,
     "metadata": {},
     "output_type": "execute_result"
    }
   ],
   "source": [
    "stock_change"
   ]
  },
  {
   "cell_type": "code",
   "execution_count": 69,
   "metadata": {
    "pycharm": {
     "name": "#%%\n"
    }
   },
   "outputs": [
    {
     "data": {
      "text/plain": "array([[ 1.70758322, -0.07760885,  1.60282199, -1.00732453, -1.0226719 ,\n        -0.44572642,  0.61968978, -0.766772  ],\n       [ 0.64433449,  0.9840057 , -0.5189327 , -0.30921246,  0.18874297,\n        -1.67542628, -0.85770315, -1.33947519],\n       [ 0.14456145,  0.79261327,  0.42104716,  0.69652359,  0.20345512,\n        -0.22843884,  0.43494062, -0.63701917],\n       [ 1.51818019,  0.21511218,  1.68945715, -0.40407486, -1.42840528,\n         0.45677096, -0.59523239, -0.22796829],\n       [ 1.23590175,  1.30209988,  0.7176588 , -1.1156626 ,  0.99657468,\n        -2.06499402,  0.88724466, -2.05884395],\n       [ 1.2786409 , -0.09610003, -1.51419862, -1.62640586, -0.86221529,\n         0.56745909, -0.12133107,  0.29596608],\n       [ 0.00361867,  2.05766881,  0.4339359 ,  0.32643148, -0.17880484,\n        -1.4040955 ,  0.28318841,  0.37280425],\n       [-1.69562708,  0.52336647, -0.31454828, -0.74413503,  0.97779341,\n        -1.37801029,  0.28114911,  0.60166821],\n       [-0.05008411,  1.85931276, -1.2224049 , -0.13640497,  0.07279745,\n         0.6575896 , -0.05835993,  0.04541259],\n       [ 0.05370527, -0.48256238,  1.04745918,  0.3334114 ,  1.3537064 ,\n         0.76805108,  1.59245406, -0.28215589]])"
     },
     "execution_count": 69,
     "metadata": {},
     "output_type": "execute_result"
    }
   ],
   "source": [
    "stock_change.T"
   ]
  },
  {
   "cell_type": "markdown",
   "metadata": {
    "pycharm": {
     "name": "#%% md\n"
    }
   },
   "source": [
    "### 类型修改"
   ]
  },
  {
   "cell_type": "code",
   "execution_count": 70,
   "metadata": {
    "pycharm": {
     "name": "#%%\n"
    }
   },
   "outputs": [
    {
     "data": {
      "text/plain": "array([[ 1,  0,  0,  1,  1,  1,  0, -1,  0,  0],\n       [ 0,  0,  0,  0,  1,  0,  2,  0,  1,  0],\n       [ 1,  0,  0,  1,  0, -1,  0,  0, -1,  1],\n       [-1,  0,  0,  0, -1, -1,  0,  0,  0,  0],\n       [-1,  0,  0, -1,  0,  0,  0,  0,  0,  1],\n       [ 0, -1,  0,  0, -2,  0, -1, -1,  0,  0],\n       [ 0,  0,  0,  0,  0,  0,  0,  0,  0,  1],\n       [ 0, -1,  0,  0, -2,  0,  0,  0,  0,  0]], dtype=int32)"
     },
     "execution_count": 70,
     "metadata": {},
     "output_type": "execute_result"
    }
   ],
   "source": [
    "stock_change.astype(\"int32\")"
   ]
  },
  {
   "cell_type": "code",
   "execution_count": 71,
   "metadata": {
    "pycharm": {
     "name": "#%%\n"
    }
   },
   "outputs": [
    {
     "name": "stderr",
     "output_type": "stream",
     "text": [
      "/var/folders/3t/l_d637_s7w9g7p_8jx595_l00000gn/T/ipykernel_41256/2467773822.py:1: DeprecationWarning: tostring() is deprecated. Use tobytes() instead.\n",
      "  stock_change.tostring()\n"
     ]
    },
    {
     "data": {
      "text/plain": "b'F\\xc0\\xc0\\xc7BR\\xfb?\\xb3\\xb4\\x1c[c\\x9e\\xe4?\\x07\\xde\\xbaX\\xfd\\x80\\xc2?\\x08Z\\xd4PwJ\\xf8?A\\xae3\\xe9@\\xc6\\xf3?\\x9a\\x96\\xce)Pu\\xf4?\\x11l\\x93j\\xe4\\xa4m?V\\x99d\\xdbI!\\xfb\\xbf\\x14W\\xf8\\xd1\\x9f\\xa4\\xa9\\xbf)\\xdfH\\xb0A\\x7f\\xab?\\x03o\\xd9{,\\xde\\xb3\\xbf$\\xc8D\\x83\\xf9|\\xef?\\xf1\\x1d.\\x82\\x16]\\xe9?*.\"\\xbd\\xcb\\x88\\xcb?S\\xb2\\x95\\xaff\\xd5\\xf4?\\xc0/\\xb7\\xee\\x02\\x9a\\xb8\\xbfV\\xe4\\t\\x10\\x1bv\\x00@\\xaa\\x14\\xc6\\nk\\xbf\\xe0?0Q_\\xbb\\xbe\\xbf\\xfd?\\xb5G\\x93NM\\xe2\\xde\\xbf}\\x15=\\xab(\\xa5\\xf9?\\xb18\\xe4\\xbe\\x18\\x9b\\xe0\\xbf\\xda\\x8d\\xb4\\xc6o\\xf2\\xda?\\x07X\\xb57\\x04\\x08\\xfb?\\xa6\\xd54\\x94\\x0f\\xf7\\xe6?1\\nFT(:\\xf8\\xbfp\\x7f\\xc1\\x18\\x9b\\xc5\\xdb?\\xa0\\xc0\\xce\\x19\\x8f!\\xd4\\xbf\\n\\x8e\\x01r\\xf8\\x8e\\xf3\\xbf\\x7f\\x01\\xbd\\x8ed\\xc2\\xf0?,[\\x1dS\\x00\\x1e\\xf0\\xbf5\\xd4\\x85\\x11#\\xca\\xd3\\xbf\\x88\\xc0\\x07\\xd5\\xebI\\xe6?\\x02\\xb9\\xc7\\xcf\\\\\\xdc\\xd9\\xbfXo{\\x06\\xc1\\xd9\\xf1\\xbf\\xdc\\xe4b&\\xc2\\x05\\xfa\\xbf40\\\\\\xda@\\xe4\\xd4?I&MC\\xf4\\xcf\\xe7\\xbfN\\xc7(\\xcb\\xb7u\\xc1\\xbf2\\xba\\xfc\\xbf\\x9cV\\xd5?\\xa7\\x16\\xf84\\xdd\\\\\\xf0\\xbfn\\x7f\\xbc\\xcd\\xba(\\xc8?2?6=\\xd1\\n\\xca?\\x06\\x12G~\\xbf\\xda\\xf6\\xbf\\xe7\\x16\\x83\\x94\\xf0\\xe3\\xef?\\xf7xo\\x86D\\x97\\xeb\\xbf\\x1e\\xab\\xed\\xba\\x13\\xe3\\xc6\\xbfOj{h\\x15J\\xef?\\xc0\\xe9\\x8fw\\xda\\xa2\\xb2?\\xf0\\x00Y\\x0b\\xc8\\xa8\\xf5?\\x98\\xc5\\x95\\x1c\\xc8\\x86\\xdc\\xbf\\xf3\\x15\\x03\\xca\\x8b\\xce\\xfa\\xbf\\xc2\\x88h\\xd9{=\\xcd\\xbfp\\xbc\\xadG\\xbc;\\xdd?\\x1d\\xaf\\xa6\\x95\\x1b\\x85\\x00\\xc0)i9\\xf5\\x9f(\\xe2?\\xaa\\xf6\\x15\\xd9,w\\xf6\\xbf-4T\\x85T\\x0c\\xf6\\xbfu\\t\\xd5X\\xf9\\n\\xe5?\\xf5x\\x08\\xdb\\xdf\\x93\\xe8?!2\\xe9\\xa9\\x7f\\xd4\\xe3??%a\\xdeMr\\xeb\\xbfo\\x82\\x053\\x11\\xd6\\xdb?c\\x11~\\xcc$\\x0c\\xe3\\xbff\\x89\\x8f\\xeaNd\\xec?\\x95\\x87\\x90\\x7f\\x8d\\x0f\\xbf\\xbf\\xe9\\xecrF\\xc2\\x1f\\xd2?y\\x16\\x9b\\xd4X\\xfe\\xd1?C#\\x8atZ\\xe1\\xad\\xbf\\xa2_\\xf7\\x1c\\xb1z\\xf9?\\xbe\\xde9me\\x89\\xe8\\xbf\\n\\xe2)\\x8a}n\\xf5\\xbf8j\\xea\\x08vb\\xe4\\xbf\\x13\\xb1\\xf1\\x97\\x10.\\xcd\\xbf\\x12\\x02\\xb2,\\x83x\\x00\\xc0-z\\x07\\xb5\\x1b\\xf1\\xd2?\\xe3\\x0b5]\\x06\\xdc\\xd7?\\xfe\\x00\\xff\\xb1\\xdd@\\xe3?\\xe5\\xe8\\xa5\\x7fQ@\\xa7?\\r\\x8cj\\x95\\xd7\\x0e\\xd2\\xbf'"
     },
     "execution_count": 71,
     "metadata": {},
     "output_type": "execute_result"
    }
   ],
   "source": [
    "stock_change.tostring()"
   ]
  },
  {
   "cell_type": "markdown",
   "metadata": {
    "pycharm": {
     "name": "#%% md\n"
    }
   },
   "source": [
    "### 数组的去重"
   ]
  },
  {
   "cell_type": "code",
   "execution_count": 72,
   "metadata": {
    "pycharm": {
     "name": "#%%\n"
    }
   },
   "outputs": [],
   "source": [
    "temp = np.array([[1, 2, 3, 4], [3, 4, 5, 6]])"
   ]
  },
  {
   "cell_type": "code",
   "execution_count": 73,
   "metadata": {
    "pycharm": {
     "name": "#%%\n"
    }
   },
   "outputs": [
    {
     "data": {
      "text/plain": "array([[1, 2, 3, 4],\n       [3, 4, 5, 6]])"
     },
     "execution_count": 73,
     "metadata": {},
     "output_type": "execute_result"
    }
   ],
   "source": [
    "temp"
   ]
  },
  {
   "cell_type": "code",
   "execution_count": 74,
   "metadata": {
    "pycharm": {
     "name": "#%%\n"
    }
   },
   "outputs": [
    {
     "data": {
      "text/plain": "array([1, 2, 3, 4, 5, 6])"
     },
     "execution_count": 74,
     "metadata": {},
     "output_type": "execute_result"
    }
   ],
   "source": [
    "np.unique(temp)"
   ]
  },
  {
   "cell_type": "code",
   "execution_count": 75,
   "metadata": {
    "pycharm": {
     "name": "#%%\n"
    }
   },
   "outputs": [
    {
     "data": {
      "text/plain": "{1, 2, 3, 4, 5, 6}"
     },
     "execution_count": 75,
     "metadata": {},
     "output_type": "execute_result"
    }
   ],
   "source": [
    "set(temp.flatten())"
   ]
  },
  {
   "cell_type": "markdown",
   "metadata": {
    "pycharm": {
     "name": "#%% md\n"
    }
   },
   "source": [
    "### 逻辑运算"
   ]
  },
  {
   "cell_type": "code",
   "execution_count": 76,
   "metadata": {
    "pycharm": {
     "name": "#%%\n"
    }
   },
   "outputs": [],
   "source": [
    "stock_change = np.random.normal(loc=0, scale=1, size=(8, 10))"
   ]
  },
  {
   "cell_type": "code",
   "execution_count": 77,
   "metadata": {
    "pycharm": {
     "name": "#%%\n"
    }
   },
   "outputs": [
    {
     "data": {
      "text/plain": "array([[-0.58927487,  0.10203353,  0.02253633, -0.59854328,  1.20517337,\n        -0.35064552, -0.28082045, -0.56026037,  0.0671676 , -0.50301849],\n       [ 1.96803486, -0.43273912, -1.08817787,  0.78142731,  0.37016016,\n         0.2720422 ,  0.78147363,  1.29098248, -1.68382832,  1.65921748],\n       [-0.35967586,  0.44643354, -1.1134517 ,  0.19942681, -1.61290024,\n         1.77947668,  0.91726637,  1.4250267 , -1.21284222,  1.26597509],\n       [-1.19350044,  0.42959777, -0.6586944 ,  0.61855564,  0.3364607 ,\n        -1.28252856,  1.14169025,  1.89911506, -0.6369379 , -0.88008687],\n       [-0.5690011 , -2.31560637, -0.15448635,  0.01781661, -0.42731497,\n         0.44236953, -1.47448634, -0.94540433,  0.17202523, -0.01449583],\n       [-1.51339626,  1.31458959,  2.30883309, -1.35142571,  0.00986261,\n         0.57989857, -0.49837875,  1.84968133,  0.11976193,  0.07187035],\n       [ 0.45892403,  1.82261158,  1.08864046,  0.77312318, -1.77217977,\n        -0.75557604, -0.03953993,  0.38064561,  1.92262256,  0.66700537],\n       [ 1.31732749, -0.26916259, -0.33325731, -0.25157157,  0.38138183,\n         0.54353592,  0.52802332, -0.1153788 , -1.74871908, -0.77111333]])"
     },
     "execution_count": 77,
     "metadata": {},
     "output_type": "execute_result"
    }
   ],
   "source": [
    "stock_change"
   ]
  },
  {
   "cell_type": "code",
   "execution_count": 78,
   "metadata": {
    "pycharm": {
     "name": "#%%\n"
    }
   },
   "outputs": [
    {
     "data": {
      "text/plain": "array([[False, False, False, False,  True, False, False, False, False,\n        False],\n       [ True, False, False,  True, False, False,  True,  True, False,\n         True],\n       [False, False, False, False, False,  True,  True,  True, False,\n         True],\n       [False, False, False,  True, False, False,  True,  True, False,\n        False],\n       [False, False, False, False, False, False, False, False, False,\n        False],\n       [False,  True,  True, False, False,  True, False,  True, False,\n        False],\n       [False,  True,  True,  True, False, False, False, False,  True,\n         True],\n       [ True, False, False, False, False,  True,  True, False, False,\n        False]])"
     },
     "execution_count": 78,
     "metadata": {},
     "output_type": "execute_result"
    }
   ],
   "source": [
    "# 逻辑判断, 如果涨跌幅大于0.5就标记为True 否则为False\n",
    "stock_change > 0.5"
   ]
  },
  {
   "cell_type": "code",
   "execution_count": 79,
   "metadata": {
    "pycharm": {
     "name": "#%%\n"
    }
   },
   "outputs": [],
   "source": [
    "stock_change[stock_change > 0.5] = 1.1"
   ]
  },
  {
   "cell_type": "code",
   "execution_count": 80,
   "metadata": {
    "pycharm": {
     "name": "#%%\n"
    }
   },
   "outputs": [
    {
     "data": {
      "text/plain": "array([[-0.58927487,  0.10203353,  0.02253633, -0.59854328,  1.1       ,\n        -0.35064552, -0.28082045, -0.56026037,  0.0671676 , -0.50301849],\n       [ 1.1       , -0.43273912, -1.08817787,  1.1       ,  0.37016016,\n         0.2720422 ,  1.1       ,  1.1       , -1.68382832,  1.1       ],\n       [-0.35967586,  0.44643354, -1.1134517 ,  0.19942681, -1.61290024,\n         1.1       ,  1.1       ,  1.1       , -1.21284222,  1.1       ],\n       [-1.19350044,  0.42959777, -0.6586944 ,  1.1       ,  0.3364607 ,\n        -1.28252856,  1.1       ,  1.1       , -0.6369379 , -0.88008687],\n       [-0.5690011 , -2.31560637, -0.15448635,  0.01781661, -0.42731497,\n         0.44236953, -1.47448634, -0.94540433,  0.17202523, -0.01449583],\n       [-1.51339626,  1.1       ,  1.1       , -1.35142571,  0.00986261,\n         1.1       , -0.49837875,  1.1       ,  0.11976193,  0.07187035],\n       [ 0.45892403,  1.1       ,  1.1       ,  1.1       , -1.77217977,\n        -0.75557604, -0.03953993,  0.38064561,  1.1       ,  1.1       ],\n       [ 1.1       , -0.26916259, -0.33325731, -0.25157157,  0.38138183,\n         1.1       ,  1.1       , -0.1153788 , -1.74871908, -0.77111333]])"
     },
     "execution_count": 80,
     "metadata": {},
     "output_type": "execute_result"
    }
   ],
   "source": [
    "stock_change"
   ]
  },
  {
   "cell_type": "code",
   "execution_count": 81,
   "metadata": {
    "pycharm": {
     "name": "#%%\n"
    }
   },
   "outputs": [
    {
     "data": {
      "text/plain": "array([[False,  True,  True, False,  True],\n       [ True, False, False,  True,  True]])"
     },
     "execution_count": 81,
     "metadata": {},
     "output_type": "execute_result"
    }
   ],
   "source": [
    "# 判断stock_change[0:2, 0:5]是否全是上涨的\n",
    "stock_change[0:2, 0:5] > 0"
   ]
  },
  {
   "cell_type": "code",
   "execution_count": 82,
   "metadata": {
    "pycharm": {
     "name": "#%%\n"
    }
   },
   "outputs": [
    {
     "data": {
      "text/plain": "False"
     },
     "execution_count": 82,
     "metadata": {},
     "output_type": "execute_result"
    }
   ],
   "source": [
    "np.all(stock_change[0:2, 0:5] > 0)"
   ]
  },
  {
   "cell_type": "code",
   "execution_count": 83,
   "metadata": {
    "pycharm": {
     "name": "#%%\n"
    }
   },
   "outputs": [
    {
     "data": {
      "text/plain": "True"
     },
     "execution_count": 83,
     "metadata": {},
     "output_type": "execute_result"
    }
   ],
   "source": [
    "# 判断前5只股票这段期间是否有上涨的\n",
    "np.any(stock_change[:5, :] > 0)"
   ]
  },
  {
   "cell_type": "markdown",
   "metadata": {
    "pycharm": {
     "name": "#%% md\n"
    }
   },
   "source": [
    "### np.where（三元运算符）"
   ]
  },
  {
   "cell_type": "code",
   "execution_count": 84,
   "metadata": {
    "pycharm": {
     "name": "#%%\n"
    }
   },
   "outputs": [],
   "source": [
    "# 判断前四个股票前四天的涨跌幅 大于0的置为1，否则为0\n",
    "temp = stock_change[:4, :4]"
   ]
  },
  {
   "cell_type": "code",
   "execution_count": 85,
   "metadata": {
    "pycharm": {
     "name": "#%%\n"
    }
   },
   "outputs": [
    {
     "data": {
      "text/plain": "array([[-0.58927487,  0.10203353,  0.02253633, -0.59854328],\n       [ 1.1       , -0.43273912, -1.08817787,  1.1       ],\n       [-0.35967586,  0.44643354, -1.1134517 ,  0.19942681],\n       [-1.19350044,  0.42959777, -0.6586944 ,  1.1       ]])"
     },
     "execution_count": 85,
     "metadata": {},
     "output_type": "execute_result"
    }
   ],
   "source": [
    "temp"
   ]
  },
  {
   "cell_type": "code",
   "execution_count": 86,
   "metadata": {
    "pycharm": {
     "name": "#%%\n"
    }
   },
   "outputs": [
    {
     "data": {
      "text/plain": "array([[0, 1, 1, 0],\n       [1, 0, 0, 1],\n       [0, 1, 0, 1],\n       [0, 1, 0, 1]])"
     },
     "execution_count": 86,
     "metadata": {},
     "output_type": "execute_result"
    }
   ],
   "source": [
    "np.where(temp > 0, 1, 0)"
   ]
  },
  {
   "cell_type": "code",
   "execution_count": 87,
   "metadata": {
    "pycharm": {
     "name": "#%%\n"
    }
   },
   "outputs": [
    {
     "data": {
      "text/plain": "array([[False,  True,  True, False],\n       [ True, False, False,  True],\n       [False,  True, False,  True],\n       [False,  True, False,  True]])"
     },
     "execution_count": 87,
     "metadata": {},
     "output_type": "execute_result"
    }
   ],
   "source": [
    "temp > 0"
   ]
  },
  {
   "cell_type": "code",
   "execution_count": 88,
   "metadata": {
    "pycharm": {
     "name": "#%%\n"
    }
   },
   "outputs": [
    {
     "data": {
      "text/plain": "array([[1, 0, 1, 1],\n       [1, 1, 1, 1],\n       [0, 0, 1, 0],\n       [1, 0, 1, 0]])"
     },
     "execution_count": 88,
     "metadata": {},
     "output_type": "execute_result"
    }
   ],
   "source": [
    "np.where([[True, False, True, True],\n",
    "          [True, True, True, True],\n",
    "          [False, False, True, False],\n",
    "          [True, False, True, False]], 1, 0)"
   ]
  },
  {
   "cell_type": "code",
   "execution_count": 89,
   "metadata": {
    "pycharm": {
     "name": "#%%\n"
    }
   },
   "outputs": [
    {
     "data": {
      "text/plain": "array([[-0.58927487,  0.10203353,  0.02253633, -0.59854328],\n       [ 1.1       , -0.43273912, -1.08817787,  1.1       ],\n       [-0.35967586,  0.44643354, -1.1134517 ,  0.19942681],\n       [-1.19350044,  0.42959777, -0.6586944 ,  1.1       ]])"
     },
     "execution_count": 89,
     "metadata": {},
     "output_type": "execute_result"
    }
   ],
   "source": [
    "temp"
   ]
  },
  {
   "cell_type": "code",
   "execution_count": 90,
   "metadata": {
    "pycharm": {
     "name": "#%%\n"
    }
   },
   "outputs": [
    {
     "data": {
      "text/plain": "array([[False, False, False, False],\n       [False, False, False, False],\n       [False, False, False, False],\n       [False, False, False, False]])"
     },
     "execution_count": 90,
     "metadata": {},
     "output_type": "execute_result"
    }
   ],
   "source": [
    "# 判断前四个股票前四天的涨跌幅 大于0.5并且小于1的，换为1，否则为0\n",
    "# 判断前四个股票前四天的涨跌幅 大于0.5或者小于-0.5的，换为1，否则为0\n",
    "# (temp > 0.5) and (temp < 1)\n",
    "np.logical_and(temp > 0.5, temp < 1)"
   ]
  },
  {
   "cell_type": "code",
   "execution_count": 91,
   "metadata": {
    "pycharm": {
     "name": "#%%\n"
    }
   },
   "outputs": [
    {
     "data": {
      "text/plain": "array([[0, 0, 0, 0],\n       [0, 0, 0, 0],\n       [0, 0, 0, 0],\n       [0, 0, 0, 0]])"
     },
     "execution_count": 91,
     "metadata": {},
     "output_type": "execute_result"
    }
   ],
   "source": [
    "np.where([[False, False, False, False],\n",
    "          [False, False, False, False],\n",
    "          [False, False, False, False],\n",
    "          [False, False, False, False]], 1, 0)"
   ]
  },
  {
   "cell_type": "code",
   "execution_count": 92,
   "metadata": {
    "pycharm": {
     "name": "#%%\n"
    }
   },
   "outputs": [
    {
     "data": {
      "text/plain": "array([[0, 0, 0, 0],\n       [0, 0, 0, 0],\n       [0, 0, 0, 0],\n       [0, 0, 0, 0]])"
     },
     "execution_count": 92,
     "metadata": {},
     "output_type": "execute_result"
    }
   ],
   "source": [
    "np.where(np.logical_and(temp > 0.5, temp < 1), 1, 0)"
   ]
  },
  {
   "cell_type": "code",
   "execution_count": 93,
   "metadata": {
    "pycharm": {
     "name": "#%%\n"
    }
   },
   "outputs": [
    {
     "data": {
      "text/plain": "array([[ True, False, False,  True],\n       [ True, False,  True,  True],\n       [False, False,  True, False],\n       [ True, False,  True,  True]])"
     },
     "execution_count": 93,
     "metadata": {},
     "output_type": "execute_result"
    }
   ],
   "source": [
    "np.logical_or(temp > 0.5, temp < -0.5)"
   ]
  },
  {
   "cell_type": "code",
   "execution_count": 94,
   "metadata": {
    "pycharm": {
     "name": "#%%\n"
    }
   },
   "outputs": [
    {
     "data": {
      "text/plain": "array([[11,  3,  3, 11],\n       [11,  3, 11, 11],\n       [ 3,  3, 11,  3],\n       [11,  3, 11, 11]])"
     },
     "execution_count": 94,
     "metadata": {},
     "output_type": "execute_result"
    }
   ],
   "source": [
    "np.where(np.logical_or(temp > 0.5, temp < -0.5), 11, 3)"
   ]
  },
  {
   "cell_type": "markdown",
   "metadata": {
    "pycharm": {
     "name": "#%% md\n"
    }
   },
   "source": [
    "### 2 股票涨跌幅统计运算"
   ]
  },
  {
   "cell_type": "code",
   "execution_count": 95,
   "metadata": {
    "pycharm": {
     "name": "#%%\n"
    }
   },
   "outputs": [
    {
     "data": {
      "text/plain": "array([[-0.58927487,  0.10203353,  0.02253633, -0.59854328],\n       [ 1.1       , -0.43273912, -1.08817787,  1.1       ],\n       [-0.35967586,  0.44643354, -1.1134517 ,  0.19942681],\n       [-1.19350044,  0.42959777, -0.6586944 ,  1.1       ]])"
     },
     "execution_count": 95,
     "metadata": {},
     "output_type": "execute_result"
    }
   ],
   "source": [
    "# 前四只股票前四天的最大涨幅\n",
    "temp  # shape: (4, 4) 0  1"
   ]
  },
  {
   "cell_type": "code",
   "execution_count": 96,
   "metadata": {
    "pycharm": {
     "name": "#%%\n"
    }
   },
   "outputs": [
    {
     "data": {
      "text/plain": "array([1.1       , 0.44643354, 0.02253633, 1.1       ])"
     },
     "execution_count": 96,
     "metadata": {},
     "output_type": "execute_result"
    }
   ],
   "source": [
    "temp.max(axis=0)"
   ]
  },
  {
   "cell_type": "code",
   "execution_count": 97,
   "metadata": {
    "pycharm": {
     "name": "#%%\n"
    }
   },
   "outputs": [
    {
     "data": {
      "text/plain": "array([0.10203353, 1.1       , 0.44643354, 1.1       ])"
     },
     "execution_count": 97,
     "metadata": {},
     "output_type": "execute_result"
    }
   ],
   "source": [
    "np.max(temp, axis=-1)"
   ]
  },
  {
   "cell_type": "code",
   "execution_count": 98,
   "metadata": {
    "pycharm": {
     "name": "#%%\n"
    }
   },
   "outputs": [
    {
     "data": {
      "text/plain": "array([1, 0, 1, 3])"
     },
     "execution_count": 98,
     "metadata": {},
     "output_type": "execute_result"
    }
   ],
   "source": [
    "np.argmax(temp, axis=-1)"
   ]
  },
  {
   "cell_type": "markdown",
   "metadata": {
    "pycharm": {
     "name": "#%% md\n"
    }
   },
   "source": [
    "### 数组与数的运算"
   ]
  },
  {
   "cell_type": "code",
   "execution_count": 99,
   "metadata": {
    "pycharm": {
     "name": "#%%\n"
    }
   },
   "outputs": [],
   "source": [
    "arr = np.array([[1, 2, 3, 2, 1, 4], [5, 6, 1, 2, 3, 1]])"
   ]
  },
  {
   "cell_type": "code",
   "execution_count": 100,
   "metadata": {
    "pycharm": {
     "name": "#%%\n"
    }
   },
   "outputs": [
    {
     "data": {
      "text/plain": "array([[0.1, 0.2, 0.3, 0.2, 0.1, 0.4],\n       [0.5, 0.6, 0.1, 0.2, 0.3, 0.1]])"
     },
     "execution_count": 100,
     "metadata": {},
     "output_type": "execute_result"
    }
   ],
   "source": [
    "arr / 10"
   ]
  },
  {
   "cell_type": "code",
   "execution_count": 101,
   "metadata": {
    "pycharm": {
     "name": "#%%\n"
    }
   },
   "outputs": [],
   "source": [
    "a = [1, 2, 3, 4, 5]"
   ]
  },
  {
   "cell_type": "code",
   "execution_count": 102,
   "metadata": {
    "pycharm": {
     "name": "#%%\n"
    }
   },
   "outputs": [],
   "source": [
    "# a * 10"
   ]
  },
  {
   "cell_type": "markdown",
   "metadata": {
    "pycharm": {
     "name": "#%% md\n"
    }
   },
   "source": [
    "### 数组与数组的运算"
   ]
  },
  {
   "cell_type": "code",
   "execution_count": 103,
   "metadata": {
    "pycharm": {
     "name": "#%%\n"
    }
   },
   "outputs": [],
   "source": [
    "arr1 = np.array([[1, 2, 3, 2, 1, 4], [5, 6, 1, 2, 3, 1]])\n",
    "arr2 = np.array([[1, 2, 3, 4], [3, 4, 5, 6]])\n"
   ]
  },
  {
   "cell_type": "code",
   "execution_count": 104,
   "metadata": {
    "pycharm": {
     "name": "#%%\n"
    }
   },
   "outputs": [
    {
     "data": {
      "text/plain": "array([[1, 2, 3, 2, 1, 4],\n       [5, 6, 1, 2, 3, 1]])"
     },
     "execution_count": 104,
     "metadata": {},
     "output_type": "execute_result"
    }
   ],
   "source": [
    "arr1  # (2, 6)"
   ]
  },
  {
   "cell_type": "code",
   "execution_count": 105,
   "metadata": {
    "pycharm": {
     "name": "#%%\n"
    }
   },
   "outputs": [
    {
     "data": {
      "text/plain": "array([[1, 2, 3, 4],\n       [3, 4, 5, 6]])"
     },
     "execution_count": 105,
     "metadata": {},
     "output_type": "execute_result"
    }
   ],
   "source": [
    "arr2  # (2, 4)"
   ]
  },
  {
   "cell_type": "code",
   "execution_count": 106,
   "metadata": {
    "pycharm": {
     "name": "#%%\n"
    }
   },
   "outputs": [],
   "source": [
    "# arr1 + arr2"
   ]
  },
  {
   "cell_type": "code",
   "execution_count": 107,
   "metadata": {
    "pycharm": {
     "name": "#%%\n"
    }
   },
   "outputs": [],
   "source": [
    "arr1 = np.array([[1, 2, 3, 2, 1, 4], [5, 6, 1, 2, 3, 1]])\n",
    "arr2 = np.array([[1], [3]])"
   ]
  },
  {
   "cell_type": "code",
   "execution_count": 108,
   "metadata": {
    "pycharm": {
     "name": "#%%\n"
    }
   },
   "outputs": [
    {
     "data": {
      "text/plain": "array([[1, 2, 3, 2, 1, 4],\n       [5, 6, 1, 2, 3, 1]])"
     },
     "execution_count": 108,
     "metadata": {},
     "output_type": "execute_result"
    }
   ],
   "source": [
    "arr1  # (2, 6)"
   ]
  },
  {
   "cell_type": "code",
   "execution_count": 109,
   "metadata": {
    "pycharm": {
     "name": "#%%\n"
    }
   },
   "outputs": [
    {
     "data": {
      "text/plain": "array([[1],\n       [3]])"
     },
     "execution_count": 109,
     "metadata": {},
     "output_type": "execute_result"
    }
   ],
   "source": [
    "arr2  # (2, 1)"
   ]
  },
  {
   "cell_type": "code",
   "execution_count": 110,
   "metadata": {
    "pycharm": {
     "name": "#%%\n"
    }
   },
   "outputs": [
    {
     "data": {
      "text/plain": "array([[2, 3, 4, 3, 2, 5],\n       [8, 9, 4, 5, 6, 4]])"
     },
     "execution_count": 110,
     "metadata": {},
     "output_type": "execute_result"
    }
   ],
   "source": [
    "arr1 + arr2"
   ]
  },
  {
   "cell_type": "code",
   "execution_count": 111,
   "metadata": {
    "pycharm": {
     "name": "#%%\n"
    }
   },
   "outputs": [
    {
     "data": {
      "text/plain": "array([[ 1,  2,  3,  2,  1,  4],\n       [15, 18,  3,  6,  9,  3]])"
     },
     "execution_count": 111,
     "metadata": {},
     "output_type": "execute_result"
    }
   ],
   "source": [
    "arr1 * arr2"
   ]
  },
  {
   "cell_type": "code",
   "execution_count": 112,
   "metadata": {
    "pycharm": {
     "name": "#%%\n"
    }
   },
   "outputs": [
    {
     "data": {
      "text/plain": "array([[1.        , 2.        , 3.        , 2.        , 1.        ,\n        4.        ],\n       [1.66666667, 2.        , 0.33333333, 0.66666667, 1.        ,\n        0.33333333]])"
     },
     "execution_count": 112,
     "metadata": {},
     "output_type": "execute_result"
    }
   ],
   "source": [
    "arr1 / arr2"
   ]
  },
  {
   "cell_type": "markdown",
   "metadata": {
    "pycharm": {
     "name": "#%% md\n"
    }
   },
   "source": [
    "### 矩阵运算"
   ]
  },
  {
   "cell_type": "code",
   "execution_count": 113,
   "metadata": {
    "pycharm": {
     "name": "#%%\n"
    }
   },
   "outputs": [],
   "source": [
    "# ndarray存储矩阵\n",
    "data = np.array([[80, 86],\n",
    "                 [82, 80],\n",
    "                 [85, 78],\n",
    "                 [90, 90],\n",
    "                 [86, 82],\n",
    "                 [82, 90],\n",
    "                 [78, 80],\n",
    "                 [92, 94]])"
   ]
  },
  {
   "cell_type": "code",
   "execution_count": 114,
   "metadata": {
    "pycharm": {
     "name": "#%%\n"
    }
   },
   "outputs": [
    {
     "data": {
      "text/plain": "array([[80, 86],\n       [82, 80],\n       [85, 78],\n       [90, 90],\n       [86, 82],\n       [82, 90],\n       [78, 80],\n       [92, 94]])"
     },
     "execution_count": 114,
     "metadata": {},
     "output_type": "execute_result"
    }
   ],
   "source": [
    "data"
   ]
  },
  {
   "cell_type": "code",
   "execution_count": 115,
   "metadata": {
    "pycharm": {
     "name": "#%%\n"
    }
   },
   "outputs": [],
   "source": [
    "# matrix存储矩阵\n",
    "data_mat = np.mat([[80, 86],\n",
    "                   [82, 80],\n",
    "                   [85, 78],\n",
    "                   [90, 90],\n",
    "                   [86, 82],\n",
    "                   [82, 90],\n",
    "                   [78, 80],\n",
    "                   [92, 94]])"
   ]
  },
  {
   "cell_type": "code",
   "execution_count": 116,
   "metadata": {
    "pycharm": {
     "name": "#%%\n"
    }
   },
   "outputs": [
    {
     "data": {
      "text/plain": "numpy.matrix"
     },
     "execution_count": 116,
     "metadata": {},
     "output_type": "execute_result"
    }
   ],
   "source": [
    "type(data_mat)"
   ]
  },
  {
   "cell_type": "code",
   "execution_count": 117,
   "metadata": {
    "pycharm": {
     "name": "#%%\n"
    }
   },
   "outputs": [
    {
     "data": {
      "text/plain": "array([[80, 86],\n       [82, 80],\n       [85, 78],\n       [90, 90],\n       [86, 82],\n       [82, 90],\n       [78, 80],\n       [92, 94]])"
     },
     "execution_count": 117,
     "metadata": {},
     "output_type": "execute_result"
    }
   ],
   "source": [
    "data  # (8, 2) * (2, 1) = (8, 1)"
   ]
  },
  {
   "cell_type": "code",
   "execution_count": 118,
   "metadata": {
    "pycharm": {
     "name": "#%%\n"
    }
   },
   "outputs": [],
   "source": [
    "weights = np.array([[0.3], [0.7]])"
   ]
  },
  {
   "cell_type": "code",
   "execution_count": 119,
   "metadata": {
    "pycharm": {
     "name": "#%%\n"
    }
   },
   "outputs": [
    {
     "data": {
      "text/plain": "array([[0.3],\n       [0.7]])"
     },
     "execution_count": 119,
     "metadata": {},
     "output_type": "execute_result"
    }
   ],
   "source": [
    "weights"
   ]
  },
  {
   "cell_type": "code",
   "execution_count": 120,
   "metadata": {
    "pycharm": {
     "name": "#%%\n"
    }
   },
   "outputs": [],
   "source": [
    "weights_mat = np.mat([[0.3], [0.7]])"
   ]
  },
  {
   "cell_type": "code",
   "execution_count": 121,
   "metadata": {
    "pycharm": {
     "name": "#%%\n"
    }
   },
   "outputs": [
    {
     "data": {
      "text/plain": "matrix([[0.3],\n        [0.7]])"
     },
     "execution_count": 121,
     "metadata": {},
     "output_type": "execute_result"
    }
   ],
   "source": [
    "weights_mat"
   ]
  },
  {
   "cell_type": "code",
   "execution_count": 122,
   "metadata": {
    "pycharm": {
     "name": "#%%\n"
    }
   },
   "outputs": [
    {
     "data": {
      "text/plain": "array([[80, 86],\n       [82, 80],\n       [85, 78],\n       [90, 90],\n       [86, 82],\n       [82, 90],\n       [78, 80],\n       [92, 94]])"
     },
     "execution_count": 122,
     "metadata": {},
     "output_type": "execute_result"
    }
   ],
   "source": [
    "# 矩阵运算\n",
    "data"
   ]
  },
  {
   "cell_type": "code",
   "execution_count": 123,
   "metadata": {
    "pycharm": {
     "name": "#%%\n"
    }
   },
   "outputs": [
    {
     "data": {
      "text/plain": "array([[0.3],\n       [0.7]])"
     },
     "execution_count": 123,
     "metadata": {},
     "output_type": "execute_result"
    }
   ],
   "source": [
    "weights"
   ]
  },
  {
   "cell_type": "code",
   "execution_count": 124,
   "metadata": {
    "pycharm": {
     "name": "#%%\n"
    }
   },
   "outputs": [
    {
     "data": {
      "text/plain": "array([[84.2],\n       [80.6],\n       [80.1],\n       [90. ],\n       [83.2],\n       [87.6],\n       [79.4],\n       [93.4]])"
     },
     "execution_count": 124,
     "metadata": {},
     "output_type": "execute_result"
    }
   ],
   "source": [
    "np.matmul(data, weights)"
   ]
  },
  {
   "cell_type": "code",
   "execution_count": 125,
   "metadata": {
    "pycharm": {
     "name": "#%%\n"
    }
   },
   "outputs": [
    {
     "data": {
      "text/plain": "array([[84.2],\n       [80.6],\n       [80.1],\n       [90. ],\n       [83.2],\n       [87.6],\n       [79.4],\n       [93.4]])"
     },
     "execution_count": 125,
     "metadata": {},
     "output_type": "execute_result"
    }
   ],
   "source": [
    "np.dot(data, weights)"
   ]
  },
  {
   "cell_type": "code",
   "execution_count": 126,
   "metadata": {
    "pycharm": {
     "name": "#%%\n"
    }
   },
   "outputs": [
    {
     "data": {
      "text/plain": "matrix([[84.2],\n        [80.6],\n        [80.1],\n        [90. ],\n        [83.2],\n        [87.6],\n        [79.4],\n        [93.4]])"
     },
     "execution_count": 126,
     "metadata": {},
     "output_type": "execute_result"
    }
   ],
   "source": [
    "data_mat * weights_mat"
   ]
  },
  {
   "cell_type": "code",
   "execution_count": 127,
   "metadata": {
    "pycharm": {
     "name": "#%%\n"
    }
   },
   "outputs": [
    {
     "data": {
      "text/plain": "array([[84.2],\n       [80.6],\n       [80.1],\n       [90. ],\n       [83.2],\n       [87.6],\n       [79.4],\n       [93.4]])"
     },
     "execution_count": 127,
     "metadata": {},
     "output_type": "execute_result"
    }
   ],
   "source": [
    "data @ weights"
   ]
  },
  {
   "cell_type": "code",
   "execution_count": 128,
   "metadata": {
    "pycharm": {
     "name": "#%%\n"
    }
   },
   "outputs": [
    {
     "data": {
      "text/plain": "array([[80, 86],\n       [82, 80],\n       [85, 78],\n       [90, 90],\n       [86, 82],\n       [82, 90],\n       [78, 80],\n       [92, 94]])"
     },
     "execution_count": 128,
     "metadata": {},
     "output_type": "execute_result"
    }
   ],
   "source": [
    "data  # (8, 2)"
   ]
  },
  {
   "cell_type": "code",
   "execution_count": 129,
   "metadata": {
    "pycharm": {
     "name": "#%%\n"
    }
   },
   "outputs": [
    {
     "ename": "TypeError",
     "evalue": "'numpy.ndarray' object is not callable",
     "output_type": "error",
     "traceback": [
      "\u001B[0;31m---------------------------------------------------------------------------\u001B[0m",
      "\u001B[0;31mTypeError\u001B[0m                                 Traceback (most recent call last)",
      "Input \u001B[0;32mIn [129]\u001B[0m, in \u001B[0;36m<cell line: 1>\u001B[0;34m()\u001B[0m\n\u001B[0;32m----> 1\u001B[0m \u001B[43mweights\u001B[49m\u001B[43m(\u001B[49m\u001B[38;5;241;43m2\u001B[39;49m\u001B[43m,\u001B[49m\u001B[43m \u001B[49m\u001B[38;5;241;43m1\u001B[39;49m\u001B[43m)\u001B[49m\n",
      "\u001B[0;31mTypeError\u001B[0m: 'numpy.ndarray' object is not callable"
     ]
    }
   ],
   "source": [
    "weights(2, 1)"
   ]
  },
  {
   "cell_type": "code",
   "execution_count": null,
   "metadata": {
    "pycharm": {
     "name": "#%%\n"
    }
   },
   "outputs": [],
   "source": [
    "# data * weights 不满足广播机制，不能进行运算"
   ]
  },
  {
   "cell_type": "markdown",
   "metadata": {
    "pycharm": {
     "name": "#%% md\n"
    }
   },
   "source": [
    "### 合并"
   ]
  },
  {
   "cell_type": "code",
   "execution_count": null,
   "metadata": {
    "pycharm": {
     "name": "#%%\n"
    }
   },
   "outputs": [],
   "source": [
    "a = stock_change[:2, 0:4]\n",
    "b = stock_change[4:6, 0:4]"
   ]
  },
  {
   "cell_type": "code",
   "execution_count": null,
   "metadata": {
    "pycharm": {
     "name": "#%%\n"
    }
   },
   "outputs": [],
   "source": [
    "a"
   ]
  },
  {
   "cell_type": "code",
   "execution_count": null,
   "metadata": {
    "pycharm": {
     "name": "#%%\n"
    }
   },
   "outputs": [],
   "source": [
    "a.shape"
   ]
  },
  {
   "cell_type": "code",
   "execution_count": null,
   "metadata": {
    "pycharm": {
     "name": "#%%\n"
    }
   },
   "outputs": [],
   "source": [
    "a.reshape((-1, 2))"
   ]
  },
  {
   "cell_type": "code",
   "execution_count": null,
   "metadata": {
    "pycharm": {
     "name": "#%%\n"
    }
   },
   "outputs": [],
   "source": [
    "b"
   ]
  },
  {
   "cell_type": "code",
   "execution_count": null,
   "metadata": {
    "pycharm": {
     "name": "#%%\n"
    }
   },
   "outputs": [],
   "source": [
    "np.hstack((a, b))"
   ]
  },
  {
   "cell_type": "code",
   "execution_count": null,
   "metadata": {
    "pycharm": {
     "name": "#%%\n"
    }
   },
   "outputs": [],
   "source": [
    "np.concatenate((a, b), axis=1)"
   ]
  },
  {
   "cell_type": "code",
   "execution_count": null,
   "metadata": {
    "pycharm": {
     "name": "#%%\n"
    }
   },
   "outputs": [],
   "source": [
    "np.vstack((a, b))"
   ]
  },
  {
   "cell_type": "code",
   "execution_count": null,
   "metadata": {
    "pycharm": {
     "name": "#%%\n"
    }
   },
   "outputs": [],
   "source": [
    "np.concatenate((a, b), axis=0)"
   ]
  },
  {
   "cell_type": "markdown",
   "metadata": {
    "pycharm": {
     "name": "#%% md\n"
    }
   },
   "source": [
    "### Numpy读取"
   ]
  },
  {
   "cell_type": "code",
   "execution_count": null,
   "metadata": {
    "pycharm": {
     "name": "#%%\n"
    }
   },
   "outputs": [],
   "source": [
    "data = np.genfromtxt(\"numpy_test.csv\", delimiter=\",\")"
   ]
  },
  {
   "cell_type": "code",
   "execution_count": null,
   "metadata": {
    "pycharm": {
     "name": "#%%\n"
    }
   },
   "outputs": [],
   "source": [
    "data"
   ]
  },
  {
   "cell_type": "code",
   "execution_count": null,
   "metadata": {
    "pycharm": {
     "name": "#%%\n"
    }
   },
   "outputs": [],
   "source": [
    "type(data[2, 2])"
   ]
  },
  {
   "cell_type": "code",
   "execution_count": null,
   "metadata": {
    "pycharm": {
     "name": "#%%\n"
    }
   },
   "outputs": [],
   "source": [
    "def fill_nan_by_column_mean(t):\n",
    "    for i in range(t.shape[1]):\n",
    "        # 计算nan的个数\n",
    "        nan_num = np.count_nonzero(t[:, i][t[:, i] != t[:, i]])\n",
    "        if nan_num > 0:\n",
    "            now_col = t[:, i]\n",
    "            # 求和\n",
    "            now_col_not_nan = now_col[np.isnan(now_col) == False].sum()\n",
    "            # 和/个数\n",
    "            now_col_mean = now_col_not_nan / (t.shape[0] - nan_num)\n",
    "            # 赋值给now_col\n",
    "            now_col[np.isnan(now_col)] = now_col_mean\n",
    "            # 赋值给t，即更新t的当前列\n",
    "            t[:, i] = now_col\n",
    "    return t"
   ]
  },
  {
   "cell_type": "code",
   "execution_count": null,
   "metadata": {
    "pycharm": {
     "name": "#%%\n"
    }
   },
   "outputs": [],
   "source": [
    "data"
   ]
  },
  {
   "cell_type": "code",
   "execution_count": null,
   "metadata": {
    "pycharm": {
     "name": "#%%\n"
    }
   },
   "outputs": [],
   "source": [
    "fill_nan_by_column_mean(data)"
   ]
  },
  {
   "cell_type": "code",
   "execution_count": null,
   "metadata": {
    "pycharm": {
     "name": "#%%\n"
    }
   },
   "outputs": [],
   "source": []
  }
 ],
 "metadata": {
  "kernelspec": {
   "display_name": "Python 3",
   "language": "python",
   "name": "python3"
  },
  "language_info": {
   "codemirror_mode": {
    "name": "ipython",
    "version": 3
   },
   "file_extension": ".py",
   "mimetype": "text/x-python",
   "name": "python",
   "nbconvert_exporter": "python",
   "pygments_lexer": "ipython3",
   "version": "3.6.3"
  }
 },
 "nbformat": 4,
 "nbformat_minor": 2
}