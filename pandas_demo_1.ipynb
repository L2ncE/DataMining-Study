{
 "cells": [
  {
   "cell_type": "code",
   "execution_count": 1,
   "metadata": {
    "pycharm": {
     "name": "#%%\n"
    }
   },
   "outputs": [],
   "source": [
    "import numpy as np\n",
    "# 创建一个符合正态分布的10个股票5天的涨跌幅数据\n",
    "stock_change = np.random.normal(0, 1, (10, 5))"
   ]
  },
  {
   "cell_type": "code",
   "execution_count": 2,
   "metadata": {
    "pycharm": {
     "name": "#%%\n"
    }
   },
   "outputs": [
    {
     "data": {
      "text/plain": "array([[-1.13720122, -0.84705082, -0.60440383, -0.73866855,  0.05344463],\n       [ 0.29567682, -0.31667872, -0.37763058,  2.01804873, -1.40196281],\n       [-1.34192662, -0.2804509 , -0.59832513,  1.62005993,  0.15861407],\n       [ 0.20890698, -1.31469504,  1.12355482, -0.3614694 , -0.12160037],\n       [-1.30658235,  0.21281515,  0.97727974,  0.6746839 , -0.37363032],\n       [-0.50643905, -1.09687183,  1.22872379, -0.02162671, -0.13752437],\n       [-0.33069825,  0.44364817,  1.13212416,  1.173337  , -0.814093  ],\n       [ 2.13563817,  0.18501467, -0.45195485,  0.62855199, -1.87797831],\n       [-1.13506028,  0.78904043, -2.11002286,  0.30559254, -1.75032708],\n       [-0.20780586, -1.00933445, -0.94466923,  1.0975878 , -0.93088614]])"
     },
     "execution_count": 2,
     "metadata": {},
     "output_type": "execute_result"
    }
   ],
   "source": [
    "stock_change"
   ]
  },
  {
   "cell_type": "code",
   "execution_count": 3,
   "metadata": {
    "pycharm": {
     "name": "#%%\n"
    }
   },
   "outputs": [],
   "source": [
    "import pandas as pd"
   ]
  },
  {
   "cell_type": "code",
   "execution_count": 4,
   "metadata": {
    "pycharm": {
     "name": "#%%\n"
    }
   },
   "outputs": [
    {
     "data": {
      "text/plain": "          0         1         2         3         4\n0 -1.137201 -0.847051 -0.604404 -0.738669  0.053445\n1  0.295677 -0.316679 -0.377631  2.018049 -1.401963\n2 -1.341927 -0.280451 -0.598325  1.620060  0.158614\n3  0.208907 -1.314695  1.123555 -0.361469 -0.121600\n4 -1.306582  0.212815  0.977280  0.674684 -0.373630\n5 -0.506439 -1.096872  1.228724 -0.021627 -0.137524\n6 -0.330698  0.443648  1.132124  1.173337 -0.814093\n7  2.135638  0.185015 -0.451955  0.628552 -1.877978\n8 -1.135060  0.789040 -2.110023  0.305593 -1.750327\n9 -0.207806 -1.009334 -0.944669  1.097588 -0.930886",
      "text/html": "<div>\n<style scoped>\n    .dataframe tbody tr th:only-of-type {\n        vertical-align: middle;\n    }\n\n    .dataframe tbody tr th {\n        vertical-align: top;\n    }\n\n    .dataframe thead th {\n        text-align: right;\n    }\n</style>\n<table border=\"1\" class=\"dataframe\">\n  <thead>\n    <tr style=\"text-align: right;\">\n      <th></th>\n      <th>0</th>\n      <th>1</th>\n      <th>2</th>\n      <th>3</th>\n      <th>4</th>\n    </tr>\n  </thead>\n  <tbody>\n    <tr>\n      <th>0</th>\n      <td>-1.137201</td>\n      <td>-0.847051</td>\n      <td>-0.604404</td>\n      <td>-0.738669</td>\n      <td>0.053445</td>\n    </tr>\n    <tr>\n      <th>1</th>\n      <td>0.295677</td>\n      <td>-0.316679</td>\n      <td>-0.377631</td>\n      <td>2.018049</td>\n      <td>-1.401963</td>\n    </tr>\n    <tr>\n      <th>2</th>\n      <td>-1.341927</td>\n      <td>-0.280451</td>\n      <td>-0.598325</td>\n      <td>1.620060</td>\n      <td>0.158614</td>\n    </tr>\n    <tr>\n      <th>3</th>\n      <td>0.208907</td>\n      <td>-1.314695</td>\n      <td>1.123555</td>\n      <td>-0.361469</td>\n      <td>-0.121600</td>\n    </tr>\n    <tr>\n      <th>4</th>\n      <td>-1.306582</td>\n      <td>0.212815</td>\n      <td>0.977280</td>\n      <td>0.674684</td>\n      <td>-0.373630</td>\n    </tr>\n    <tr>\n      <th>5</th>\n      <td>-0.506439</td>\n      <td>-1.096872</td>\n      <td>1.228724</td>\n      <td>-0.021627</td>\n      <td>-0.137524</td>\n    </tr>\n    <tr>\n      <th>6</th>\n      <td>-0.330698</td>\n      <td>0.443648</td>\n      <td>1.132124</td>\n      <td>1.173337</td>\n      <td>-0.814093</td>\n    </tr>\n    <tr>\n      <th>7</th>\n      <td>2.135638</td>\n      <td>0.185015</td>\n      <td>-0.451955</td>\n      <td>0.628552</td>\n      <td>-1.877978</td>\n    </tr>\n    <tr>\n      <th>8</th>\n      <td>-1.135060</td>\n      <td>0.789040</td>\n      <td>-2.110023</td>\n      <td>0.305593</td>\n      <td>-1.750327</td>\n    </tr>\n    <tr>\n      <th>9</th>\n      <td>-0.207806</td>\n      <td>-1.009334</td>\n      <td>-0.944669</td>\n      <td>1.097588</td>\n      <td>-0.930886</td>\n    </tr>\n  </tbody>\n</table>\n</div>"
     },
     "execution_count": 4,
     "metadata": {},
     "output_type": "execute_result"
    }
   ],
   "source": [
    "pd.DataFrame(stock_change)"
   ]
  },
  {
   "cell_type": "code",
   "execution_count": 5,
   "metadata": {
    "pycharm": {
     "name": "#%%\n"
    }
   },
   "outputs": [],
   "source": [
    "# 添加行索引\n",
    "stock = [\"股票{}\".format(i) for i in range(10)]"
   ]
  },
  {
   "cell_type": "code",
   "execution_count": 6,
   "metadata": {
    "pycharm": {
     "name": "#%%\n"
    }
   },
   "outputs": [
    {
     "data": {
      "text/plain": "            0         1         2         3         4\n股票0 -1.137201 -0.847051 -0.604404 -0.738669  0.053445\n股票1  0.295677 -0.316679 -0.377631  2.018049 -1.401963\n股票2 -1.341927 -0.280451 -0.598325  1.620060  0.158614\n股票3  0.208907 -1.314695  1.123555 -0.361469 -0.121600\n股票4 -1.306582  0.212815  0.977280  0.674684 -0.373630\n股票5 -0.506439 -1.096872  1.228724 -0.021627 -0.137524\n股票6 -0.330698  0.443648  1.132124  1.173337 -0.814093\n股票7  2.135638  0.185015 -0.451955  0.628552 -1.877978\n股票8 -1.135060  0.789040 -2.110023  0.305593 -1.750327\n股票9 -0.207806 -1.009334 -0.944669  1.097588 -0.930886",
      "text/html": "<div>\n<style scoped>\n    .dataframe tbody tr th:only-of-type {\n        vertical-align: middle;\n    }\n\n    .dataframe tbody tr th {\n        vertical-align: top;\n    }\n\n    .dataframe thead th {\n        text-align: right;\n    }\n</style>\n<table border=\"1\" class=\"dataframe\">\n  <thead>\n    <tr style=\"text-align: right;\">\n      <th></th>\n      <th>0</th>\n      <th>1</th>\n      <th>2</th>\n      <th>3</th>\n      <th>4</th>\n    </tr>\n  </thead>\n  <tbody>\n    <tr>\n      <th>股票0</th>\n      <td>-1.137201</td>\n      <td>-0.847051</td>\n      <td>-0.604404</td>\n      <td>-0.738669</td>\n      <td>0.053445</td>\n    </tr>\n    <tr>\n      <th>股票1</th>\n      <td>0.295677</td>\n      <td>-0.316679</td>\n      <td>-0.377631</td>\n      <td>2.018049</td>\n      <td>-1.401963</td>\n    </tr>\n    <tr>\n      <th>股票2</th>\n      <td>-1.341927</td>\n      <td>-0.280451</td>\n      <td>-0.598325</td>\n      <td>1.620060</td>\n      <td>0.158614</td>\n    </tr>\n    <tr>\n      <th>股票3</th>\n      <td>0.208907</td>\n      <td>-1.314695</td>\n      <td>1.123555</td>\n      <td>-0.361469</td>\n      <td>-0.121600</td>\n    </tr>\n    <tr>\n      <th>股票4</th>\n      <td>-1.306582</td>\n      <td>0.212815</td>\n      <td>0.977280</td>\n      <td>0.674684</td>\n      <td>-0.373630</td>\n    </tr>\n    <tr>\n      <th>股票5</th>\n      <td>-0.506439</td>\n      <td>-1.096872</td>\n      <td>1.228724</td>\n      <td>-0.021627</td>\n      <td>-0.137524</td>\n    </tr>\n    <tr>\n      <th>股票6</th>\n      <td>-0.330698</td>\n      <td>0.443648</td>\n      <td>1.132124</td>\n      <td>1.173337</td>\n      <td>-0.814093</td>\n    </tr>\n    <tr>\n      <th>股票7</th>\n      <td>2.135638</td>\n      <td>0.185015</td>\n      <td>-0.451955</td>\n      <td>0.628552</td>\n      <td>-1.877978</td>\n    </tr>\n    <tr>\n      <th>股票8</th>\n      <td>-1.135060</td>\n      <td>0.789040</td>\n      <td>-2.110023</td>\n      <td>0.305593</td>\n      <td>-1.750327</td>\n    </tr>\n    <tr>\n      <th>股票9</th>\n      <td>-0.207806</td>\n      <td>-1.009334</td>\n      <td>-0.944669</td>\n      <td>1.097588</td>\n      <td>-0.930886</td>\n    </tr>\n  </tbody>\n</table>\n</div>"
     },
     "execution_count": 6,
     "metadata": {},
     "output_type": "execute_result"
    }
   ],
   "source": [
    "pd.DataFrame(stock_change, index=stock)"
   ]
  },
  {
   "cell_type": "code",
   "execution_count": 7,
   "metadata": {
    "pycharm": {
     "name": "#%%\n"
    }
   },
   "outputs": [],
   "source": [
    "# 添加列索引\n",
    "date = pd.date_range(start=\"20220101\", periods=5, freq=\"B\")"
   ]
  },
  {
   "cell_type": "code",
   "execution_count": 8,
   "metadata": {
    "pycharm": {
     "name": "#%%\n"
    }
   },
   "outputs": [
    {
     "data": {
      "text/plain": "DatetimeIndex(['2022-01-03', '2022-01-04', '2022-01-05', '2022-01-06',\n               '2022-01-07'],\n              dtype='datetime64[ns]', freq='B')"
     },
     "execution_count": 8,
     "metadata": {},
     "output_type": "execute_result"
    }
   ],
   "source": [
    "date"
   ]
  },
  {
   "cell_type": "code",
   "execution_count": 9,
   "metadata": {
    "pycharm": {
     "name": "#%%\n"
    }
   },
   "outputs": [],
   "source": [
    "data = pd.DataFrame(stock_change, index=stock, columns=date)"
   ]
  },
  {
   "cell_type": "code",
   "execution_count": 10,
   "metadata": {
    "pycharm": {
     "name": "#%%\n"
    }
   },
   "outputs": [
    {
     "data": {
      "text/plain": "     2022-01-03  2022-01-04  2022-01-05  2022-01-06  2022-01-07\n股票0   -1.137201   -0.847051   -0.604404   -0.738669    0.053445\n股票1    0.295677   -0.316679   -0.377631    2.018049   -1.401963\n股票2   -1.341927   -0.280451   -0.598325    1.620060    0.158614\n股票3    0.208907   -1.314695    1.123555   -0.361469   -0.121600\n股票4   -1.306582    0.212815    0.977280    0.674684   -0.373630\n股票5   -0.506439   -1.096872    1.228724   -0.021627   -0.137524\n股票6   -0.330698    0.443648    1.132124    1.173337   -0.814093\n股票7    2.135638    0.185015   -0.451955    0.628552   -1.877978\n股票8   -1.135060    0.789040   -2.110023    0.305593   -1.750327\n股票9   -0.207806   -1.009334   -0.944669    1.097588   -0.930886",
      "text/html": "<div>\n<style scoped>\n    .dataframe tbody tr th:only-of-type {\n        vertical-align: middle;\n    }\n\n    .dataframe tbody tr th {\n        vertical-align: top;\n    }\n\n    .dataframe thead th {\n        text-align: right;\n    }\n</style>\n<table border=\"1\" class=\"dataframe\">\n  <thead>\n    <tr style=\"text-align: right;\">\n      <th></th>\n      <th>2022-01-03</th>\n      <th>2022-01-04</th>\n      <th>2022-01-05</th>\n      <th>2022-01-06</th>\n      <th>2022-01-07</th>\n    </tr>\n  </thead>\n  <tbody>\n    <tr>\n      <th>股票0</th>\n      <td>-1.137201</td>\n      <td>-0.847051</td>\n      <td>-0.604404</td>\n      <td>-0.738669</td>\n      <td>0.053445</td>\n    </tr>\n    <tr>\n      <th>股票1</th>\n      <td>0.295677</td>\n      <td>-0.316679</td>\n      <td>-0.377631</td>\n      <td>2.018049</td>\n      <td>-1.401963</td>\n    </tr>\n    <tr>\n      <th>股票2</th>\n      <td>-1.341927</td>\n      <td>-0.280451</td>\n      <td>-0.598325</td>\n      <td>1.620060</td>\n      <td>0.158614</td>\n    </tr>\n    <tr>\n      <th>股票3</th>\n      <td>0.208907</td>\n      <td>-1.314695</td>\n      <td>1.123555</td>\n      <td>-0.361469</td>\n      <td>-0.121600</td>\n    </tr>\n    <tr>\n      <th>股票4</th>\n      <td>-1.306582</td>\n      <td>0.212815</td>\n      <td>0.977280</td>\n      <td>0.674684</td>\n      <td>-0.373630</td>\n    </tr>\n    <tr>\n      <th>股票5</th>\n      <td>-0.506439</td>\n      <td>-1.096872</td>\n      <td>1.228724</td>\n      <td>-0.021627</td>\n      <td>-0.137524</td>\n    </tr>\n    <tr>\n      <th>股票6</th>\n      <td>-0.330698</td>\n      <td>0.443648</td>\n      <td>1.132124</td>\n      <td>1.173337</td>\n      <td>-0.814093</td>\n    </tr>\n    <tr>\n      <th>股票7</th>\n      <td>2.135638</td>\n      <td>0.185015</td>\n      <td>-0.451955</td>\n      <td>0.628552</td>\n      <td>-1.877978</td>\n    </tr>\n    <tr>\n      <th>股票8</th>\n      <td>-1.135060</td>\n      <td>0.789040</td>\n      <td>-2.110023</td>\n      <td>0.305593</td>\n      <td>-1.750327</td>\n    </tr>\n    <tr>\n      <th>股票9</th>\n      <td>-0.207806</td>\n      <td>-1.009334</td>\n      <td>-0.944669</td>\n      <td>1.097588</td>\n      <td>-0.930886</td>\n    </tr>\n  </tbody>\n</table>\n</div>"
     },
     "execution_count": 10,
     "metadata": {},
     "output_type": "execute_result"
    }
   ],
   "source": [
    "data"
   ]
  },
  {
   "cell_type": "markdown",
   "metadata": {
    "pycharm": {
     "name": "#%% md\n"
    }
   },
   "source": [
    "###  DataFrame的属性\n"
   ]
  },
  {
   "cell_type": "code",
   "execution_count": 11,
   "metadata": {
    "pycharm": {
     "name": "#%%\n"
    }
   },
   "outputs": [
    {
     "data": {
      "text/plain": "     2022-01-03  2022-01-04  2022-01-05  2022-01-06  2022-01-07\n股票0   -1.137201   -0.847051   -0.604404   -0.738669    0.053445\n股票1    0.295677   -0.316679   -0.377631    2.018049   -1.401963\n股票2   -1.341927   -0.280451   -0.598325    1.620060    0.158614\n股票3    0.208907   -1.314695    1.123555   -0.361469   -0.121600\n股票4   -1.306582    0.212815    0.977280    0.674684   -0.373630\n股票5   -0.506439   -1.096872    1.228724   -0.021627   -0.137524\n股票6   -0.330698    0.443648    1.132124    1.173337   -0.814093\n股票7    2.135638    0.185015   -0.451955    0.628552   -1.877978\n股票8   -1.135060    0.789040   -2.110023    0.305593   -1.750327\n股票9   -0.207806   -1.009334   -0.944669    1.097588   -0.930886",
      "text/html": "<div>\n<style scoped>\n    .dataframe tbody tr th:only-of-type {\n        vertical-align: middle;\n    }\n\n    .dataframe tbody tr th {\n        vertical-align: top;\n    }\n\n    .dataframe thead th {\n        text-align: right;\n    }\n</style>\n<table border=\"1\" class=\"dataframe\">\n  <thead>\n    <tr style=\"text-align: right;\">\n      <th></th>\n      <th>2022-01-03</th>\n      <th>2022-01-04</th>\n      <th>2022-01-05</th>\n      <th>2022-01-06</th>\n      <th>2022-01-07</th>\n    </tr>\n  </thead>\n  <tbody>\n    <tr>\n      <th>股票0</th>\n      <td>-1.137201</td>\n      <td>-0.847051</td>\n      <td>-0.604404</td>\n      <td>-0.738669</td>\n      <td>0.053445</td>\n    </tr>\n    <tr>\n      <th>股票1</th>\n      <td>0.295677</td>\n      <td>-0.316679</td>\n      <td>-0.377631</td>\n      <td>2.018049</td>\n      <td>-1.401963</td>\n    </tr>\n    <tr>\n      <th>股票2</th>\n      <td>-1.341927</td>\n      <td>-0.280451</td>\n      <td>-0.598325</td>\n      <td>1.620060</td>\n      <td>0.158614</td>\n    </tr>\n    <tr>\n      <th>股票3</th>\n      <td>0.208907</td>\n      <td>-1.314695</td>\n      <td>1.123555</td>\n      <td>-0.361469</td>\n      <td>-0.121600</td>\n    </tr>\n    <tr>\n      <th>股票4</th>\n      <td>-1.306582</td>\n      <td>0.212815</td>\n      <td>0.977280</td>\n      <td>0.674684</td>\n      <td>-0.373630</td>\n    </tr>\n    <tr>\n      <th>股票5</th>\n      <td>-0.506439</td>\n      <td>-1.096872</td>\n      <td>1.228724</td>\n      <td>-0.021627</td>\n      <td>-0.137524</td>\n    </tr>\n    <tr>\n      <th>股票6</th>\n      <td>-0.330698</td>\n      <td>0.443648</td>\n      <td>1.132124</td>\n      <td>1.173337</td>\n      <td>-0.814093</td>\n    </tr>\n    <tr>\n      <th>股票7</th>\n      <td>2.135638</td>\n      <td>0.185015</td>\n      <td>-0.451955</td>\n      <td>0.628552</td>\n      <td>-1.877978</td>\n    </tr>\n    <tr>\n      <th>股票8</th>\n      <td>-1.135060</td>\n      <td>0.789040</td>\n      <td>-2.110023</td>\n      <td>0.305593</td>\n      <td>-1.750327</td>\n    </tr>\n    <tr>\n      <th>股票9</th>\n      <td>-0.207806</td>\n      <td>-1.009334</td>\n      <td>-0.944669</td>\n      <td>1.097588</td>\n      <td>-0.930886</td>\n    </tr>\n  </tbody>\n</table>\n</div>"
     },
     "execution_count": 11,
     "metadata": {},
     "output_type": "execute_result"
    }
   ],
   "source": [
    "data # shape (10, 5)"
   ]
  },
  {
   "cell_type": "code",
   "execution_count": 12,
   "metadata": {
    "pycharm": {
     "name": "#%%\n"
    }
   },
   "outputs": [
    {
     "data": {
      "text/plain": "(10, 5)"
     },
     "execution_count": 12,
     "metadata": {},
     "output_type": "execute_result"
    }
   ],
   "source": [
    "data.shape"
   ]
  },
  {
   "cell_type": "code",
   "execution_count": 13,
   "metadata": {
    "pycharm": {
     "name": "#%%\n"
    }
   },
   "outputs": [
    {
     "data": {
      "text/plain": "Index(['股票0', '股票1', '股票2', '股票3', '股票4', '股票5', '股票6', '股票7', '股票8', '股票9'], dtype='object')"
     },
     "execution_count": 13,
     "metadata": {},
     "output_type": "execute_result"
    }
   ],
   "source": [
    "data.index"
   ]
  },
  {
   "cell_type": "code",
   "execution_count": 14,
   "metadata": {
    "pycharm": {
     "name": "#%%\n"
    }
   },
   "outputs": [
    {
     "data": {
      "text/plain": "DatetimeIndex(['2022-01-03', '2022-01-04', '2022-01-05', '2022-01-06',\n               '2022-01-07'],\n              dtype='datetime64[ns]', freq='B')"
     },
     "execution_count": 14,
     "metadata": {},
     "output_type": "execute_result"
    }
   ],
   "source": [
    "data.columns"
   ]
  },
  {
   "cell_type": "code",
   "execution_count": 15,
   "metadata": {
    "pycharm": {
     "name": "#%%\n"
    }
   },
   "outputs": [
    {
     "data": {
      "text/plain": "array([[-1.13720122, -0.84705082, -0.60440383, -0.73866855,  0.05344463],\n       [ 0.29567682, -0.31667872, -0.37763058,  2.01804873, -1.40196281],\n       [-1.34192662, -0.2804509 , -0.59832513,  1.62005993,  0.15861407],\n       [ 0.20890698, -1.31469504,  1.12355482, -0.3614694 , -0.12160037],\n       [-1.30658235,  0.21281515,  0.97727974,  0.6746839 , -0.37363032],\n       [-0.50643905, -1.09687183,  1.22872379, -0.02162671, -0.13752437],\n       [-0.33069825,  0.44364817,  1.13212416,  1.173337  , -0.814093  ],\n       [ 2.13563817,  0.18501467, -0.45195485,  0.62855199, -1.87797831],\n       [-1.13506028,  0.78904043, -2.11002286,  0.30559254, -1.75032708],\n       [-0.20780586, -1.00933445, -0.94466923,  1.0975878 , -0.93088614]])"
     },
     "execution_count": 15,
     "metadata": {},
     "output_type": "execute_result"
    }
   ],
   "source": [
    "data.values"
   ]
  },
  {
   "cell_type": "code",
   "execution_count": 16,
   "metadata": {
    "pycharm": {
     "name": "#%%\n"
    }
   },
   "outputs": [
    {
     "data": {
      "text/plain": "                 股票0       股票1       股票2       股票3       股票4       股票5  \\\n2022-01-03 -1.137201  0.295677 -1.341927  0.208907 -1.306582 -0.506439   \n2022-01-04 -0.847051 -0.316679 -0.280451 -1.314695  0.212815 -1.096872   \n2022-01-05 -0.604404 -0.377631 -0.598325  1.123555  0.977280  1.228724   \n2022-01-06 -0.738669  2.018049  1.620060 -0.361469  0.674684 -0.021627   \n2022-01-07  0.053445 -1.401963  0.158614 -0.121600 -0.373630 -0.137524   \n\n                 股票6       股票7       股票8       股票9  \n2022-01-03 -0.330698  2.135638 -1.135060 -0.207806  \n2022-01-04  0.443648  0.185015  0.789040 -1.009334  \n2022-01-05  1.132124 -0.451955 -2.110023 -0.944669  \n2022-01-06  1.173337  0.628552  0.305593  1.097588  \n2022-01-07 -0.814093 -1.877978 -1.750327 -0.930886  ",
      "text/html": "<div>\n<style scoped>\n    .dataframe tbody tr th:only-of-type {\n        vertical-align: middle;\n    }\n\n    .dataframe tbody tr th {\n        vertical-align: top;\n    }\n\n    .dataframe thead th {\n        text-align: right;\n    }\n</style>\n<table border=\"1\" class=\"dataframe\">\n  <thead>\n    <tr style=\"text-align: right;\">\n      <th></th>\n      <th>股票0</th>\n      <th>股票1</th>\n      <th>股票2</th>\n      <th>股票3</th>\n      <th>股票4</th>\n      <th>股票5</th>\n      <th>股票6</th>\n      <th>股票7</th>\n      <th>股票8</th>\n      <th>股票9</th>\n    </tr>\n  </thead>\n  <tbody>\n    <tr>\n      <th>2022-01-03</th>\n      <td>-1.137201</td>\n      <td>0.295677</td>\n      <td>-1.341927</td>\n      <td>0.208907</td>\n      <td>-1.306582</td>\n      <td>-0.506439</td>\n      <td>-0.330698</td>\n      <td>2.135638</td>\n      <td>-1.135060</td>\n      <td>-0.207806</td>\n    </tr>\n    <tr>\n      <th>2022-01-04</th>\n      <td>-0.847051</td>\n      <td>-0.316679</td>\n      <td>-0.280451</td>\n      <td>-1.314695</td>\n      <td>0.212815</td>\n      <td>-1.096872</td>\n      <td>0.443648</td>\n      <td>0.185015</td>\n      <td>0.789040</td>\n      <td>-1.009334</td>\n    </tr>\n    <tr>\n      <th>2022-01-05</th>\n      <td>-0.604404</td>\n      <td>-0.377631</td>\n      <td>-0.598325</td>\n      <td>1.123555</td>\n      <td>0.977280</td>\n      <td>1.228724</td>\n      <td>1.132124</td>\n      <td>-0.451955</td>\n      <td>-2.110023</td>\n      <td>-0.944669</td>\n    </tr>\n    <tr>\n      <th>2022-01-06</th>\n      <td>-0.738669</td>\n      <td>2.018049</td>\n      <td>1.620060</td>\n      <td>-0.361469</td>\n      <td>0.674684</td>\n      <td>-0.021627</td>\n      <td>1.173337</td>\n      <td>0.628552</td>\n      <td>0.305593</td>\n      <td>1.097588</td>\n    </tr>\n    <tr>\n      <th>2022-01-07</th>\n      <td>0.053445</td>\n      <td>-1.401963</td>\n      <td>0.158614</td>\n      <td>-0.121600</td>\n      <td>-0.373630</td>\n      <td>-0.137524</td>\n      <td>-0.814093</td>\n      <td>-1.877978</td>\n      <td>-1.750327</td>\n      <td>-0.930886</td>\n    </tr>\n  </tbody>\n</table>\n</div>"
     },
     "execution_count": 16,
     "metadata": {},
     "output_type": "execute_result"
    }
   ],
   "source": [
    "data.T"
   ]
  },
  {
   "cell_type": "code",
   "execution_count": 17,
   "metadata": {
    "pycharm": {
     "name": "#%%\n"
    }
   },
   "outputs": [
    {
     "data": {
      "text/plain": "     2022-01-03  2022-01-04  2022-01-05  2022-01-06  2022-01-07\n股票0   -1.137201   -0.847051   -0.604404   -0.738669    0.053445\n股票1    0.295677   -0.316679   -0.377631    2.018049   -1.401963\n股票2   -1.341927   -0.280451   -0.598325    1.620060    0.158614",
      "text/html": "<div>\n<style scoped>\n    .dataframe tbody tr th:only-of-type {\n        vertical-align: middle;\n    }\n\n    .dataframe tbody tr th {\n        vertical-align: top;\n    }\n\n    .dataframe thead th {\n        text-align: right;\n    }\n</style>\n<table border=\"1\" class=\"dataframe\">\n  <thead>\n    <tr style=\"text-align: right;\">\n      <th></th>\n      <th>2022-01-03</th>\n      <th>2022-01-04</th>\n      <th>2022-01-05</th>\n      <th>2022-01-06</th>\n      <th>2022-01-07</th>\n    </tr>\n  </thead>\n  <tbody>\n    <tr>\n      <th>股票0</th>\n      <td>-1.137201</td>\n      <td>-0.847051</td>\n      <td>-0.604404</td>\n      <td>-0.738669</td>\n      <td>0.053445</td>\n    </tr>\n    <tr>\n      <th>股票1</th>\n      <td>0.295677</td>\n      <td>-0.316679</td>\n      <td>-0.377631</td>\n      <td>2.018049</td>\n      <td>-1.401963</td>\n    </tr>\n    <tr>\n      <th>股票2</th>\n      <td>-1.341927</td>\n      <td>-0.280451</td>\n      <td>-0.598325</td>\n      <td>1.620060</td>\n      <td>0.158614</td>\n    </tr>\n  </tbody>\n</table>\n</div>"
     },
     "execution_count": 17,
     "metadata": {},
     "output_type": "execute_result"
    }
   ],
   "source": [
    "data.head(3)"
   ]
  },
  {
   "cell_type": "code",
   "execution_count": 18,
   "metadata": {
    "pycharm": {
     "name": "#%%\n"
    }
   },
   "outputs": [
    {
     "data": {
      "text/plain": "     2022-01-03  2022-01-04  2022-01-05  2022-01-06  2022-01-07\n股票8   -1.135060    0.789040   -2.110023    0.305593   -1.750327\n股票9   -0.207806   -1.009334   -0.944669    1.097588   -0.930886",
      "text/html": "<div>\n<style scoped>\n    .dataframe tbody tr th:only-of-type {\n        vertical-align: middle;\n    }\n\n    .dataframe tbody tr th {\n        vertical-align: top;\n    }\n\n    .dataframe thead th {\n        text-align: right;\n    }\n</style>\n<table border=\"1\" class=\"dataframe\">\n  <thead>\n    <tr style=\"text-align: right;\">\n      <th></th>\n      <th>2022-01-03</th>\n      <th>2022-01-04</th>\n      <th>2022-01-05</th>\n      <th>2022-01-06</th>\n      <th>2022-01-07</th>\n    </tr>\n  </thead>\n  <tbody>\n    <tr>\n      <th>股票8</th>\n      <td>-1.135060</td>\n      <td>0.789040</td>\n      <td>-2.110023</td>\n      <td>0.305593</td>\n      <td>-1.750327</td>\n    </tr>\n    <tr>\n      <th>股票9</th>\n      <td>-0.207806</td>\n      <td>-1.009334</td>\n      <td>-0.944669</td>\n      <td>1.097588</td>\n      <td>-0.930886</td>\n    </tr>\n  </tbody>\n</table>\n</div>"
     },
     "execution_count": 18,
     "metadata": {},
     "output_type": "execute_result"
    }
   ],
   "source": [
    "data.tail(2)"
   ]
  },
  {
   "cell_type": "markdown",
   "metadata": {
    "pycharm": {
     "name": "#%% md\n"
    }
   },
   "source": [
    "### 修改行列索引值"
   ]
  },
  {
   "cell_type": "code",
   "execution_count": null,
   "metadata": {
    "pycharm": {
     "name": "#%%\n"
    }
   },
   "outputs": [],
   "source": [
    "data.head()"
   ]
  },
  {
   "cell_type": "code",
   "execution_count": null,
   "metadata": {
    "pycharm": {
     "name": "#%%\n"
    }
   },
   "outputs": [],
   "source": [
    "# data.index[2] = \"股票88\" 不能单独修改索引"
   ]
  },
  {
   "cell_type": "code",
   "execution_count": null,
   "metadata": {
    "pycharm": {
     "name": "#%%\n"
    }
   },
   "outputs": [],
   "source": [
    "stock_ = [\"股票_{}\".format(i) for i in range(10)]"
   ]
  },
  {
   "cell_type": "code",
   "execution_count": null,
   "metadata": {
    "pycharm": {
     "name": "#%%\n"
    }
   },
   "outputs": [],
   "source": [
    "data.index = stock_"
   ]
  },
  {
   "cell_type": "code",
   "execution_count": null,
   "metadata": {
    "pycharm": {
     "name": "#%%\n"
    }
   },
   "outputs": [],
   "source": [
    "data.index"
   ]
  },
  {
   "cell_type": "code",
   "execution_count": null,
   "metadata": {
    "pycharm": {
     "name": "#%%\n"
    }
   },
   "outputs": [],
   "source": [
    "data"
   ]
  },
  {
   "cell_type": "markdown",
   "metadata": {
    "pycharm": {
     "name": "#%% md\n"
    }
   },
   "source": [
    "### 重设索引"
   ]
  },
  {
   "cell_type": "code",
   "execution_count": null,
   "metadata": {
    "pycharm": {
     "name": "#%%\n"
    }
   },
   "outputs": [],
   "source": [
    "data.reset_index(drop=False)"
   ]
  },
  {
   "cell_type": "markdown",
   "metadata": {
    "pycharm": {
     "name": "#%% md\n"
    }
   },
   "source": [
    "### 设置新索引"
   ]
  },
  {
   "cell_type": "code",
   "execution_count": null,
   "metadata": {
    "pycharm": {
     "name": "#%%\n"
    }
   },
   "outputs": [],
   "source": [
    "df = pd.DataFrame({'month': [1, 4, 7, 10],\n",
    "                    'year': [2012, 2014, 2013, 2014],\n",
    "                    'sale':[55, 40, 84, 31]})"
   ]
  },
  {
   "cell_type": "code",
   "execution_count": null,
   "metadata": {
    "pycharm": {
     "name": "#%%\n"
    }
   },
   "outputs": [],
   "source": [
    "df"
   ]
  },
  {
   "cell_type": "code",
   "execution_count": null,
   "metadata": {
    "pycharm": {
     "name": "#%%\n"
    }
   },
   "outputs": [],
   "source": [
    "# 以月份设置新的索引\n",
    "df.set_index(\"month\", drop=True)"
   ]
  },
  {
   "cell_type": "code",
   "execution_count": null,
   "metadata": {
    "pycharm": {
     "name": "#%%\n"
    }
   },
   "outputs": [],
   "source": [
    "# 设置多个索引，以年和月份\n",
    "new_df = df.set_index([\"year\", \"month\"])"
   ]
  },
  {
   "cell_type": "code",
   "execution_count": null,
   "metadata": {
    "pycharm": {
     "name": "#%%\n"
    }
   },
   "outputs": [],
   "source": [
    "new_df.index"
   ]
  },
  {
   "cell_type": "code",
   "execution_count": null,
   "metadata": {
    "pycharm": {
     "name": "#%%\n"
    }
   },
   "outputs": [],
   "source": [
    "new_df.index.names"
   ]
  },
  {
   "cell_type": "code",
   "execution_count": null,
   "metadata": {
    "pycharm": {
     "name": "#%%\n"
    }
   },
   "outputs": [],
   "source": [
    "new_df.index.levels"
   ]
  },
  {
   "cell_type": "markdown",
   "source": [
    "### Series"
   ],
   "metadata": {
    "collapsed": false,
    "pycharm": {
     "name": "#%% md\n"
    }
   }
  },
  {
   "cell_type": "code",
   "execution_count": null,
   "metadata": {
    "pycharm": {
     "name": "#%%\n"
    }
   },
   "outputs": [],
   "source": [
    "sr = data.iloc[1, :]"
   ]
  },
  {
   "cell_type": "code",
   "execution_count": null,
   "metadata": {
    "pycharm": {
     "name": "#%%\n"
    }
   },
   "outputs": [],
   "source": [
    "sr"
   ]
  },
  {
   "cell_type": "code",
   "execution_count": null,
   "metadata": {
    "pycharm": {
     "name": "#%%\n"
    }
   },
   "outputs": [],
   "source": [
    "sr.index"
   ]
  },
  {
   "cell_type": "code",
   "execution_count": null,
   "metadata": {
    "pycharm": {
     "name": "#%%\n"
    }
   },
   "outputs": [],
   "source": [
    "sr.values"
   ]
  },
  {
   "cell_type": "code",
   "execution_count": null,
   "metadata": {
    "pycharm": {
     "name": "#%%\n"
    }
   },
   "outputs": [],
   "source": [
    "type(sr.values)"
   ]
  },
  {
   "cell_type": "code",
   "execution_count": null,
   "metadata": {
    "pycharm": {
     "name": "#%%\n"
    }
   },
   "outputs": [],
   "source": [
    "pd.Series(np.arange(3, 9, 2), index=[\"a\", \"b\", \"c\"])"
   ]
  },
  {
   "cell_type": "code",
   "execution_count": null,
   "metadata": {
    "pycharm": {
     "name": "#%%\n"
    }
   },
   "outputs": [],
   "source": [
    "pd.Series({'red':100, 'blue':200, 'green': 500, 'yellow':1000})"
   ]
  },
  {
   "cell_type": "markdown",
   "metadata": {
    "pycharm": {
     "name": "#%% md\n"
    }
   },
   "source": [
    "### 4.2 基本数据操作"
   ]
  },
  {
   "cell_type": "code",
   "execution_count": null,
   "metadata": {
    "pycharm": {
     "name": "#%%\n"
    }
   },
   "outputs": [],
   "source": [
    "data = pd.read_csv(\"./stock_day/stock_day.csv\")"
   ]
  },
  {
   "cell_type": "code",
   "execution_count": null,
   "metadata": {
    "pycharm": {
     "name": "#%%\n"
    }
   },
   "outputs": [],
   "source": [
    "data"
   ]
  },
  {
   "cell_type": "code",
   "execution_count": null,
   "metadata": {
    "pycharm": {
     "name": "#%%\n"
    }
   },
   "outputs": [],
   "source": [
    "data = data.drop([\"ma5\",\"ma10\",\"ma20\",\"v_ma5\",\"v_ma10\",\"v_ma20\"], axis=1)"
   ]
  },
  {
   "cell_type": "code",
   "execution_count": null,
   "metadata": {
    "pycharm": {
     "name": "#%%\n"
    }
   },
   "outputs": [],
   "source": [
    "data"
   ]
  },
  {
   "cell_type": "code",
   "execution_count": null,
   "metadata": {
    "pycharm": {
     "name": "#%%\n"
    }
   },
   "outputs": [],
   "source": [
    "stock_change[1, 1]"
   ]
  },
  {
   "cell_type": "code",
   "execution_count": null,
   "metadata": {
    "pycharm": {
     "name": "#%%\n"
    }
   },
   "outputs": [],
   "source": [
    "# data[1, 0] 不能直接进行数字索引"
   ]
  },
  {
   "cell_type": "code",
   "execution_count": null,
   "metadata": {
    "pycharm": {
     "name": "#%%\n"
    }
   },
   "outputs": [],
   "source": [
    "data.head()"
   ]
  },
  {
   "cell_type": "code",
   "execution_count": null,
   "metadata": {
    "pycharm": {
     "name": "#%%\n"
    }
   },
   "outputs": [],
   "source": [
    "data[\"open\"][\"2018-02-26\"]"
   ]
  },
  {
   "cell_type": "code",
   "execution_count": null,
   "metadata": {
    "pycharm": {
     "name": "#%%\n"
    }
   },
   "outputs": [],
   "source": [
    "# data[\"2018-02-26\"][\"open\"] 必须先列后行"
   ]
  },
  {
   "cell_type": "code",
   "execution_count": null,
   "metadata": {
    "pycharm": {
     "name": "#%%\n"
    }
   },
   "outputs": [],
   "source": [
    "data.loc[\"2018-02-26\"][\"open\"]"
   ]
  },
  {
   "cell_type": "code",
   "execution_count": null,
   "metadata": {
    "pycharm": {
     "name": "#%%\n"
    }
   },
   "outputs": [],
   "source": [
    "data.loc[\"2018-02-26\", \"open\"]"
   ]
  },
  {
   "cell_type": "code",
   "execution_count": null,
   "metadata": {
    "pycharm": {
     "name": "#%%\n"
    }
   },
   "outputs": [],
   "source": [
    "data.iloc[1, 0]"
   ]
  },
  {
   "cell_type": "markdown",
   "metadata": {
    "pycharm": {
     "name": "#%% md\n"
    }
   },
   "source": [
    "### 4.2.2 赋值操作"
   ]
  },
  {
   "cell_type": "code",
   "execution_count": null,
   "metadata": {
    "pycharm": {
     "name": "#%%\n"
    }
   },
   "outputs": [],
   "source": [
    "data.open = 100"
   ]
  },
  {
   "cell_type": "code",
   "execution_count": null,
   "metadata": {
    "pycharm": {
     "name": "#%%\n"
    }
   },
   "outputs": [],
   "source": [
    "data.iloc[1, 0] = 222"
   ]
  },
  {
   "cell_type": "code",
   "execution_count": null,
   "metadata": {
    "pycharm": {
     "name": "#%%\n"
    }
   },
   "outputs": [],
   "source": [
    "data.head()"
   ]
  },
  {
   "cell_type": "markdown",
   "metadata": {
    "pycharm": {
     "name": "#%% md\n"
    }
   },
   "source": [
    "### 4.2.3 排序\n"
   ]
  },
  {
   "cell_type": "code",
   "execution_count": null,
   "metadata": {
    "pycharm": {
     "name": "#%%\n"
    }
   },
   "outputs": [],
   "source": [
    "data.sort_values(by=[\"high\", \"p_change\"], ascending=False).head()"
   ]
  },
  {
   "cell_type": "code",
   "execution_count": null,
   "metadata": {
    "pycharm": {
     "name": "#%%\n"
    }
   },
   "outputs": [],
   "source": [
    "data.sort_index().head()"
   ]
  },
  {
   "cell_type": "code",
   "execution_count": null,
   "metadata": {
    "pycharm": {
     "name": "#%%\n"
    }
   },
   "outputs": [],
   "source": [
    "sr = data[\"price_change\"]"
   ]
  },
  {
   "cell_type": "code",
   "execution_count": null,
   "metadata": {
    "pycharm": {
     "name": "#%%\n"
    }
   },
   "outputs": [],
   "source": [
    "sr.sort_values(ascending=False).head()"
   ]
  },
  {
   "cell_type": "code",
   "execution_count": null,
   "metadata": {
    "pycharm": {
     "name": "#%%\n"
    }
   },
   "outputs": [],
   "source": [
    "sr.sort_index().head()"
   ]
  },
  {
   "cell_type": "markdown",
   "metadata": {
    "pycharm": {
     "name": "#%% md\n"
    }
   },
   "source": [
    "### 4.3.1 算术运算"
   ]
  },
  {
   "cell_type": "code",
   "execution_count": null,
   "metadata": {
    "pycharm": {
     "name": "#%%\n"
    }
   },
   "outputs": [],
   "source": [
    "data[\"open\"].add(3).head()"
   ]
  },
  {
   "cell_type": "code",
   "execution_count": null,
   "metadata": {
    "pycharm": {
     "name": "#%%\n"
    }
   },
   "outputs": [],
   "source": [
    "data.sub(100).head()"
   ]
  },
  {
   "cell_type": "code",
   "execution_count": null,
   "metadata": {
    "pycharm": {
     "name": "#%%\n"
    }
   },
   "outputs": [],
   "source": [
    "data[\"close\"].sub(data[\"open\"]).head()"
   ]
  },
  {
   "cell_type": "markdown",
   "metadata": {
    "pycharm": {
     "name": "#%% md\n"
    }
   },
   "source": [
    "### 1 逻辑运算符号<、 >、|、 &"
   ]
  },
  {
   "cell_type": "code",
   "execution_count": null,
   "metadata": {
    "pycharm": {
     "name": "#%%\n"
    }
   },
   "outputs": [],
   "source": [
    "# 例如筛选p_change > 2的日期数据\n",
    "data[data[\"p_change\"] > 2].head()"
   ]
  },
  {
   "cell_type": "code",
   "execution_count": null,
   "metadata": {
    "pycharm": {
     "name": "#%%\n"
    }
   },
   "outputs": [],
   "source": [
    "# 完成一个多个逻辑判断， 筛选p_change > 2并且low > 15\n",
    "data[(data[\"p_change\"] > 2) & (data[\"low\"] > 15)].head()"
   ]
  },
  {
   "cell_type": "code",
   "execution_count": null,
   "metadata": {
    "pycharm": {
     "name": "#%%\n"
    }
   },
   "outputs": [],
   "source": [
    "data.query(\"p_change > 2 & low > 15\").head()"
   ]
  },
  {
   "cell_type": "code",
   "execution_count": null,
   "metadata": {
    "pycharm": {
     "name": "#%%\n"
    }
   },
   "outputs": [],
   "source": [
    "# 判断'turnover'是否为4.19, 2.39\n",
    "data[data[\"turnover\"].isin([4.19, 2.39])]"
   ]
  },
  {
   "cell_type": "markdown",
   "metadata": {
    "pycharm": {
     "name": "#%% md\n"
    }
   },
   "source": [
    "### 4.3.3 统计运算"
   ]
  },
  {
   "cell_type": "code",
   "execution_count": null,
   "metadata": {
    "pycharm": {
     "name": "#%%\n"
    }
   },
   "outputs": [],
   "source": [
    "data.describe()"
   ]
  },
  {
   "cell_type": "code",
   "execution_count": null,
   "metadata": {
    "pycharm": {
     "name": "#%%\n"
    }
   },
   "outputs": [],
   "source": [
    "data.head()"
   ]
  },
  {
   "cell_type": "code",
   "execution_count": null,
   "metadata": {
    "pycharm": {
     "name": "#%%\n"
    }
   },
   "outputs": [],
   "source": [
    "data.max(axis=0)"
   ]
  },
  {
   "cell_type": "code",
   "execution_count": null,
   "metadata": {
    "pycharm": {
     "name": "#%%\n"
    }
   },
   "outputs": [],
   "source": [
    "data.idxmax(axis=0)"
   ]
  },
  {
   "cell_type": "markdown",
   "metadata": {
    "pycharm": {
     "name": "#%% md\n"
    }
   },
   "source": [
    "### 4.3.4 累计统计函数"
   ]
  },
  {
   "cell_type": "code",
   "execution_count": null,
   "metadata": {
    "pycharm": {
     "name": "#%%\n"
    }
   },
   "outputs": [],
   "source": [
    "data[\"p_change\"].sort_index().cumsum().plot()"
   ]
  },
  {
   "cell_type": "markdown",
   "metadata": {
    "pycharm": {
     "name": "#%% md\n"
    }
   },
   "source": [
    "### 4.3.5 自定义运算"
   ]
  },
  {
   "cell_type": "code",
   "execution_count": null,
   "metadata": {
    "pycharm": {
     "name": "#%%\n"
    }
   },
   "outputs": [],
   "source": [
    "data.apply(lambda x: x.max() - x.min())"
   ]
  },
  {
   "cell_type": "code",
   "execution_count": null,
   "metadata": {
    "pycharm": {
     "name": "#%%\n"
    }
   },
   "outputs": [],
   "source": [
    "data.head()"
   ]
  },
  {
   "cell_type": "code",
   "execution_count": null,
   "metadata": {
    "pycharm": {
     "name": "#%%\n"
    }
   },
   "outputs": [],
   "source": [
    "data[\"volume\"].max() - data[\"volume\"].min()"
   ]
  },
  {
   "cell_type": "code",
   "execution_count": null,
   "metadata": {
    "pycharm": {
     "name": "#%%\n"
    }
   },
   "outputs": [],
   "source": [
    "data.plot(x=\"volume\", y=\"turnover\", kind=\"scatter\")"
   ]
  },
  {
   "cell_type": "code",
   "execution_count": null,
   "metadata": {
    "pycharm": {
     "name": "#%%\n"
    }
   },
   "outputs": [],
   "source": [
    "data.plot(x=\"high\", y=\"low\", kind=\"scatter\")"
   ]
  },
  {
   "cell_type": "markdown",
   "metadata": {
    "pycharm": {
     "name": "#%% md\n"
    }
   },
   "source": [
    "### 1 读取csv文件-read_csv()"
   ]
  },
  {
   "cell_type": "code",
   "execution_count": null,
   "metadata": {
    "scrolled": false,
    "pycharm": {
     "name": "#%%\n"
    }
   },
   "outputs": [],
   "source": [
    "pd.read_csv(\"./stock_day/stock_day.csv\", usecols=[\"high\", \"low\", \"open\", \"close\"]).head()"
   ]
  },
  {
   "cell_type": "code",
   "execution_count": null,
   "metadata": {
    "pycharm": {
     "name": "#%%\n"
    }
   },
   "outputs": [],
   "source": [
    "data = pd.read_csv(\"stock_day2.csv\", names=[\"open\", \"high\", \"close\", \"low\", \"volume\", \"price_change\", \"p_change\", \"ma5\", \"ma10\", \"ma20\", \"v_ma5\", \"v_ma10\", \"v_ma20\", \"turnover\"])"
   ]
  },
  {
   "cell_type": "code",
   "execution_count": null,
   "metadata": {
    "pycharm": {
     "name": "#%%\n"
    }
   },
   "outputs": [],
   "source": [
    "# 保存'open'列的数据\n",
    "data[:10].to_csv(\"test.csv\", columns=[\"open\"])"
   ]
  },
  {
   "cell_type": "code",
   "execution_count": null,
   "metadata": {
    "pycharm": {
     "name": "#%%\n"
    }
   },
   "outputs": [],
   "source": [
    "pd.read_csv(\"test.csv\")"
   ]
  },
  {
   "cell_type": "code",
   "execution_count": null,
   "metadata": {
    "pycharm": {
     "name": "#%%\n"
    }
   },
   "outputs": [],
   "source": [
    "data[:10].to_csv(\"test.csv\", columns=[\"open\"], index=False, mode=\"a\", header=False)"
   ]
  },
  {
   "cell_type": "markdown",
   "metadata": {
    "pycharm": {
     "name": "#%% md\n"
    }
   },
   "source": [
    "### 4.5.3 JSON"
   ]
  },
  {
   "cell_type": "code",
   "execution_count": null,
   "metadata": {
    "pycharm": {
     "name": "#%%\n"
    }
   },
   "outputs": [],
   "source": [
    "sa = pd.read_json(\"Sarcasm_Headlines_Dataset.json\", orient=\"records\", lines=True)"
   ]
  },
  {
   "cell_type": "code",
   "execution_count": null,
   "metadata": {
    "pycharm": {
     "name": "#%%\n"
    }
   },
   "outputs": [],
   "source": [
    "sa"
   ]
  },
  {
   "cell_type": "code",
   "execution_count": null,
   "metadata": {
    "pycharm": {
     "name": "#%%\n"
    }
   },
   "outputs": [],
   "source": [
    "sa.to_json(\"test.json\", orient=\"records\", lines=True)"
   ]
  },
  {
   "cell_type": "code",
   "execution_count": null,
   "metadata": {
    "pycharm": {
     "name": "#%%\n"
    }
   },
   "outputs": [],
   "source": []
  }
 ],
 "metadata": {
  "kernelspec": {
   "display_name": "Python 3",
   "language": "python",
   "name": "python3"
  },
  "language_info": {
   "codemirror_mode": {
    "name": "ipython",
    "version": 3
   },
   "file_extension": ".py",
   "mimetype": "text/x-python",
   "name": "python",
   "nbconvert_exporter": "python",
   "pygments_lexer": "ipython3",
   "version": "3.6.3"
  }
 },
 "nbformat": 4,
 "nbformat_minor": 2
}